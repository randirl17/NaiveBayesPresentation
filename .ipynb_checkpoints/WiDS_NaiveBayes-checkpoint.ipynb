{
 "cells": [
  {
   "cell_type": "markdown",
   "metadata": {},
   "source": [
    "July 28, 2016 - Women in Data Science Meetup - \"Data Science from Scratch\" Workshop #5"
   ]
  },
  {
   "cell_type": "markdown",
   "metadata": {},
   "source": [
    "# Data Science from Scratch Tutorial\n",
    "## Naive Bayes\n",
    "### Julia Galstad 2016"
   ]
  },
  {
   "cell_type": "markdown",
   "metadata": {},
   "source": [
    "The goal of this notebook is to understand the Naive Bayes classifier found in chapter 13 of 'Data Science from Scratch' by Joel Grus. This project is creating a baby spam filter using the data from the SpamAssassin Public Corpus. https://spamassassin.apache.org/publiccorpus/\n",
    "\n",
    "To help familiarize with concepts and notation, there are some problems at the beginning that can be done 'by hand.' Please skip as much as you'd like.\n",
    "\n",
    "At the end of this notebook, there is a brief discussion of the distributions commonly used with Naive Bayes, and a small reference to one with a Guassian normal distribution to provide contrast."
   ]
  },
  {
   "cell_type": "markdown",
   "metadata": {},
   "source": [
    "### Import Libraries"
   ]
  },
  {
   "cell_type": "code",
   "execution_count": 1,
   "metadata": {
    "collapsed": false
   },
   "outputs": [],
   "source": [
    "from __future__ import division                   \n",
    "from collections import defaultdict, Counter      \n",
    "import re                                   # for 'regular expression' operations\n",
    "import glob                                 # for work with pathname patterns\n",
    "import math, random\n",
    "import notebook_answers as ans              # not a standard python module\n",
    "                                            # contains hints and answers"
   ]
  },
  {
   "cell_type": "markdown",
   "metadata": {},
   "source": [
    "## Conditional Probability and Bayes' Theorem\n",
    "### Cookie example"
   ]
  },
  {
   "cell_type": "markdown",
   "metadata": {},
   "source": [
    "Let's practice applying Bayes' Theorem by solving the cookie problem formally found on <a href=\"https://en.wikipedia.org/wiki/Bayes%27_theorem\" target=\"_blank\">this</a> Wikipedia page. (Thank you to Allen Downey for preserving it.)"
   ]
  },
  {
   "cell_type": "markdown",
   "metadata": {},
   "source": [
    "There are two bowls of cookies:\n",
    "\n",
    "    Bowl #1 has 30 oatmeal cookies and 10 chocolate cookies. \n",
    "    \n",
    "    Bowl #2 has 20 oatmeal cookies and 20 chocolate cookies.\n",
    "    \n",
    "Someone gets an oatmeal cookie. What is the probability it is from Bowl #1?\n",
    "    "
   ]
  },
  {
   "cell_type": "markdown",
   "metadata": {},
   "source": [
    "### Before solving this question, let's calculate some other helpful probabilities."
   ]
  },
  {
   "cell_type": "markdown",
   "metadata": {},
   "source": [
    "### Step 1"
   ]
  },
  {
   "cell_type": "markdown",
   "metadata": {},
   "source": [
    "### <font color='blue'>What is $P($Bowl #1$)$, the probability a cookie is from Bowl #1, before knowing it was oatmeal or chocolate? </font>"
   ]
  },
  {
   "cell_type": "code",
   "execution_count": 38,
   "metadata": {
    "collapsed": false
   },
   "outputs": [
    {
     "name": "stdout",
     "output_type": "stream",
     "text": [
      "0.5\n"
     ]
    }
   ],
   "source": [
    "p_1 = .5\n",
    "# You can get a hint or the answer if you choose \n",
    "# and/or use the python notebook as your calculator.\n",
    "#print(ans.hint(1))\n",
    "#print(ans.hint(1.5))\n",
    "print(ans.answer(1))"
   ]
  },
  {
   "cell_type": "markdown",
   "metadata": {},
   "source": [
    "### Step 2"
   ]
  },
  {
   "cell_type": "markdown",
   "metadata": {},
   "source": [
    "### <font color='blue'>What is $P($oatmeal$\\mid$Bowl #1$)$, the probability a cookie is oatmeal given that it came from Bowl #1? </font>"
   ]
  },
  {
   "cell_type": "code",
   "execution_count": 37,
   "metadata": {
    "collapsed": false
   },
   "outputs": [
    {
     "name": "stdout",
     "output_type": "stream",
     "text": [
      "0.75\n"
     ]
    }
   ],
   "source": [
    "p_oat1 = .75\n",
    "#print(ans.hint(2))\n",
    "#print(ans.hint(2.5))\n",
    "print(ans.answer(2))"
   ]
  },
  {
   "cell_type": "markdown",
   "metadata": {},
   "source": [
    "### Step 3"
   ]
  },
  {
   "cell_type": "markdown",
   "metadata": {},
   "source": [
    "### <font color='blue'>What is $P($oatmeal$)$, the probability a cookie is oatmeal? </font>\n",
    "\n",
    "This question can be solved in two ways. \n",
    "\n",
    "Let's practice using the Law of Total Probability: $$P(E) = P(H)P(E\\mid H) + P(\\neg H)P(E\\mid \\neg H).$$\n",
    "\n",
    "In our cookie example you would calculate:\n",
    "\n",
    "$$P({\\rm oatmeal}) = P({\\rm Bowl}\\,{\\rm \\#1})P({\\rm oatmeal}\\mid {\\rm Bowl}\\,{\\rm \\#1 }) + P({\\rm Bowl}\\,{\\rm\\#2})P({\\rm oatmeal }\\mid{\\rm Bowl}\\,{\\rm \\#2 }).$$"
   ]
  },
  {
   "cell_type": "code",
   "execution_count": 40,
   "metadata": {
    "collapsed": false
   },
   "outputs": [
    {
     "name": "stdout",
     "output_type": "stream",
     "text": [
      "0.625\n",
      "0.625\n"
     ]
    }
   ],
   "source": [
    "p_2 = 0.5\n",
    "p_oat2 = 0.5\n",
    "p_oat = p_1*p_oat1 + p_2*p_oat2\n",
    "print(p_oat)\n",
    "#print(ans.hint(3))\n",
    "#print(ans.hint(3.5))\n",
    "print(ans.answer(3))"
   ]
  },
  {
   "cell_type": "markdown",
   "metadata": {},
   "source": [
    "### Now we're nearly ready to put it all together to answer the main question:"
   ]
  },
  {
   "cell_type": "markdown",
   "metadata": {},
   "source": [
    "\n",
    "### <font color='blue'>What is $P($ Bowl #1$\\mid$oatmeal $)$, the probability that the cookie was from Bowl #1, given that it's oatmeal? </font>"
   ]
  },
  {
   "cell_type": "markdown",
   "metadata": {},
   "source": [
    "### Let's use Bayes' Theorem to solve this. \n",
    "\n",
    "We can state Bayes' Theorem as\n",
    "\n",
    "$$ P(H \\mid E) = \\frac{P(H)P(E \\mid H)}{P(E)}$$\n",
    "\n",
    "where $H$ is the hypothesis, and $E$ is the evidence.\n",
    "\n"
   ]
  },
  {
   "cell_type": "markdown",
   "metadata": {},
   "source": [
    "In this example, the hypothesis, $H$, is:\n",
    "\n",
    "    'the cookie is from Bowl #1' \n",
    "and the evidence, $E$, is:\n",
    "\n",
    "    'the cookie is oatmeal.' \n",
    "    \n",
    "We could write out Bayes' Theorem for our example like this:\n",
    "$$P({\\rm Bowl}\\,{\\rm \\#1} \\mid{\\rm oatmeal}) = \\frac{P({\\rm Bowl}\\,{\\rm \\#1})P({\\rm oatmeal}\\mid {\\rm Bowl}\\,{\\rm \\#1 })}{P({\\rm oatmeal})}.$$\n",
    "\n",
    "Recall, we want to solve for $P($ Bowl #1$\\mid$oatmeal $)$, the probability that the cookie was from Bowl #1, given that it's oatmeal.\n",
    "\n",
    "We've already calculated the values we need to plug into Bayes' Theorem, so now let's do just that: substitute the values into the right hand side of the formula."
   ]
  },
  {
   "cell_type": "code",
   "execution_count": 41,
   "metadata": {
    "collapsed": false
   },
   "outputs": [
    {
     "name": "stdout",
     "output_type": "stream",
     "text": [
      "0.6\n",
      "0.6\n"
     ]
    }
   ],
   "source": [
    "p_1oat = p_1*p_oat1/p_oat\n",
    "print(p_1oat)\n",
    "#print(ans.hint(4))\n",
    "print(ans.answer(4))"
   ]
  },
  {
   "cell_type": "markdown",
   "metadata": {},
   "source": [
    "### Bayesian interpretation: accounting for new evidence"
   ]
  },
  {
   "cell_type": "markdown",
   "metadata": {},
   "source": [
    "'In the Bayesian (or epistemological) interpretation, probability measures a degree of belief. Bayes' theorem then links the degree of belief in a proposition before and after accounting for evidence.' (<a href=\"https://en.wikipedia.org/wiki/Bayes%27_theorem\" target=\"_blank\">Wikipedia</a>)\n",
    "\n",
    "In the cookie example, our original hypothesis was the belief that the cookie was from Bowl #1. We then found new evidence, that it was oatmeal. We then updated our belief to include this new information using Bayes' Theorem."
   ]
  },
  {
   "cell_type": "markdown",
   "metadata": {},
   "source": [
    "### <font color='blue'>What kind of evidence do you think makes sense to use to determine if an email is spam or not? </font>"
   ]
  },
  {
   "cell_type": "markdown",
   "metadata": {},
   "source": [
    "You may discuss your ideas with your group and/or post them to the slack channel."
   ]
  },
  {
   "cell_type": "markdown",
   "metadata": {},
   "source": [
    "## Building Intuition towards a Naive Bayes spam classifier\n",
    "### Using words as evidence"
   ]
  },
  {
   "cell_type": "markdown",
   "metadata": {},
   "source": [
    "Our spam filter will use the occurence of a word in a message as evidence.\n",
    "\n",
    "Specifically, if our training set emails contain $n$ distinct words, $w_1, \\dots, w_n$, we will have $n$ features/events $X_1, \\dots, X_n$, where $X_i$ stands for 'a message contains the word $w_i$.' We are assuming (which is false, as described in the talk) that the features are independent. \n",
    "\n",
    "We call the set of words $w_1, \\dots, w_n$ a $vocabulary$. \n",
    "\n",
    "For each word $w_i$, we calculate conditional probabilities of that word occuring in a spam message and in a non-spam message, $P(X_i\\mid S)$ and $P(X_i\\mid \\neg S)$, respectively, where $S$ is spam.\n",
    "\n",
    "To calculate this values, we need to determine which words occur in which emails.\n",
    "\n",
    "### Tokenizing messages\n",
    "\n",
    "Given some email data set, we want to $tokenize$ each message. For us, that means to turn each message into a collection of unique lowercase words that the message was comprised of. \n",
    "\n",
    "If you're familiar with NLP, you know you would want to throw out function words like $of$, $the$. Our simple ``tokenize`` function doesn't do that. \n",
    "\n",
    "There are much more proficient tokenizers available for Python. For example, see <a href=\"https://pythonprogramming.net/tokenizing-words-sentences-nltk-tutorial/ \"target=\"_blank\">this tutorial</a> on NLTK.\n",
    "\n",
    "The function ``tokenize`` from Joel Grus is below."
   ]
  },
  {
   "cell_type": "code",
   "execution_count": 7,
   "metadata": {
    "collapsed": true
   },
   "outputs": [],
   "source": [
    "def tokenize(message):\n",
    "    message = message.lower()                       # convert to lowercase\n",
    "    all_words = re.findall(\"[a-z0-9']+\", message)   # extract the words, can also use \\w as the filter\n",
    "    return set(all_words)                           # remove duplicates"
   ]
  },
  {
   "cell_type": "markdown",
   "metadata": {},
   "source": [
    "### Example use of ``re.findall``"
   ]
  },
  {
   "cell_type": "markdown",
   "metadata": {},
   "source": [
    "The first argument, ``\"[a-z0-9']+\"``, that we pass to ``re.findall`` is a <a href=\"https://en.wikipedia.org/wiki/Regular_expression\" target=\"_blank\">regular expression</a>, which is a specific syntax that represents a pattern that we want our text to match. \n",
    "\n",
    "Using ``[a-z0-9']+`` indicates we are looking for words that contain the symbols: ``a-z0-9'``. \n",
    "\n",
    "The ``+`` symbol indicates we want words and not just letters."
   ]
  },
  {
   "cell_type": "code",
   "execution_count": 8,
   "metadata": {
    "collapsed": false
   },
   "outputs": [
    {
     "data": {
      "text/plain": [
       "['a', 'b', 'c', 's', 'o', 'f', 't', 'e', 's', 't']"
      ]
     },
     "execution_count": 8,
     "metadata": {},
     "output_type": "execute_result"
    }
   ],
   "source": [
    "re.findall(\"[a-z0-9]\", \"abc's:of testING;\")"
   ]
  },
  {
   "cell_type": "code",
   "execution_count": 9,
   "metadata": {
    "collapsed": false
   },
   "outputs": [
    {
     "data": {
      "text/plain": [
       "[\"abc's\", 'of', 'test', '42', 'up', '42sup', '42sup']"
      ]
     },
     "execution_count": 9,
     "metadata": {},
     "output_type": "execute_result"
    }
   ],
   "source": [
    "re.findall(\"[a-z0-9']+\", \"abc's:of testING;42Sup 42sup 42sup\")"
   ]
  },
  {
   "cell_type": "markdown",
   "metadata": {},
   "source": [
    "### Example use of ``tokenize``"
   ]
  },
  {
   "cell_type": "code",
   "execution_count": 10,
   "metadata": {
    "collapsed": false
   },
   "outputs": [
    {
     "data": {
      "text/plain": [
       "{'are',\n",
       " 'around',\n",
       " 'as',\n",
       " 'back',\n",
       " 'began',\n",
       " 'dead',\n",
       " 'gared',\n",
       " 'growdark',\n",
       " 'should',\n",
       " 'start',\n",
       " 'the',\n",
       " 'them',\n",
       " 'to',\n",
       " 'urged',\n",
       " 'we',\n",
       " 'wildlings',\n",
       " 'woods'}"
      ]
     },
     "execution_count": 10,
     "metadata": {},
     "output_type": "execute_result"
    }
   ],
   "source": [
    "tokenize('\"We should start back\", Gared urged as the woods began to grow'\n",
    "         'dark around them. \"The wildlings are dead.\"')"
   ]
  },
  {
   "cell_type": "markdown",
   "metadata": {},
   "source": [
    "### <font color='blue'>Just for fun -- Who wrote these sentences? </font>"
   ]
  },
  {
   "cell_type": "code",
   "execution_count": 11,
   "metadata": {
    "collapsed": false
   },
   "outputs": [
    {
     "name": "stdout",
     "output_type": "stream",
     "text": [
      "George R. R. Martin wrote these sentences to begin the book \n",
      "'A Game of Thrones - A Song of Ice and Fire'\n"
     ]
    }
   ],
   "source": [
    "print(ans.answer(9))"
   ]
  },
  {
   "cell_type": "markdown",
   "metadata": {},
   "source": [
    "### Counting words"
   ]
  },
  {
   "cell_type": "markdown",
   "metadata": {},
   "source": [
    "In order to estimate conditional probabilities, we count the occurences of the words.\n",
    "\n",
    "The function ``count_words`` by Joel Grus tokenizes a message and then 'return a dictionary whose keys are words, and whose values are two-element lists ``[spam_count, non_spam_count]`` corresponding to how many times we saw that word in both spam and nonspam messages.'"
   ]
  },
  {
   "cell_type": "code",
   "execution_count": 12,
   "metadata": {
    "collapsed": true
   },
   "outputs": [],
   "source": [
    "def count_words(training_set):\n",
    "    \"\"\"training set consists of pairs (message, is_spam)\"\"\"\n",
    "    counts = defaultdict(lambda: [0, 0])\n",
    "    for message, is_spam in training_set:\n",
    "        for word in tokenize(message):\n",
    "            counts[word][0 if is_spam else 1] += 1\n",
    "    return counts"
   ]
  },
  {
   "cell_type": "markdown",
   "metadata": {},
   "source": [
    "### A toy example -- from ``count_words`` to computing conditional probabilities\n",
    "\n",
    "Let's pretend that we just ran ``count_words`` on a small training set (with 400 spams and 425 non-spams), and returned this dictionary, which we saved as ``winter_dict``.\n",
    "\n",
    "The dictionary keys are the words of our vocabulary.\n",
    "The dictionary value associated with its key (a word) is a list that contains the total number of spam emails in which that word occured and the total number of non-spam emails in which that word occured. \n",
    "\n",
    "``{``'``word``': [``spam_count``, ``non_spam_count``]``}``"
   ]
  },
  {
   "cell_type": "code",
   "execution_count": 13,
   "metadata": {
    "collapsed": false
   },
   "outputs": [],
   "source": [
    "no_of_training_spams = 400\n",
    "no_of_training_hams = 425\n",
    "\n",
    "winter_dict = {'hodor': [100, 400], 'winter': [50, 20], 'witch': [300, 10], 'red': [10, 100], 'dragon': [0, 10]}"
   ]
  },
  {
   "cell_type": "markdown",
   "metadata": {},
   "source": [
    "### Let's think about how to calculate the conditional probabilities we'll need for Naive Bayes using a dictionary like this. Take 5 minutes to answer three questions about ``winter_dict``."
   ]
  },
  {
   "cell_type": "markdown",
   "metadata": {},
   "source": [
    "### <font color='blue'>1. How many words are in our vocabulary? What are they? </font>"
   ]
  },
  {
   "cell_type": "code",
   "execution_count": 42,
   "metadata": {
    "collapsed": false
   },
   "outputs": [
    {
     "data": {
      "text/plain": [
       "5"
      ]
     },
     "execution_count": 42,
     "metadata": {},
     "output_type": "execute_result"
    }
   ],
   "source": [
    "len(winter_dict)"
   ]
  },
  {
   "cell_type": "code",
   "execution_count": 43,
   "metadata": {
    "collapsed": false
   },
   "outputs": [
    {
     "name": "stdout",
     "output_type": "stream",
     "text": [
      "There are 5 words in our vocabulary, which are exactly the \n",
      "keys of the dictionary: 'hodor', 'winter', 'witch', 'red', 'dragon'. \n"
     ]
    }
   ],
   "source": [
    "print(ans.answer(10))"
   ]
  },
  {
   "cell_type": "markdown",
   "metadata": {},
   "source": [
    "### <font color='blue'>2. Using the dictionary ``winter_dict``, estimate $P(X_1 \\mid S)$. That is, estimate $P($ 'hodor' $\\mid$ spam $)$, the probability that a message has the word ``'hodor'``, given that we know it is spam. </font>"
   ]
  },
  {
   "cell_type": "markdown",
   "metadata": {},
   "source": [
    "You could use the definition of conditional probability to solve this. However, thinking of the condition 'spam' as restricting the sample space, we can solve this question by counting.\n",
    "\n",
    "This is the calculation you want:\n",
    "\n",
    "``no_of_training_spams_containing_hodor / no_of_training_spams``\n"
   ]
  },
  {
   "cell_type": "code",
   "execution_count": 71,
   "metadata": {
    "collapsed": false
   },
   "outputs": [
    {
     "name": "stdout",
     "output_type": "stream",
     "text": [
      "[100, 300, 0, 50, 10]\n",
      "[400, 10, 10, 20, 100]\n",
      "0.25\n",
      "0.25\n"
     ]
    }
   ],
   "source": [
    "#p_xspam = sum(winter_dict.values[0])\n",
    "spam = []\n",
    "notspam = []\n",
    "for val1,val2 in winter_dict.values():\n",
    "    spam.append(val1)\n",
    "    notspam.append(val2)\n",
    "\n",
    "print(spam)\n",
    "print(notspam)\n",
    "\n",
    "p_word_given_stat = {}\n",
    "for word in winter_dict.keys():\n",
    "    p_word_given_stat[word] = [winter_dict[word][0]/no_of_training_spams, winter_dict[word][1]/no_of_training_hams]\n",
    "p_word_given_stat\n",
    "\n",
    "# Uncomment below and run once you've assigned no_of_training_spams_containing_hodor\n",
    "no_of_training_spams_containing_hodor = winter_dict['hodor'][0]\n",
    "\n",
    "#no_of_training_spams_containing_hodor =\n",
    "print(no_of_training_spams_containing_hodor / no_of_training_spams)\n",
    "\n",
    "#print(ans.hint(11))\n",
    "#print(ans.hint(11.5))\n",
    "print(ans.answer(11))"
   ]
  },
  {
   "cell_type": "markdown",
   "metadata": {},
   "source": [
    "#### (We're using the symbol $\\neg$ to indicate negation. This way we can write 'not spam' as $\\neg S$.)"
   ]
  },
  {
   "cell_type": "markdown",
   "metadata": {},
   "source": [
    "### <font color='blue'>3. Using the dictionary ``winter_dict``, estimate $P(X_1 \\mid \\neg S)$. That is, estimate $P($ 'hodor' $\\mid$ not spam $)$, the probability that a message has the word ``'hodor'``, given that we know the message is not spam. </font>"
   ]
  },
  {
   "cell_type": "markdown",
   "metadata": {},
   "source": [
    "This question is similar to the previous one.\n",
    "\n",
    "This is the calculation you want:\n",
    "    \n",
    "``no_of_training_hams_containing_hodor / no_of_training_hams``"
   ]
  },
  {
   "cell_type": "code",
   "execution_count": 74,
   "metadata": {
    "collapsed": false
   },
   "outputs": [
    {
     "name": "stdout",
     "output_type": "stream",
     "text": [
      "0.9411764705882353\n",
      "0.9411764705882353\n",
      "dict_items([('hodor', [0.25, 0.9411764705882353]), ('witch', [0.75, 0.023529411764705882]), ('dragon', [0.0, 0.023529411764705882]), ('winter', [0.125, 0.047058823529411764]), ('red', [0.025, 0.23529411764705882])])\n"
     ]
    }
   ],
   "source": [
    "# Uncomment below and run once you've assigned no_of_training_hams_containing_hodor\n",
    "\n",
    "no_of_training_hams_containing_hodor = winter_dict['hodor'][1]\n",
    "print(no_of_training_hams_containing_hodor / no_of_training_hams)\n",
    "\n",
    "#print(ans.hint(12))\n",
    "#print(ans.hint(12.5))\n",
    "print(ans.answer(12))\n",
    "print(p_word_given_stat.items())"
   ]
  },
  {
   "cell_type": "markdown",
   "metadata": {},
   "source": [
    "### Now that we've calculated these conditional probabilities that we'll need for Naive Bayes, we can make a function that calculates them automatically.\n",
    "\n",
    "\n",
    "We define a function ``word_probabilities_prototype`` that assigns conditional probabilites to words in our vocabulary:"
   ]
  },
  {
   "cell_type": "code",
   "execution_count": 20,
   "metadata": {
    "collapsed": true
   },
   "outputs": [],
   "source": [
    "def word_probabilities_prototype(counts, total_spams, total_non_spams):\n",
    "    \"\"\"Turn the word_counts into a list of triplets\n",
    "    word, p(word | spam) and p(word | not spam)\"\"\"\n",
    "    return [(word,\n",
    "             spam / total_spams ,\n",
    "             non_spam / total_non_spams)\n",
    "             for word, (spam, non_spam) in counts.items()]"
   ]
  },
  {
   "cell_type": "markdown",
   "metadata": {},
   "source": [
    "Let's apply the function ``word_probabilities_prototype`` to our toy dictionary ``winter_dict``:"
   ]
  },
  {
   "cell_type": "code",
   "execution_count": 21,
   "metadata": {
    "collapsed": false
   },
   "outputs": [
    {
     "name": "stdout",
     "output_type": "stream",
     "text": [
      "[('hodor', 0.25, 0.9411764705882353), ('witch', 0.75, 0.023529411764705882), ('dragon', 0.0, 0.023529411764705882), ('winter', 0.125, 0.047058823529411764), ('red', 0.025, 0.23529411764705882)]\n"
     ]
    }
   ],
   "source": [
    "winter_word_probabilities = word_probabilities_prototype(winter_dict, 400, 425)\n",
    "print(winter_word_probabilities)"
   ]
  },
  {
   "cell_type": "markdown",
   "metadata": {},
   "source": [
    "A word of caution: Dictionaries don't preserve order.\n",
    "\n",
    "When ``word_probabilities_prototype`` iterates through key-value pairs in ``winter_dict``, the word associated with the second feature might not appear second in the list ``winter_word_probabilities``. \n",
    "\n",
    "In fact, for me, I decided the word associated with feature $X_2$ is `'winter'`, but ``winter_words_probabilties[2]=('winter', 0.125, 0.047058823529411764)``."
   ]
  },
  {
   "cell_type": "markdown",
   "metadata": {},
   "source": [
    "### Now let's classify some messages!"
   ]
  },
  {
   "cell_type": "markdown",
   "metadata": {},
   "source": [
    "We are going to start off with the message ``'Hodor Hodor Bran'``, which in our test set isn't spam."
   ]
  },
  {
   "cell_type": "markdown",
   "metadata": {},
   "source": [
    "Remember our features are the presence (or absence) of our vocabulary words in the message, so the fact that ``'Hodor'`` appears twice, or the fact that the word ``'Bran'`` appears at all, are irrelevant."
   ]
  },
  {
   "cell_type": "markdown",
   "metadata": {},
   "source": [
    "### What features represent this message?"
   ]
  },
  {
   "cell_type": "markdown",
   "metadata": {},
   "source": [
    "Thinking about the vocabulary of our model, the probability that the message ``'Hodor Hodor Bran'`` is spam (and this is an abuse of notation here) is:\n",
    "$$P({\\rm Spam }\\mid {\\rm hodor = True, winter = False, witch = False, red = False, dragon = False})$$\n",
    "\n",
    "In appropriate notation, this is the probability we are estimating:\n",
    "$$P(S \\mid X_1, \\neg X_2, \\neg X_3, \\neg X_4, \\neg X_5)$$\n",
    "\n",
    "As shorthand, you could write: $$P(S\\mid E)$$ where $E$ stands for the evidence described by our features: $X_1, \\neg X_2, \\neg X_3, \\neg X_4, \\neg X_5$.\n",
    "\n",
    "We then apply Bayes' Theorem to get:\n",
    "$$P(S \\mid E) = \\frac{P(S)P(E\\mid S)}{P(E)}$$"
   ]
  },
  {
   "cell_type": "markdown",
   "metadata": {},
   "source": [
    "### Probability of Spam Assumption"
   ]
  },
  {
   "cell_type": "markdown",
   "metadata": {},
   "source": [
    "We'll assume that a message is equally likely to be spam or not spam, so we set $P(S) = P (\\neg S) = 0.5$."
   ]
  },
  {
   "cell_type": "markdown",
   "metadata": {},
   "source": [
    "(Not all Naive Bayes spam classifiers make this assumption.)"
   ]
  },
  {
   "cell_type": "markdown",
   "metadata": {},
   "source": [
    "### Law of Total Probability\n",
    "\n",
    "We use the law of total probability, $P(E) = P(S)P(E\\mid S) + P(\\neg S)P(E\\mid \\neg S)$, to transform the denominator. \n",
    "$$P(S \\mid E) = \\frac{P(S)P(E\\mid S)}{P(S)P(E\\mid S) + P(\\neg S)P(E\\mid \\neg S)}$$\n",
    "\n",
    "We did this because our assumption that $P(S)=P(\\neg S)=0.5$ was helpful; these terms cancel out and can be ignored. \n",
    "\n",
    "$$P(S \\mid E) = \\frac{{\\rm \\bf{0.5}}\\cdot P(E\\mid S)}{{\\rm \\bf{0.5}}\\cdot P(E\\mid S) + {\\rm \\bf{0.5}}\\cdot P(E\\mid \\neg S)}$$\n",
    "\n",
    "$$P(S \\mid E) = \\frac{{\\rm \\bf{0.5}}\\cdot P(E\\mid S)}{{\\rm \\bf{0.5}}\\cdot \\left(P(E\\mid S) +  P(E\\mid \\neg S)\\right)}$$\n",
    "\n",
    "$$P(S \\mid E) = \\frac{P(E\\mid S)}{P(E\\mid S) + P(E\\mid \\neg S)}$$"
   ]
  },
  {
   "cell_type": "markdown",
   "metadata": {},
   "source": [
    "### Chain Rule simplification"
   ]
  },
  {
   "cell_type": "markdown",
   "metadata": {},
   "source": [
    "Consider the probability $P(E\\mid S)$ on the right-hand side. (The simplifications with $P(E\\mid \\neg S)$ are similar.)\n",
    "\n",
    "Recall, the evidence from our example message ``'Hodor Hodor Bran'`` was $X_1, \\neg X_2, \\neg X_3, \\neg X_4, \\neg X_5$, so $$P(E\\mid S)=P(X_1, \\neg X_2, \\neg X_3, \\neg X_4, \\neg X_5 \\mid S).$$\n",
    "\n",
    "\n",
    "Apply Chain Rule to get:\n",
    "$$P(E \\mid S) = P(X_1 \\mid S)P(\\neg X_2 \\mid X_1,S)P(\\neg X_3 \\mid X_1, \\neg X_2,S)P(\\neg X_4 \\mid X_1, \\neg X_2, \\neg X_3,S), P(\\neg X_5 \\mid X_1, \\neg X_2, \\neg X_3, \\neg X_4,S)$$"
   ]
  },
  {
   "cell_type": "markdown",
   "metadata": {},
   "source": [
    "### Naive Bayes assumption\n",
    "\n",
    "With our (false) Naive Bayes assumption that the presence of these words are conditionally independent, we ignore the effects of the other words:\n",
    "\n",
    "$$P(E \\mid S) = P(X_1\\mid S)P(\\neg X_2\\mid S)P(\\neg X_3\\mid S)P(\\neg X_4\\mid S)P(\\neg X_5 \\mid S)$$\n",
    "\n",
    "The formula: $$P(S \\mid E) = \\frac{P(E\\mid S)}{P(E\\mid S) + P(E\\mid \\neg S)}$$\n",
    "\n",
    "now becomes:\n",
    "\n",
    "$$P(S \\mid E) = \\frac{P(X_1\\mid S)P(\\neg X_2\\mid S)P(\\neg X_3\\mid S)P(\\neg X_4\\mid S)P(\\neg X_5 \\mid S)}{{\\rm same} \\,{\\rm as} \\, {\\rm numerator} + {\\rm similar} \\, {\\rm to} \\, {\\rm  numerator}}$$"
   ]
  },
  {
   "cell_type": "markdown",
   "metadata": {},
   "source": [
    "### <font color='blue'> Our list ``winter_word_probabilities`` contains $P(X_1\\mid S) = 0.25$, the probability of ``'hodor'`` given that the message is spam. </font>\n",
    "\n",
    "### <font color='blue'>Can we use ``winter_word_probabiiltes`` to calculate the probabilities that contain negations of features, such as $P(\\neg X_2 \\mid S)$? </font>"
   ]
  },
  {
   "cell_type": "markdown",
   "metadata": {},
   "source": [
    "### Hint: We'll need to use: $P(\\neg X \\mid S ) = 1 - P(X \\mid S)$"
   ]
  },
  {
   "cell_type": "markdown",
   "metadata": {},
   "source": [
    "First, we remember that $P(X) + P(\\neg X) = 1$. In a more useful form,  $P(\\neg X) = 1 - P(X)$. There is a version of this formula for conditional probabilities, too: $$P(\\neg X \\mid S) = 1 - P(X \\mid S)$$\n",
    "\n",
    "Our list contains $P(X_2 \\mid S)=0.125$, the probability of ``'winter'`` given that the mesage is spam. \n",
    "\n",
    "Therefore: $$P(\\neg X_2 \\mid S) = 1 - 0.125 = 0.875$$"
   ]
  },
  {
   "cell_type": "markdown",
   "metadata": {},
   "source": [
    "### <font color='blue'> Check to see if you understand how to substitute conditional probabilities from the list ``winter_word_probabilities`` into the formula below.\n",
    "\n",
    "Do this by verifying that the numerator of this formula evaluates to $0.25 \\cdot (1 - 0.125) \\cdot (1 - 0.75) \\cdot (1 - 0.025) \\cdot (1 - 0)$: </font>\n",
    "\n",
    "$$P(S \\mid E) = \\frac{P(X_1\\mid S)(1- P(X_2\\mid S))(1 -P(X_3\\mid S))(1 -P( X_4\\mid S))(1 - P(X_5 \\mid S))}{{\\rm same} \\,{\\rm as} \\, {\\rm numerator} + {\\rm similar} \\, {\\rm to} \\, {\\rm  numerator}}$$\n"
   ]
  },
  {
   "cell_type": "code",
   "execution_count": 22,
   "metadata": {
    "collapsed": false
   },
   "outputs": [
    {
     "name": "stdout",
     "output_type": "stream",
     "text": [
      "[('hodor', 0.25, 0.9411764705882353), ('witch', 0.75, 0.023529411764705882), ('dragon', 0.0, 0.023529411764705882), ('winter', 0.125, 0.047058823529411764), ('red', 0.025, 0.23529411764705882)]\n"
     ]
    }
   ],
   "source": [
    "# To help you with the above verification, again we can look at the \n",
    "# list titled winter_word_probabilities containing the triples:\n",
    "# [word, P(word | spam), P(word | not spam)]\n",
    "print(winter_word_probabilities)"
   ]
  },
  {
   "cell_type": "markdown",
   "metadata": {},
   "source": [
    "### This formula that we just verified is going to be the crux of the main function in our Naive Bayes classifier.\n",
    "\n",
    "To implement this formula, we define the function ``spam_probability_prototype``, which estimates the probability our message is spam given the evidence provided by our features."
   ]
  },
  {
   "cell_type": "code",
   "execution_count": 23,
   "metadata": {
    "collapsed": true
   },
   "outputs": [],
   "source": [
    "def spam_probability_prototype(word_probs, message):\n",
    "    message_words = tokenize(message)\n",
    "    message_prob_if_spam = message_prob_if_not_spam = 1.0\n",
    "\n",
    "    # iterate through each word in our vocabulary\n",
    "    for word, prob_if_spam, prob_if_not_spam in word_probs:\n",
    "\n",
    "        # if *word* appears in the message,\n",
    "        # multiply the probability of seeing it\n",
    "        if word in message_words:\n",
    "            message_prob_if_spam *= prob_if_spam\n",
    "            message_prob_if_not_spam *= prob_if_not_spam\n",
    "\n",
    "        # if *word* doesn't appear in the message\n",
    "        # multiply the probability of _not_ seeing it\n",
    "        # which is (1 - probability of seeing it)\n",
    "        else:\n",
    "            message_prob_if_spam *= (1.0 - prob_if_spam)\n",
    "            message_prob_if_not_spam *= (1.0 - prob_if_not_spam)\n",
    "\n",
    "    return message_prob_if_spam / (message_prob_if_spam + message_prob_if_not_spam)"
   ]
  },
  {
   "cell_type": "markdown",
   "metadata": {},
   "source": [
    "### Deciding how to classify messages \n",
    "\n",
    "We're finally ready to classify the message ``'Hodor Hodor Bran'``! Run the cell below to see what its estimated probability of being spam is."
   ]
  },
  {
   "cell_type": "code",
   "execution_count": 24,
   "metadata": {
    "collapsed": false
   },
   "outputs": [
    {
     "name": "stdout",
     "output_type": "stream",
     "text": [
      "0.07538801140846961\n"
     ]
    }
   ],
   "source": [
    "print(spam_probability_prototype(winter_word_probabilities, 'Hodor Hodor Bran'))"
   ]
  },
  {
   "cell_type": "markdown",
   "metadata": {},
   "source": [
    "It seems very reasonable that having such a low estimated probability should result in us classifying this message as 'not spam'.\n",
    "\n",
    "However, how do we decide the cutoff in general? \n",
    "\n",
    "The usual method of Naive Bayes for making a decision rule is to use an *argmax* function. \n",
    "\n",
    "Basically, we classify the class 'spam' or 'not spam' based on which class has the higher probability. \n",
    "\n",
    "We don't see any explicit argmax function in our code because of this nice fact: \n",
    "\n",
    "We're trying to decide if $P(S\\mid E)$ or $P(\\neg S\\mid E)$ is larger, and we know that: $$P(S\\mid E)+P(\\neg S\\mid E)=1.$$ Therefore, we only calculate $P(S\\mid E)$. We choose to classify a message as spam so long as $P(S|E)>0.5$.\n",
    "\n",
    "(Warning: In the traditional Naive Bayes classifier, we don't keep the denominators in the function ``spam_probability_prototype``. Not keeping denominators invalidates this reasoning, so an explicit use of argmax must be used.)"
   ]
  },
  {
   "cell_type": "markdown",
   "metadata": {},
   "source": [
    "### <font color='blue'>How do we classify the message 'witch red winter'? </font>"
   ]
  },
  {
   "cell_type": "code",
   "execution_count": 75,
   "metadata": {
    "collapsed": false
   },
   "outputs": [
    {
     "name": "stdout",
     "output_type": "stream",
     "text": [
      "0.9915585073364517\n",
      "We classify it as spam because we estimated that the \n",
      "probability it is spam (99%) is greater than 50%.\n"
     ]
    }
   ],
   "source": [
    "print(spam_probability_prototype(winter_word_probabilities, 'witch red winter'))\n",
    "print(ans.answer(14))"
   ]
  },
  {
   "cell_type": "markdown",
   "metadata": {},
   "source": [
    "### <font color='blue'> How do we classify the message 'witch red winter dragon'? </font>"
   ]
  },
  {
   "cell_type": "code",
   "execution_count": 76,
   "metadata": {
    "collapsed": false
   },
   "outputs": [
    {
     "name": "stdout",
     "output_type": "stream",
     "text": [
      "0.0\n",
      "Our classifier is absolutely certain this message isn't spam.\n",
      "This is suspicious!\n"
     ]
    }
   ],
   "source": [
    "print(spam_probability_prototype(winter_word_probabilities, 'witch red winter dragon'))\n",
    "print(ans.answer(15))"
   ]
  },
  {
   "cell_type": "markdown",
   "metadata": {},
   "source": [
    "### <font color='blue'> What happened? Why would adding the word 'dragon' change the probabilities so much? </font>"
   ]
  },
  {
   "cell_type": "markdown",
   "metadata": {
    "collapsed": false
   },
   "source": [
    "In our training set, the word ``'dragon'`` never appeared in any messages marked as spam. Our model thinks that $$P({\\rm dragon}\\mid S) = 0$$ and is *absolutely certain* that a spam message cannot containing the word ``'dragon'``. \n",
    "\n",
    "Mathematically speaking, we multiplied some conditional probabilities together in our calculation, and this 0 annihilated all the other probabilities in that product.\n"
   ]
  },
  {
   "cell_type": "markdown",
   "metadata": {},
   "source": [
    "### <font color='blue'> Why is this a problem? </font>"
   ]
  },
  {
   "cell_type": "markdown",
   "metadata": {},
   "source": [
    "One can give many answers to this question. Let's implement a fix and see firsthand how the classification changes."
   ]
  },
  {
   "cell_type": "markdown",
   "metadata": {},
   "source": [
    "### Improving our Naive Bayes ideas"
   ]
  },
  {
   "cell_type": "markdown",
   "metadata": {},
   "source": [
    "To fix this 0-annihilation problem, we will change our ``word_probabilities_prototype`` function to include smoothing with a $pseudocount$. It's time to hallucinate!\n",
    "\n",
    "\"When computing the spam probabilities for the $i$th word, we assume we also saw $k$ additional spams containing the word and $k$ additional spams not containing the word.\" (Joel Grus)\n",
    "\n",
    "\"If 'dragon' occurs in 0/98 spam documents, and if k is 1, we estimate $P($ dragon $\\mid$ spam $)$  as 1/100 = 0.01, which allows our classifier to still assign some nonzero spam probability to messages that contain the word 'dragon.'\" (quote of Joel Grus changed to include dragons)\n"
   ]
  },
  {
   "cell_type": "markdown",
   "metadata": {},
   "source": [
    "The function  ``word_probabilities`` calculates conditional word probabilities using a $pseudocount$:"
   ]
  },
  {
   "cell_type": "code",
   "execution_count": 77,
   "metadata": {
    "collapsed": true
   },
   "outputs": [],
   "source": [
    "def word_probabilities(counts, total_spams, total_non_spams, k=0.5):\n",
    "    \"\"\"turn the word_counts into a list of triplets \n",
    "    w, p(w | spam) and p(w | ~spam)\"\"\"\n",
    "    return [(w,\n",
    "             (spam + k) / (total_spams + 2 * k),\n",
    "             (non_spam + k) / (total_non_spams + 2 * k))\n",
    "             for w, (spam, non_spam) in counts.items()]"
   ]
  },
  {
   "cell_type": "markdown",
   "metadata": {},
   "source": [
    "### <font color='blue'> Using ``word_probabilities``, how should we classify the message 'witch red winter dragon'? </font>"
   ]
  },
  {
   "cell_type": "code",
   "execution_count": 78,
   "metadata": {
    "collapsed": false
   },
   "outputs": [
    {
     "name": "stdout",
     "output_type": "stream",
     "text": [
      "0.8483187198159028\n",
      "With an estimated probability of about 85% (which is greater than 50%)\n",
      "the message is classified as 'spam.'' \n",
      "This is a very different answer than classifying the same message as \n",
      "'not spam' with absolute certainty!\n"
     ]
    }
   ],
   "source": [
    "winter_word_probabilities_2 = word_probabilities(winter_dict, 400, 425)\n",
    "print(spam_probability_prototype(winter_word_probabilities_2, 'witch red winter dragon'))\n",
    "\n",
    "print(ans.answer(17))"
   ]
  },
  {
   "cell_type": "markdown",
   "metadata": {
    "collapsed": true
   },
   "source": [
    "### Calculations with small numbers\n",
    "\n",
    "There's another issue we need to fix in our model. (It's not a problem in our tiny five-word vocabulary example.) Suppose we have a huge training set and a large vocabulary, which includes some words with extremely high word counts and other words with extremely low word counts. We could be potentially multiplying together lots of very small numbers when we calculate probabilities.\n",
    "\n",
    "### <font color='blue'> What might go wrong? </font>"
   ]
  },
  {
   "cell_type": "markdown",
   "metadata": {},
   "source": [
    "Multiplying lots of small floating-point numbers together could result in $underflow$, a computer problem resulting in getting calculations incorrect."
   ]
  },
  {
   "cell_type": "markdown",
   "metadata": {},
   "source": [
    "\n",
    "'We usually compute a product of probabilities $p_1p_2 \\cdots p_n$ as the equivalent (but floating-point-friendlier): $$\\exp(\\log(p_1)+\\log(p_2)+\\cdots + \\log(p_n)).'$$\n",
    "(Joel Grus)\n"
   ]
  },
  {
   "cell_type": "markdown",
   "metadata": {},
   "source": [
    "This formula comes from combining the facts that the exponential and logarithm functions are inverses: $$\\exp(\\log(x))=x$$ and that in log space, you can compute multiplications as additions: $$\\log(ab)=\\log(a)+\\log(b).$$\n"
   ]
  },
  {
   "cell_type": "markdown",
   "metadata": {},
   "source": [
    "### The updated ``spam_probability`` function that takes $underflow$ into account:"
   ]
  },
  {
   "cell_type": "code",
   "execution_count": 79,
   "metadata": {
    "collapsed": true
   },
   "outputs": [],
   "source": [
    "def spam_probability(word_probs, message):\n",
    "    message_words = tokenize(message)\n",
    "    log_prob_if_spam = log_prob_if_not_spam = 0.0\n",
    "\n",
    "    for word, prob_if_spam, prob_if_not_spam in word_probs:\n",
    "\n",
    "        # for each word in the message, \n",
    "        # add the log probability of seeing it \n",
    "        if word in message_words:\n",
    "            log_prob_if_spam += math.log(prob_if_spam)\n",
    "            log_prob_if_not_spam += math.log(prob_if_not_spam)\n",
    "\n",
    "        # for each word that's not in the message\n",
    "        # add the log probability of _not_ seeing it\n",
    "        else:\n",
    "            log_prob_if_spam += math.log(1.0 - prob_if_spam)\n",
    "            log_prob_if_not_spam += math.log(1.0 - prob_if_not_spam)\n",
    "            \n",
    "    prob_if_spam = math.exp(log_prob_if_spam)\n",
    "    prob_if_not_spam = math.exp(log_prob_if_not_spam)\n",
    "    return prob_if_spam / (prob_if_spam + prob_if_not_spam)"
   ]
  },
  {
   "cell_type": "markdown",
   "metadata": {},
   "source": [
    "### Defining our Classifier"
   ]
  },
  {
   "cell_type": "markdown",
   "metadata": {},
   "source": [
    "Now that we've made some nice improvements to our functions, we're ready to putting the pieces together into a classifier.\n",
    "\n",
    "Technically, the class ``NaiveBayesClassifer`` isn't fully complete, since the function ``classify`` returns a probability instead of a classification. (Joel Grus does the final classification step when he tests the model.) \n",
    "\n",
    "One could easily change the function ``classify`` to return the following boolean: ``spam_probability(self.word_probs, message) > 0.5``, indicating whether or not the function is spam. "
   ]
  },
  {
   "cell_type": "code",
   "execution_count": 80,
   "metadata": {
    "collapsed": true
   },
   "outputs": [],
   "source": [
    "class NaiveBayesClassifier:\n",
    "\n",
    "    def __init__(self, k=0.5): #k=num of dragons we're hallucinating\n",
    "        self.k = k\n",
    "        self.word_probs = []\n",
    "\n",
    "    def train(self, training_set):\n",
    "    \n",
    "        # count spam and non-spam messages\n",
    "        num_spams = len([is_spam \n",
    "                         for message, is_spam in training_set \n",
    "                         if is_spam])\n",
    "        num_non_spams = len(training_set) - num_spams\n",
    "\n",
    "        # run training data through our \"pipeline\"\n",
    "        word_counts = count_words(training_set)\n",
    "        self.word_probs = word_probabilities(word_counts, \n",
    "                                             num_spams, \n",
    "                                             num_non_spams,\n",
    "                                             self.k)\n",
    "                                             \n",
    "    def classify(self, message):\n",
    "        return spam_probability(self.word_probs, message)\n",
    "        # changing the return statement to what's below will return\n",
    "        # True whenever we classify a message as 'spam', and False\n",
    "        # otherwise.\n",
    "        # Warning: changing this return statement will require\n",
    "        # changing the code later when we test this model.\n",
    "        # return spam_probability(self.word_probs, message) > 0.5"
   ]
  },
  {
   "cell_type": "markdown",
   "metadata": {},
   "source": [
    "## Testing the Model on SpamAssassin data\n",
    "### Loading the data"
   ]
  },
  {
   "cell_type": "markdown",
   "metadata": {},
   "source": [
    "We'll use just the subject lines of the emails from the files prefixed with 20021010.\n",
    "\n",
    "You'll need to change the code below based on where you've saved the data on your machine.\n",
    "\n",
    "The command 'pwd' will tell you the current path of this notebook.\n",
    "\n",
    "If you've saved the three folders (spam, easy_ham, hard_ham) in a 'data' folder, and 'data' is in the same place as this notebook, then putting the path from 'pwd' in front of /data/\\*/\\* will probably work."
   ]
  },
  {
   "cell_type": "code",
   "execution_count": 94,
   "metadata": {
    "collapsed": false
   },
   "outputs": [
    {
     "name": "stdout",
     "output_type": "stream",
     "text": [
      "\u001b[34measy_ham\u001b[m\u001b[m/ \u001b[34mhard_ham\u001b[m\u001b[m/ \u001b[34mspam\u001b[m\u001b[m/\r\n"
     ]
    }
   ],
   "source": [
    "ls data/"
   ]
  },
  {
   "cell_type": "code",
   "execution_count": 82,
   "metadata": {
    "collapsed": false
   },
   "outputs": [
    {
     "data": {
      "text/plain": [
       "['/Users/rludwig/Desktop/MeetupProjects/NaiveBayesPresentation/data/easy_ham/0001.ea7e79d3153e7469e7a9c3e0af6a357e',\n",
       " '/Users/rludwig/Desktop/MeetupProjects/NaiveBayesPresentation/data/easy_ham/0002.b3120c4bcbf3101e661161ee7efcb8bf',\n",
       " '/Users/rludwig/Desktop/MeetupProjects/NaiveBayesPresentation/data/easy_ham/0003.acfc5ad94bbd27118a0d8685d18c89dd',\n",
       " '/Users/rludwig/Desktop/MeetupProjects/NaiveBayesPresentation/data/easy_ham/0004.e8d5727378ddde5c3be181df593f1712',\n",
       " '/Users/rludwig/Desktop/MeetupProjects/NaiveBayesPresentation/data/easy_ham/0005.8c3b9e9c0f3f183ddaf7592a11b99957',\n",
       " '/Users/rludwig/Desktop/MeetupProjects/NaiveBayesPresentation/data/easy_ham/0006.ee8b0dba12856155222be180ba122058',\n",
       " '/Users/rludwig/Desktop/MeetupProjects/NaiveBayesPresentation/data/easy_ham/0007.c75188382f64b090022fa3b095b020b0',\n",
       " '/Users/rludwig/Desktop/MeetupProjects/NaiveBayesPresentation/data/easy_ham/0008.20bc0b4ba2d99aae1c7098069f611a9b',\n",
       " '/Users/rludwig/Desktop/MeetupProjects/NaiveBayesPresentation/data/easy_ham/0009.435ae292d75abb1ca492dcc2d5cf1570',\n",
       " '/Users/rludwig/Desktop/MeetupProjects/NaiveBayesPresentation/data/easy_ham/0010.4996141de3f21e858c22f88231a9f463',\n",
       " '/Users/rludwig/Desktop/MeetupProjects/NaiveBayesPresentation/data/easy_ham/0011.07b11073b53634cff892a7988289a72e',\n",
       " '/Users/rludwig/Desktop/MeetupProjects/NaiveBayesPresentation/data/easy_ham/0012.d354b2d2f24d1036caf1374dd94f4c94',\n",
       " '/Users/rludwig/Desktop/MeetupProjects/NaiveBayesPresentation/data/easy_ham/0013.ff597adee000d073ae72200b0af00cd1',\n",
       " '/Users/rludwig/Desktop/MeetupProjects/NaiveBayesPresentation/data/easy_ham/0014.532e0a17d0674ba7a9baa7b0afe5fb52',\n",
       " '/Users/rludwig/Desktop/MeetupProjects/NaiveBayesPresentation/data/easy_ham/0015.a9ff8d7550759f6ab62cc200bdf156e7',\n",
       " '/Users/rludwig/Desktop/MeetupProjects/NaiveBayesPresentation/data/easy_ham/0016.d82758030e304d41fb3f4ebbb7d9dd91',\n",
       " '/Users/rludwig/Desktop/MeetupProjects/NaiveBayesPresentation/data/easy_ham/0017.d81093a2182fc9135df6d9158a8ebfd6',\n",
       " '/Users/rludwig/Desktop/MeetupProjects/NaiveBayesPresentation/data/easy_ham/0018.ba70ecbeea6f427b951067f34e23bae6',\n",
       " '/Users/rludwig/Desktop/MeetupProjects/NaiveBayesPresentation/data/easy_ham/0019.a8a1b2767e83b3be653e4af0148e1897',\n",
       " '/Users/rludwig/Desktop/MeetupProjects/NaiveBayesPresentation/data/easy_ham/0020.ef397cef16f8041242e3b6560e168053',\n",
       " '/Users/rludwig/Desktop/MeetupProjects/NaiveBayesPresentation/data/easy_ham/0021.f8e73bdba7277d967af4d561f0402129',\n",
       " '/Users/rludwig/Desktop/MeetupProjects/NaiveBayesPresentation/data/easy_ham/0022.7241da4491c49b50c0470a3638ee35c4',\n",
       " '/Users/rludwig/Desktop/MeetupProjects/NaiveBayesPresentation/data/easy_ham/0023.b4a61a2990263e8825246e41a8d78399',\n",
       " '/Users/rludwig/Desktop/MeetupProjects/NaiveBayesPresentation/data/easy_ham/0024.771af861a302951df7630ec4ff1965a2',\n",
       " '/Users/rludwig/Desktop/MeetupProjects/NaiveBayesPresentation/data/easy_ham/0025.64d0382de54b9e4c5b4200173133b8d7',\n",
       " '/Users/rludwig/Desktop/MeetupProjects/NaiveBayesPresentation/data/easy_ham/0026.6baf1aea162ccb9a6e9f142c0715ceb4',\n",
       " '/Users/rludwig/Desktop/MeetupProjects/NaiveBayesPresentation/data/easy_ham/0027.11da06d9130a188bf0ffb2060881dbe9',\n",
       " '/Users/rludwig/Desktop/MeetupProjects/NaiveBayesPresentation/data/easy_ham/0028.54cf7aa229456fb33194b3a12a713e3e',\n",
       " '/Users/rludwig/Desktop/MeetupProjects/NaiveBayesPresentation/data/easy_ham/0029.7119e865bff73aca46681d96a451cb60',\n",
       " '/Users/rludwig/Desktop/MeetupProjects/NaiveBayesPresentation/data/easy_ham/0030.77828e31de08ebb58b583688b87524cc',\n",
       " '/Users/rludwig/Desktop/MeetupProjects/NaiveBayesPresentation/data/easy_ham/0031.af5b387661e1f58d3787ac41139106e5',\n",
       " '/Users/rludwig/Desktop/MeetupProjects/NaiveBayesPresentation/data/easy_ham/0032.f07a3f2152f2bedfc9492459c171012c',\n",
       " '/Users/rludwig/Desktop/MeetupProjects/NaiveBayesPresentation/data/easy_ham/0033.e3fd617544226dc06abf36c95a9a2d11',\n",
       " '/Users/rludwig/Desktop/MeetupProjects/NaiveBayesPresentation/data/easy_ham/0034.4be53f8dac3bd651ace83a38b6313c45',\n",
       " '/Users/rludwig/Desktop/MeetupProjects/NaiveBayesPresentation/data/easy_ham/0035.50b257408356cfcfce8cf2afe9fd7959',\n",
       " '/Users/rludwig/Desktop/MeetupProjects/NaiveBayesPresentation/data/easy_ham/0036.7ca216a105267375948e13b460d1fb8f',\n",
       " '/Users/rludwig/Desktop/MeetupProjects/NaiveBayesPresentation/data/easy_ham/0037.0c57a93c0241775d406efecf43ba19cf',\n",
       " '/Users/rludwig/Desktop/MeetupProjects/NaiveBayesPresentation/data/easy_ham/0038.f2ffa1197c969d067be4d01c26fa9b5e',\n",
       " '/Users/rludwig/Desktop/MeetupProjects/NaiveBayesPresentation/data/easy_ham/0039.5bf1ec6602c4657bac8d566604572ad5',\n",
       " '/Users/rludwig/Desktop/MeetupProjects/NaiveBayesPresentation/data/easy_ham/0040.930593a7e616570a2b63f2d774847316',\n",
       " '/Users/rludwig/Desktop/MeetupProjects/NaiveBayesPresentation/data/easy_ham/0041.af4e0891f17484c10c032f713bce43de',\n",
       " '/Users/rludwig/Desktop/MeetupProjects/NaiveBayesPresentation/data/easy_ham/0042.7ef6c72f88de15d72b1c0d9c164ccb78',\n",
       " '/Users/rludwig/Desktop/MeetupProjects/NaiveBayesPresentation/data/easy_ham/0043.2ea45c42b1ea15bc214723e142b81127',\n",
       " '/Users/rludwig/Desktop/MeetupProjects/NaiveBayesPresentation/data/easy_ham/0044.f1db2c76854ee58bc73d0c85ca6a86d2',\n",
       " '/Users/rludwig/Desktop/MeetupProjects/NaiveBayesPresentation/data/easy_ham/0045.910fa2e79f96c646f1b6c987c65cbe3f',\n",
       " '/Users/rludwig/Desktop/MeetupProjects/NaiveBayesPresentation/data/easy_ham/0046.05e8a863eaf20f90374d0a15427d9a16',\n",
       " '/Users/rludwig/Desktop/MeetupProjects/NaiveBayesPresentation/data/easy_ham/0047.5c3e049737a2813d4ac6f13f02362fb1',\n",
       " '/Users/rludwig/Desktop/MeetupProjects/NaiveBayesPresentation/data/easy_ham/0048.6dbad96d78f9dd6100a4ad2a8b8086b6',\n",
       " '/Users/rludwig/Desktop/MeetupProjects/NaiveBayesPresentation/data/easy_ham/0049.bda43370915afa1f557f7edab6913e04',\n",
       " '/Users/rludwig/Desktop/MeetupProjects/NaiveBayesPresentation/data/easy_ham/0050.fd9291b33ecd99af26da03a7d4152dc2',\n",
       " '/Users/rludwig/Desktop/MeetupProjects/NaiveBayesPresentation/data/easy_ham/0051.9281d3f8a3faf47d09a7fafdf2caf26e',\n",
       " '/Users/rludwig/Desktop/MeetupProjects/NaiveBayesPresentation/data/easy_ham/0052.40794e238104d6b01f36b0f4d5145175',\n",
       " '/Users/rludwig/Desktop/MeetupProjects/NaiveBayesPresentation/data/easy_ham/0053.71bcb179e702d98e88fd0bc081ba0f52',\n",
       " '/Users/rludwig/Desktop/MeetupProjects/NaiveBayesPresentation/data/easy_ham/0054.a6fa82d1b26c7772829e54ec41a1fbd3',\n",
       " '/Users/rludwig/Desktop/MeetupProjects/NaiveBayesPresentation/data/easy_ham/0055.b5509ace7ed62c900779c0c51cca92a3',\n",
       " '/Users/rludwig/Desktop/MeetupProjects/NaiveBayesPresentation/data/easy_ham/0056.6ac9eb23e2ef6c7e7eabc3fb0ac3038a',\n",
       " '/Users/rludwig/Desktop/MeetupProjects/NaiveBayesPresentation/data/easy_ham/0057.be5e34dcebd922928045634015e3ed78',\n",
       " '/Users/rludwig/Desktop/MeetupProjects/NaiveBayesPresentation/data/easy_ham/0058.a7c28223050c35c3a22ac4e2b5969111',\n",
       " '/Users/rludwig/Desktop/MeetupProjects/NaiveBayesPresentation/data/easy_ham/0059.b3b1b1d95976b70d9bbd6c39c6b8d5d2',\n",
       " '/Users/rludwig/Desktop/MeetupProjects/NaiveBayesPresentation/data/easy_ham/0060.877bf70a297621b9dc3bab0095f95027',\n",
       " '/Users/rludwig/Desktop/MeetupProjects/NaiveBayesPresentation/data/easy_ham/0061.20319a885b8cf6c88c8098eafd731396',\n",
       " '/Users/rludwig/Desktop/MeetupProjects/NaiveBayesPresentation/data/easy_ham/0062.b675bdb7b9e2321dfe97e48037fe7782',\n",
       " '/Users/rludwig/Desktop/MeetupProjects/NaiveBayesPresentation/data/easy_ham/0063.7823bd01e05ee0a1dda2f73f880838eb',\n",
       " '/Users/rludwig/Desktop/MeetupProjects/NaiveBayesPresentation/data/easy_ham/0064.7160290efcb7320ac8852369a695bcaf',\n",
       " '/Users/rludwig/Desktop/MeetupProjects/NaiveBayesPresentation/data/easy_ham/0065.b72ddcc517cc317f3fc1e79c3feeca15',\n",
       " '/Users/rludwig/Desktop/MeetupProjects/NaiveBayesPresentation/data/easy_ham/0066.dcf72ba90be7570f2f7edab45b23ae36',\n",
       " '/Users/rludwig/Desktop/MeetupProjects/NaiveBayesPresentation/data/easy_ham/0067.d77af11e9b2a74048c073462efecca12',\n",
       " '/Users/rludwig/Desktop/MeetupProjects/NaiveBayesPresentation/data/easy_ham/0068.f1c604a78739e4f966253d762c972dde',\n",
       " '/Users/rludwig/Desktop/MeetupProjects/NaiveBayesPresentation/data/easy_ham/0069.7173de1d2da14306c5a20e8abda7a6e2',\n",
       " '/Users/rludwig/Desktop/MeetupProjects/NaiveBayesPresentation/data/easy_ham/0070.4f269f2d783b479971f31006fe17ce62',\n",
       " '/Users/rludwig/Desktop/MeetupProjects/NaiveBayesPresentation/data/easy_ham/0071.75403094cab986a246c1e7ce3460e827',\n",
       " '/Users/rludwig/Desktop/MeetupProjects/NaiveBayesPresentation/data/easy_ham/0072.d1c080832388ae81835ca069e2efffa3',\n",
       " '/Users/rludwig/Desktop/MeetupProjects/NaiveBayesPresentation/data/easy_ham/0073.cd29b8202a4b05db3c6f0d71b72a3260',\n",
       " '/Users/rludwig/Desktop/MeetupProjects/NaiveBayesPresentation/data/easy_ham/0074.78000652dcb19856e85ff9637f0e52dd',\n",
       " '/Users/rludwig/Desktop/MeetupProjects/NaiveBayesPresentation/data/easy_ham/0075.faa4a28fdd9a82edd6d35ebb6bae3085',\n",
       " '/Users/rludwig/Desktop/MeetupProjects/NaiveBayesPresentation/data/easy_ham/0076.f565b68778786f9b9736f779489331f0',\n",
       " '/Users/rludwig/Desktop/MeetupProjects/NaiveBayesPresentation/data/easy_ham/0077.dc5578862c0e716ee82e78b0dffbc8d2',\n",
       " '/Users/rludwig/Desktop/MeetupProjects/NaiveBayesPresentation/data/easy_ham/0078.8481bc92aa3ab9d23ca30c0eaecfc5e4',\n",
       " '/Users/rludwig/Desktop/MeetupProjects/NaiveBayesPresentation/data/easy_ham/0079.083beadce354774290a4a5bc4175366e',\n",
       " '/Users/rludwig/Desktop/MeetupProjects/NaiveBayesPresentation/data/easy_ham/0080.7c3a836baaa732cd915546442c0fef1a',\n",
       " '/Users/rludwig/Desktop/MeetupProjects/NaiveBayesPresentation/data/easy_ham/0081.9d26c2d149545a1c5d23e2cd4dca1b5f',\n",
       " '/Users/rludwig/Desktop/MeetupProjects/NaiveBayesPresentation/data/easy_ham/0082.7f7858a1a7360410ed120899504c3a25',\n",
       " '/Users/rludwig/Desktop/MeetupProjects/NaiveBayesPresentation/data/easy_ham/0083.e506d3273b3dde9ae2d340cb0197a2a0',\n",
       " '/Users/rludwig/Desktop/MeetupProjects/NaiveBayesPresentation/data/easy_ham/0084.e84ff95488fab22c26801bcd5bae337e',\n",
       " '/Users/rludwig/Desktop/MeetupProjects/NaiveBayesPresentation/data/easy_ham/0085.1a80e2b1720bd5cbeb900554a5477d0b',\n",
       " '/Users/rludwig/Desktop/MeetupProjects/NaiveBayesPresentation/data/easy_ham/0086.b96641b3e0a2cf8c238976336d45a86c',\n",
       " '/Users/rludwig/Desktop/MeetupProjects/NaiveBayesPresentation/data/easy_ham/0087.dd5f3aa35f50008bf7dfc5059ac8a239',\n",
       " '/Users/rludwig/Desktop/MeetupProjects/NaiveBayesPresentation/data/easy_ham/0088.43fa07c598e8b3d272a1a00705398e48',\n",
       " '/Users/rludwig/Desktop/MeetupProjects/NaiveBayesPresentation/data/easy_ham/0089.8b3fea141f5b2f2e5b66a9f12148b7d0',\n",
       " '/Users/rludwig/Desktop/MeetupProjects/NaiveBayesPresentation/data/easy_ham/0090.314ec4268af7a3a1974d5eab84ea65af',\n",
       " '/Users/rludwig/Desktop/MeetupProjects/NaiveBayesPresentation/data/easy_ham/0091.3bdd7b578973ee005733480a8b6c9b54',\n",
       " '/Users/rludwig/Desktop/MeetupProjects/NaiveBayesPresentation/data/easy_ham/0092.a1560d2416687b2db8204c2fa69163f2',\n",
       " '/Users/rludwig/Desktop/MeetupProjects/NaiveBayesPresentation/data/easy_ham/0093.0c71febfdf6f3acbc4d0c76b777a8530',\n",
       " '/Users/rludwig/Desktop/MeetupProjects/NaiveBayesPresentation/data/easy_ham/0094.b7bf14fae9c31d0516cfe00dd9ab068d',\n",
       " '/Users/rludwig/Desktop/MeetupProjects/NaiveBayesPresentation/data/easy_ham/0095.b51416f612ac5737e0f4a5529ce453d1',\n",
       " '/Users/rludwig/Desktop/MeetupProjects/NaiveBayesPresentation/data/easy_ham/0096.0446f3ed63b550a8622c8671d8ae9a9c',\n",
       " '/Users/rludwig/Desktop/MeetupProjects/NaiveBayesPresentation/data/easy_ham/0097.39badf2fea6bcebc640bea05ced59b59',\n",
       " '/Users/rludwig/Desktop/MeetupProjects/NaiveBayesPresentation/data/easy_ham/0098.5053f669dda8f920e5300ed327cdd986',\n",
       " '/Users/rludwig/Desktop/MeetupProjects/NaiveBayesPresentation/data/easy_ham/0099.9f54be08406e67fd8944f2f1d0fbdd90',\n",
       " '/Users/rludwig/Desktop/MeetupProjects/NaiveBayesPresentation/data/easy_ham/0100.1728f45047ff2a1601d4e3ee91f26a00',\n",
       " '/Users/rludwig/Desktop/MeetupProjects/NaiveBayesPresentation/data/easy_ham/0101.48557f7f38d947eab77aefc03d0520a3',\n",
       " '/Users/rludwig/Desktop/MeetupProjects/NaiveBayesPresentation/data/easy_ham/0102.ba8679813c4b5f424fb225f09b2fb1f2',\n",
       " '/Users/rludwig/Desktop/MeetupProjects/NaiveBayesPresentation/data/easy_ham/0103.3fc5444196f4726ee138fbabc5086ea1',\n",
       " '/Users/rludwig/Desktop/MeetupProjects/NaiveBayesPresentation/data/easy_ham/0104.cbb1681451b2525d7aeec9eeb285306d',\n",
       " '/Users/rludwig/Desktop/MeetupProjects/NaiveBayesPresentation/data/easy_ham/0105.be508e1b909bae328d4a13fe898f60fb',\n",
       " '/Users/rludwig/Desktop/MeetupProjects/NaiveBayesPresentation/data/easy_ham/0106.808c5e5ed0b801f667a34ead8221972e',\n",
       " '/Users/rludwig/Desktop/MeetupProjects/NaiveBayesPresentation/data/easy_ham/0107.2447a90f32ab7642ff8309d41c242db2',\n",
       " '/Users/rludwig/Desktop/MeetupProjects/NaiveBayesPresentation/data/easy_ham/0108.e6e9cb097a3b5e37d94a7ff29bc4412a',\n",
       " '/Users/rludwig/Desktop/MeetupProjects/NaiveBayesPresentation/data/easy_ham/0109.4ccc46c546b93015aafdfc40495f187d',\n",
       " '/Users/rludwig/Desktop/MeetupProjects/NaiveBayesPresentation/data/easy_ham/0110.0bb9a36c3037be09867c0251e0fd6a3a',\n",
       " '/Users/rludwig/Desktop/MeetupProjects/NaiveBayesPresentation/data/easy_ham/0111.e10679164e671fd9211c0303af7ee9f0',\n",
       " '/Users/rludwig/Desktop/MeetupProjects/NaiveBayesPresentation/data/easy_ham/0112.b6c2ea75f9f7efcd3d0e4c43a751479c',\n",
       " '/Users/rludwig/Desktop/MeetupProjects/NaiveBayesPresentation/data/easy_ham/0113.55a6bf6a4534d447af2060b174c0d70a',\n",
       " '/Users/rludwig/Desktop/MeetupProjects/NaiveBayesPresentation/data/easy_ham/0114.72c7d2d85d9d99ce3ce268d09147bdea',\n",
       " '/Users/rludwig/Desktop/MeetupProjects/NaiveBayesPresentation/data/easy_ham/0115.41825f367f7f1efcc31e12376d82a994',\n",
       " '/Users/rludwig/Desktop/MeetupProjects/NaiveBayesPresentation/data/easy_ham/0116.4cfce953cce07ef03a0cd55ca18053ba',\n",
       " '/Users/rludwig/Desktop/MeetupProjects/NaiveBayesPresentation/data/easy_ham/0117.fbc79c02a2c13d6c9b36f9ba38a09170',\n",
       " '/Users/rludwig/Desktop/MeetupProjects/NaiveBayesPresentation/data/easy_ham/0118.4ebb343d73a83dc935197850e507aad6',\n",
       " '/Users/rludwig/Desktop/MeetupProjects/NaiveBayesPresentation/data/easy_ham/0119.98b90763eec7b4e91c06939eea2d2361',\n",
       " '/Users/rludwig/Desktop/MeetupProjects/NaiveBayesPresentation/data/easy_ham/0120.27898b8f966a9c687b1f93fcba5afd43',\n",
       " '/Users/rludwig/Desktop/MeetupProjects/NaiveBayesPresentation/data/easy_ham/0121.b475478456e52de66ef0b0fb501bbfd3',\n",
       " '/Users/rludwig/Desktop/MeetupProjects/NaiveBayesPresentation/data/easy_ham/0122.4c48475d458bbca7a14270745e452dd7',\n",
       " '/Users/rludwig/Desktop/MeetupProjects/NaiveBayesPresentation/data/easy_ham/0123.32e1738c4171dd9d70b727fd7973a291',\n",
       " '/Users/rludwig/Desktop/MeetupProjects/NaiveBayesPresentation/data/easy_ham/0124.2912ab5571d121e3b8c32c575b2526a9',\n",
       " '/Users/rludwig/Desktop/MeetupProjects/NaiveBayesPresentation/data/easy_ham/0125.1ada59664dfcb7a5a31e9820f9604fea',\n",
       " '/Users/rludwig/Desktop/MeetupProjects/NaiveBayesPresentation/data/easy_ham/0126.fc7d58812b4c004ee457355c9baf2e1e',\n",
       " '/Users/rludwig/Desktop/MeetupProjects/NaiveBayesPresentation/data/easy_ham/0127.2ac0e9f6527f224201604786789540b2',\n",
       " '/Users/rludwig/Desktop/MeetupProjects/NaiveBayesPresentation/data/easy_ham/0128.f2500674ec39065ae8a1f643c7100a2b',\n",
       " '/Users/rludwig/Desktop/MeetupProjects/NaiveBayesPresentation/data/easy_ham/0129.00f1783f1c15a77f1c5ec212f5bcf1d1',\n",
       " '/Users/rludwig/Desktop/MeetupProjects/NaiveBayesPresentation/data/easy_ham/0130.6007e5b54c03026fd924cf2d6b0b4008',\n",
       " '/Users/rludwig/Desktop/MeetupProjects/NaiveBayesPresentation/data/easy_ham/0131.b715566061ab90d0f8745ce0ac010832',\n",
       " '/Users/rludwig/Desktop/MeetupProjects/NaiveBayesPresentation/data/easy_ham/0132.bcd23223120c0be6b991ae0349cd127c',\n",
       " '/Users/rludwig/Desktop/MeetupProjects/NaiveBayesPresentation/data/easy_ham/0133.fe269b4e9538d5cb9907625c4b63dc2f',\n",
       " '/Users/rludwig/Desktop/MeetupProjects/NaiveBayesPresentation/data/easy_ham/0134.56b4bed3bd3a696ab5b271a6e37fa005',\n",
       " '/Users/rludwig/Desktop/MeetupProjects/NaiveBayesPresentation/data/easy_ham/0135.73f72161ad5758f0645151e87f5ff4b2',\n",
       " '/Users/rludwig/Desktop/MeetupProjects/NaiveBayesPresentation/data/easy_ham/0136.25b4244e9510e810f89f6570d476c0e8',\n",
       " '/Users/rludwig/Desktop/MeetupProjects/NaiveBayesPresentation/data/easy_ham/0137.015cd0ece1324c5514e742e224a77213',\n",
       " '/Users/rludwig/Desktop/MeetupProjects/NaiveBayesPresentation/data/easy_ham/0138.5bc0323b8aa075bd1e99610b50aa1150',\n",
       " '/Users/rludwig/Desktop/MeetupProjects/NaiveBayesPresentation/data/easy_ham/0139.4a3f2cb7efe7318e1ed9b698d1d4a1db',\n",
       " '/Users/rludwig/Desktop/MeetupProjects/NaiveBayesPresentation/data/easy_ham/0140.009d880f185eca560c8496da54b447ae',\n",
       " '/Users/rludwig/Desktop/MeetupProjects/NaiveBayesPresentation/data/easy_ham/0141.911fa855ce043ee41b450e6a1b0096d0',\n",
       " '/Users/rludwig/Desktop/MeetupProjects/NaiveBayesPresentation/data/easy_ham/0142.bcc958dabbad574174becaa16334a7e6',\n",
       " '/Users/rludwig/Desktop/MeetupProjects/NaiveBayesPresentation/data/easy_ham/0143.20b19246597ddb47db7da83f7a140e73',\n",
       " '/Users/rludwig/Desktop/MeetupProjects/NaiveBayesPresentation/data/easy_ham/0144.150618690d46b8b2207c8a27ca5ab837',\n",
       " '/Users/rludwig/Desktop/MeetupProjects/NaiveBayesPresentation/data/easy_ham/0145.7400cf6ab4cfe5ffeaab582c9730c656',\n",
       " '/Users/rludwig/Desktop/MeetupProjects/NaiveBayesPresentation/data/easy_ham/0146.2d301a1e07672538d669f5e571180d32',\n",
       " '/Users/rludwig/Desktop/MeetupProjects/NaiveBayesPresentation/data/easy_ham/0147.16b764c5bd3e419cc5b6d0145b2d8145',\n",
       " '/Users/rludwig/Desktop/MeetupProjects/NaiveBayesPresentation/data/easy_ham/0148.565dd83aaebb66fe284de9342a6a5c09',\n",
       " '/Users/rludwig/Desktop/MeetupProjects/NaiveBayesPresentation/data/easy_ham/0149.d59bb0d23ca8ad3a87e549d3e6172f26',\n",
       " '/Users/rludwig/Desktop/MeetupProjects/NaiveBayesPresentation/data/easy_ham/0150.69bb21344f49b27cec7373599b6e433d',\n",
       " '/Users/rludwig/Desktop/MeetupProjects/NaiveBayesPresentation/data/easy_ham/0151.4d1c8772327e44b20af6420e1d1c0a75',\n",
       " '/Users/rludwig/Desktop/MeetupProjects/NaiveBayesPresentation/data/easy_ham/0152.10d3220188413990b1deb862c509c818',\n",
       " '/Users/rludwig/Desktop/MeetupProjects/NaiveBayesPresentation/data/easy_ham/0153.f78ed3d22e441ab7bd6d006323a83621',\n",
       " '/Users/rludwig/Desktop/MeetupProjects/NaiveBayesPresentation/data/easy_ham/0154.9e065ee6214360e43b9873e39880159e',\n",
       " '/Users/rludwig/Desktop/MeetupProjects/NaiveBayesPresentation/data/easy_ham/0155.56e909508466675c86032e9f031cd09a',\n",
       " '/Users/rludwig/Desktop/MeetupProjects/NaiveBayesPresentation/data/easy_ham/0156.3d3293a5da919cf65959e6bd63feaf27',\n",
       " '/Users/rludwig/Desktop/MeetupProjects/NaiveBayesPresentation/data/easy_ham/0157.18c5e181c72acfc3a501a82907e58a59',\n",
       " '/Users/rludwig/Desktop/MeetupProjects/NaiveBayesPresentation/data/easy_ham/0158.05f321b3cb42b6b62bc8a250a7bad59f',\n",
       " '/Users/rludwig/Desktop/MeetupProjects/NaiveBayesPresentation/data/easy_ham/0159.72f1a01f64bfa9e06b21c4e778e14cd2',\n",
       " '/Users/rludwig/Desktop/MeetupProjects/NaiveBayesPresentation/data/easy_ham/0160.0040550972ece2c27ed01745f93b474b',\n",
       " '/Users/rludwig/Desktop/MeetupProjects/NaiveBayesPresentation/data/easy_ham/0161.5703ef6933a7f189ab48da12a925f5e4',\n",
       " '/Users/rludwig/Desktop/MeetupProjects/NaiveBayesPresentation/data/easy_ham/0162.4eb119208c169c5da0dc13a875cdcb34',\n",
       " '/Users/rludwig/Desktop/MeetupProjects/NaiveBayesPresentation/data/easy_ham/0163.1aff5d9dc36e51a0b43f1c31c4d5b28c',\n",
       " '/Users/rludwig/Desktop/MeetupProjects/NaiveBayesPresentation/data/easy_ham/0164.ae42a102de7318dc4876af403b6e5956',\n",
       " '/Users/rludwig/Desktop/MeetupProjects/NaiveBayesPresentation/data/easy_ham/0165.60d0c03c63a588f58ca91b791610e43c',\n",
       " '/Users/rludwig/Desktop/MeetupProjects/NaiveBayesPresentation/data/easy_ham/0166.f4acdf86d261b60094536bf5a654cc33',\n",
       " '/Users/rludwig/Desktop/MeetupProjects/NaiveBayesPresentation/data/easy_ham/0167.13f1e71a8070d4d34e65ec7a25d9e164',\n",
       " '/Users/rludwig/Desktop/MeetupProjects/NaiveBayesPresentation/data/easy_ham/0168.91cce4c84906ce507bd5e6362dd345c4',\n",
       " '/Users/rludwig/Desktop/MeetupProjects/NaiveBayesPresentation/data/easy_ham/0169.b19a689237947db7b9e244277e075edc',\n",
       " '/Users/rludwig/Desktop/MeetupProjects/NaiveBayesPresentation/data/easy_ham/0170.154c82ae0e1ccc4c9290aa1fa4de7b43',\n",
       " '/Users/rludwig/Desktop/MeetupProjects/NaiveBayesPresentation/data/easy_ham/0171.284f310dea6316d8971a18ff66a1a8dc',\n",
       " '/Users/rludwig/Desktop/MeetupProjects/NaiveBayesPresentation/data/easy_ham/0172.464b84890a849676c036baccf0f2344e',\n",
       " '/Users/rludwig/Desktop/MeetupProjects/NaiveBayesPresentation/data/easy_ham/0173.3898127723ae4ac964f41c1a555c6ecb',\n",
       " '/Users/rludwig/Desktop/MeetupProjects/NaiveBayesPresentation/data/easy_ham/0174.a916896b6119d1b8a138dfbbeeee7fa1',\n",
       " '/Users/rludwig/Desktop/MeetupProjects/NaiveBayesPresentation/data/easy_ham/0175.dd1831e0f3322282d3efa5da7aec74f9',\n",
       " '/Users/rludwig/Desktop/MeetupProjects/NaiveBayesPresentation/data/easy_ham/0176.bd5ef61e0c89ec035829f06f3fe5c7f8',\n",
       " '/Users/rludwig/Desktop/MeetupProjects/NaiveBayesPresentation/data/easy_ham/0177.fd72517a2ed2a2c29c9822b7124a8f0a',\n",
       " '/Users/rludwig/Desktop/MeetupProjects/NaiveBayesPresentation/data/easy_ham/0178.8405bbe39a5eb6c1814e3c16602099a4',\n",
       " '/Users/rludwig/Desktop/MeetupProjects/NaiveBayesPresentation/data/easy_ham/0179.dee566fc951284d1d3bd3a0fdae63f4d',\n",
       " '/Users/rludwig/Desktop/MeetupProjects/NaiveBayesPresentation/data/easy_ham/0180.5790a5f746fbfb83381a28a45889fd6d',\n",
       " '/Users/rludwig/Desktop/MeetupProjects/NaiveBayesPresentation/data/easy_ham/0181.d16658bb110eb37495081efa07319db1',\n",
       " '/Users/rludwig/Desktop/MeetupProjects/NaiveBayesPresentation/data/easy_ham/0182.6a44fa290eebac4c52eb17292623b630',\n",
       " '/Users/rludwig/Desktop/MeetupProjects/NaiveBayesPresentation/data/easy_ham/0183.fea0e7b48e16103e73462d5ee52b0d18',\n",
       " '/Users/rludwig/Desktop/MeetupProjects/NaiveBayesPresentation/data/easy_ham/0184.9006c74135af56c874879f0d45c1a689',\n",
       " '/Users/rludwig/Desktop/MeetupProjects/NaiveBayesPresentation/data/easy_ham/0185.2ed7f65beefa89e31abb4fbc75c18956',\n",
       " '/Users/rludwig/Desktop/MeetupProjects/NaiveBayesPresentation/data/easy_ham/0186.5abf85594c3b8c40a105eed1154569ed',\n",
       " '/Users/rludwig/Desktop/MeetupProjects/NaiveBayesPresentation/data/easy_ham/0187.3e01234a92697a2a414ed394ad7177ed',\n",
       " '/Users/rludwig/Desktop/MeetupProjects/NaiveBayesPresentation/data/easy_ham/0188.a7f061d0c2c0395922993a874d534dcb',\n",
       " '/Users/rludwig/Desktop/MeetupProjects/NaiveBayesPresentation/data/easy_ham/0189.01e4dc6ee1379e5ee100b4c33c9c3afd',\n",
       " '/Users/rludwig/Desktop/MeetupProjects/NaiveBayesPresentation/data/easy_ham/0190.41da72c46bce52a15056a0171b56a917',\n",
       " '/Users/rludwig/Desktop/MeetupProjects/NaiveBayesPresentation/data/easy_ham/0191.314e2f68086989044e631e347a03b979',\n",
       " '/Users/rludwig/Desktop/MeetupProjects/NaiveBayesPresentation/data/easy_ham/0192.550b44c030296255a8b7ac293f296a01',\n",
       " '/Users/rludwig/Desktop/MeetupProjects/NaiveBayesPresentation/data/easy_ham/0193.74f52046990258e5eb60e561dcd8c2fd',\n",
       " '/Users/rludwig/Desktop/MeetupProjects/NaiveBayesPresentation/data/easy_ham/0194.1f268aec480b5dcc15dcfd1b3ba5f005',\n",
       " '/Users/rludwig/Desktop/MeetupProjects/NaiveBayesPresentation/data/easy_ham/0195.9805aa7e0cec44d00677990ad4db450d',\n",
       " '/Users/rludwig/Desktop/MeetupProjects/NaiveBayesPresentation/data/easy_ham/0196.0e960d0db312a26fade743e699ac5428',\n",
       " '/Users/rludwig/Desktop/MeetupProjects/NaiveBayesPresentation/data/easy_ham/0197.59ea60c031993abdccb762f9dbb35340',\n",
       " '/Users/rludwig/Desktop/MeetupProjects/NaiveBayesPresentation/data/easy_ham/0198.62d2556d8ae158aa2b1410cb82bfff59',\n",
       " '/Users/rludwig/Desktop/MeetupProjects/NaiveBayesPresentation/data/easy_ham/0199.4596bad9aa0a3cba6d7c678253725f5e',\n",
       " '/Users/rludwig/Desktop/MeetupProjects/NaiveBayesPresentation/data/easy_ham/0200.f2cdb426806f3a924340a62789b6add9',\n",
       " '/Users/rludwig/Desktop/MeetupProjects/NaiveBayesPresentation/data/easy_ham/0201.9381ed9aa6cd60f2111acb409240a00b',\n",
       " '/Users/rludwig/Desktop/MeetupProjects/NaiveBayesPresentation/data/easy_ham/0202.e1c7980f6c8a70122d80771533795cb7',\n",
       " '/Users/rludwig/Desktop/MeetupProjects/NaiveBayesPresentation/data/easy_ham/0203.5f055220d95eaa1de71c7f24e004a7f5',\n",
       " '/Users/rludwig/Desktop/MeetupProjects/NaiveBayesPresentation/data/easy_ham/0204.d0d4480181d7f3becf6f755de8a21019',\n",
       " '/Users/rludwig/Desktop/MeetupProjects/NaiveBayesPresentation/data/easy_ham/0205.84f75723dcf7639ed057a32283048bdf',\n",
       " '/Users/rludwig/Desktop/MeetupProjects/NaiveBayesPresentation/data/easy_ham/0206.074e2d251c644abdbd8dab68d035e209',\n",
       " '/Users/rludwig/Desktop/MeetupProjects/NaiveBayesPresentation/data/easy_ham/0207.f7d2d40df256d6caea05314f5334a959',\n",
       " '/Users/rludwig/Desktop/MeetupProjects/NaiveBayesPresentation/data/easy_ham/0208.0577aa26cbb2382d8789377d351ca8bf',\n",
       " '/Users/rludwig/Desktop/MeetupProjects/NaiveBayesPresentation/data/easy_ham/0209.ce176e249d1b3d1bf97d02aaddb1ffd4',\n",
       " '/Users/rludwig/Desktop/MeetupProjects/NaiveBayesPresentation/data/easy_ham/0210.35f5f8aef973035bc4ec4ad13d717ebf',\n",
       " '/Users/rludwig/Desktop/MeetupProjects/NaiveBayesPresentation/data/easy_ham/0211.abf5659ad8e94f01551b685061f06d94',\n",
       " '/Users/rludwig/Desktop/MeetupProjects/NaiveBayesPresentation/data/easy_ham/0212.28ec74e3e60f9ea866ee8ef8e429254b',\n",
       " '/Users/rludwig/Desktop/MeetupProjects/NaiveBayesPresentation/data/easy_ham/0213.ee51a591f777be501b45101a6fe01776',\n",
       " '/Users/rludwig/Desktop/MeetupProjects/NaiveBayesPresentation/data/easy_ham/0214.2d5f01a083341062ac55f45a123f2dcd',\n",
       " '/Users/rludwig/Desktop/MeetupProjects/NaiveBayesPresentation/data/easy_ham/0215.201f7adff1b30b986939a5fa17a80a86',\n",
       " '/Users/rludwig/Desktop/MeetupProjects/NaiveBayesPresentation/data/easy_ham/0216.d46ac2cc3fa5d42e1a9b7d8b4339f789',\n",
       " '/Users/rludwig/Desktop/MeetupProjects/NaiveBayesPresentation/data/easy_ham/0217.36d91fd462703996ea8b15571a778f5b',\n",
       " '/Users/rludwig/Desktop/MeetupProjects/NaiveBayesPresentation/data/easy_ham/0218.9fc48080321710ad8478e7c1c61e4bf0',\n",
       " '/Users/rludwig/Desktop/MeetupProjects/NaiveBayesPresentation/data/easy_ham/0219.c885fbe9fa7e255d6f589b373c8608e3',\n",
       " '/Users/rludwig/Desktop/MeetupProjects/NaiveBayesPresentation/data/easy_ham/0220.1cca495dc30f98fc43adb00683029dbf',\n",
       " '/Users/rludwig/Desktop/MeetupProjects/NaiveBayesPresentation/data/easy_ham/0221.32f8ba14e3285ddafb44327f88a70aa5',\n",
       " '/Users/rludwig/Desktop/MeetupProjects/NaiveBayesPresentation/data/easy_ham/0222.160c5b2e2a80f71367b4d9a47f8f9d4e',\n",
       " '/Users/rludwig/Desktop/MeetupProjects/NaiveBayesPresentation/data/easy_ham/0223.a009cff7a913fae0e58d901e5e847a82',\n",
       " '/Users/rludwig/Desktop/MeetupProjects/NaiveBayesPresentation/data/easy_ham/0224.17430432fb67f4f3278eac9cba4714aa',\n",
       " '/Users/rludwig/Desktop/MeetupProjects/NaiveBayesPresentation/data/easy_ham/0225.80a615200726ed2da1bfd347dcfd648c',\n",
       " '/Users/rludwig/Desktop/MeetupProjects/NaiveBayesPresentation/data/easy_ham/0226.aafb7854f8f17e90f7e5e5f99c54e76e',\n",
       " '/Users/rludwig/Desktop/MeetupProjects/NaiveBayesPresentation/data/easy_ham/0227.95301af4d5382e2029db75a4ecf7560f',\n",
       " '/Users/rludwig/Desktop/MeetupProjects/NaiveBayesPresentation/data/easy_ham/0228.b83f2f4ef114c69d9ca927d1082b393f',\n",
       " '/Users/rludwig/Desktop/MeetupProjects/NaiveBayesPresentation/data/easy_ham/0229.49528f1403038d8d080420b023aa8d4f',\n",
       " '/Users/rludwig/Desktop/MeetupProjects/NaiveBayesPresentation/data/easy_ham/0230.a6e285288a40fccdbea8cf93de581ad2',\n",
       " '/Users/rludwig/Desktop/MeetupProjects/NaiveBayesPresentation/data/easy_ham/0231.1bc071b16de2cc1e2adab334be65f7c6',\n",
       " '/Users/rludwig/Desktop/MeetupProjects/NaiveBayesPresentation/data/easy_ham/0232.12e1f1709e19a9dcd8a0bc051ceeb2c4',\n",
       " '/Users/rludwig/Desktop/MeetupProjects/NaiveBayesPresentation/data/easy_ham/0233.8ee5f381dff013a0ccac9a01ac2d2976',\n",
       " '/Users/rludwig/Desktop/MeetupProjects/NaiveBayesPresentation/data/easy_ham/0234.4d23ca5049f3349529f5612ab5e2120d',\n",
       " '/Users/rludwig/Desktop/MeetupProjects/NaiveBayesPresentation/data/easy_ham/0235.3c824d680d31b3710d8f3475730dc42d',\n",
       " '/Users/rludwig/Desktop/MeetupProjects/NaiveBayesPresentation/data/easy_ham/0236.8af79b4e6416a984668d3f9c272a2822',\n",
       " '/Users/rludwig/Desktop/MeetupProjects/NaiveBayesPresentation/data/easy_ham/0237.a21d745179e22d780194543b7ad765ec',\n",
       " '/Users/rludwig/Desktop/MeetupProjects/NaiveBayesPresentation/data/easy_ham/0238.7b9b9b2e3b3ca24ae8960f03aab57964',\n",
       " '/Users/rludwig/Desktop/MeetupProjects/NaiveBayesPresentation/data/easy_ham/0239.58f51c99b02fc8b49664f15a855af780',\n",
       " '/Users/rludwig/Desktop/MeetupProjects/NaiveBayesPresentation/data/easy_ham/0240.01e0e10c03592e64df9a077f2cd56aba',\n",
       " '/Users/rludwig/Desktop/MeetupProjects/NaiveBayesPresentation/data/easy_ham/0241.f1989a8ee4ea188e90f3a5d4d40f4e36',\n",
       " '/Users/rludwig/Desktop/MeetupProjects/NaiveBayesPresentation/data/easy_ham/0242.a02f8a0ce9077130c10d33db2a16ec36',\n",
       " '/Users/rludwig/Desktop/MeetupProjects/NaiveBayesPresentation/data/easy_ham/0243.7cc0334826a0571058dc604dce04c446',\n",
       " '/Users/rludwig/Desktop/MeetupProjects/NaiveBayesPresentation/data/easy_ham/0244.82d1da61c4fd05691083eeb9886e0788',\n",
       " '/Users/rludwig/Desktop/MeetupProjects/NaiveBayesPresentation/data/easy_ham/0245.39190ace43266b978a8561863c8841c0',\n",
       " '/Users/rludwig/Desktop/MeetupProjects/NaiveBayesPresentation/data/easy_ham/0246.3422f94c01ebd283ffac23522268f3f8',\n",
       " '/Users/rludwig/Desktop/MeetupProjects/NaiveBayesPresentation/data/easy_ham/0247.98ed5d80f80da3915b5a1d10ee19c50a',\n",
       " '/Users/rludwig/Desktop/MeetupProjects/NaiveBayesPresentation/data/easy_ham/0248.a7515095844cf4106ed86f1348b8c85d',\n",
       " '/Users/rludwig/Desktop/MeetupProjects/NaiveBayesPresentation/data/easy_ham/0249.d591bcf606114a502b4d41e8f4dde95a',\n",
       " '/Users/rludwig/Desktop/MeetupProjects/NaiveBayesPresentation/data/easy_ham/0250.21660c434f8535865d04d112f8105708',\n",
       " '/Users/rludwig/Desktop/MeetupProjects/NaiveBayesPresentation/data/easy_ham/0251.f9d83ac9ced9eab63df7da2bccb83bc8',\n",
       " '/Users/rludwig/Desktop/MeetupProjects/NaiveBayesPresentation/data/easy_ham/0252.274e70cd31fb5c72b9e7aee909c53cb1',\n",
       " '/Users/rludwig/Desktop/MeetupProjects/NaiveBayesPresentation/data/easy_ham/0253.f8c6edd67ecdabe677a8f5cd082e3fc5',\n",
       " '/Users/rludwig/Desktop/MeetupProjects/NaiveBayesPresentation/data/easy_ham/0254.d40c629a02c7361e674d0d96ca130fe0',\n",
       " '/Users/rludwig/Desktop/MeetupProjects/NaiveBayesPresentation/data/easy_ham/0255.98492176173fd6951086bb7af9e0008a',\n",
       " '/Users/rludwig/Desktop/MeetupProjects/NaiveBayesPresentation/data/easy_ham/0256.6162c21da16ce179d6ed0238a7413a8d',\n",
       " '/Users/rludwig/Desktop/MeetupProjects/NaiveBayesPresentation/data/easy_ham/0257.d09e74208e9cb40c0eacbb77afa80e74',\n",
       " '/Users/rludwig/Desktop/MeetupProjects/NaiveBayesPresentation/data/easy_ham/0258.f47b7f8872a17204171574c20fb546ab',\n",
       " '/Users/rludwig/Desktop/MeetupProjects/NaiveBayesPresentation/data/easy_ham/0259.434a3208757e9738f7af6a004f42c5f1',\n",
       " '/Users/rludwig/Desktop/MeetupProjects/NaiveBayesPresentation/data/easy_ham/0260.b68400a28ee29cb2f24149a03db1fd9e',\n",
       " '/Users/rludwig/Desktop/MeetupProjects/NaiveBayesPresentation/data/easy_ham/0261.45da0560dfe8183b3433e2cf2f3a7835',\n",
       " '/Users/rludwig/Desktop/MeetupProjects/NaiveBayesPresentation/data/easy_ham/0262.4b1558b6e0d2e4edd9e8bed23afb9d40',\n",
       " '/Users/rludwig/Desktop/MeetupProjects/NaiveBayesPresentation/data/easy_ham/0263.ffa4db454754b3c66fd025e92912941e',\n",
       " '/Users/rludwig/Desktop/MeetupProjects/NaiveBayesPresentation/data/easy_ham/0264.a1183a59e4f0a71e80378d9404a3212f',\n",
       " '/Users/rludwig/Desktop/MeetupProjects/NaiveBayesPresentation/data/easy_ham/0265.84c034d3d76a3d069732c02e1101fe23',\n",
       " '/Users/rludwig/Desktop/MeetupProjects/NaiveBayesPresentation/data/easy_ham/0266.387a672eb91910a913cde6ebdf33ef05',\n",
       " '/Users/rludwig/Desktop/MeetupProjects/NaiveBayesPresentation/data/easy_ham/0267.218a528c448166d39f853cf75d8890dd',\n",
       " '/Users/rludwig/Desktop/MeetupProjects/NaiveBayesPresentation/data/easy_ham/0268.77ef28e27a9ee085646f260418072111',\n",
       " '/Users/rludwig/Desktop/MeetupProjects/NaiveBayesPresentation/data/easy_ham/0269.5a74b38284c7e9d85338eca0a25cb191',\n",
       " '/Users/rludwig/Desktop/MeetupProjects/NaiveBayesPresentation/data/easy_ham/0270.5a7d9b20e00fc24d6c929c198718f5a3',\n",
       " '/Users/rludwig/Desktop/MeetupProjects/NaiveBayesPresentation/data/easy_ham/0271.349d737f101674586c61996593772a63',\n",
       " '/Users/rludwig/Desktop/MeetupProjects/NaiveBayesPresentation/data/easy_ham/0272.c3e06e3aa72f63dee68faaed6fbaaa1a',\n",
       " '/Users/rludwig/Desktop/MeetupProjects/NaiveBayesPresentation/data/easy_ham/0273.b76b7b918548a82372b04341746503e7',\n",
       " '/Users/rludwig/Desktop/MeetupProjects/NaiveBayesPresentation/data/easy_ham/0274.62155dd02f8719d2cfd0f76671549737',\n",
       " '/Users/rludwig/Desktop/MeetupProjects/NaiveBayesPresentation/data/easy_ham/0275.42292c1f2e4d6db665ed49a551960b3b',\n",
       " '/Users/rludwig/Desktop/MeetupProjects/NaiveBayesPresentation/data/easy_ham/0276.394eddb373972d985cabf6f63953a3d0',\n",
       " '/Users/rludwig/Desktop/MeetupProjects/NaiveBayesPresentation/data/easy_ham/0277.43d8f575fabb051cc7041c02c9f002a8',\n",
       " '/Users/rludwig/Desktop/MeetupProjects/NaiveBayesPresentation/data/easy_ham/0278.11523c7a537578530720c5a697c916c7',\n",
       " '/Users/rludwig/Desktop/MeetupProjects/NaiveBayesPresentation/data/easy_ham/0279.42cd63d15451f9b7dbe750ea896ed78b',\n",
       " '/Users/rludwig/Desktop/MeetupProjects/NaiveBayesPresentation/data/easy_ham/0280.6dca279b3e6aa252197d8439841032b4',\n",
       " '/Users/rludwig/Desktop/MeetupProjects/NaiveBayesPresentation/data/easy_ham/0281.b12d42ee9c0659d41d852c277bff8cde',\n",
       " '/Users/rludwig/Desktop/MeetupProjects/NaiveBayesPresentation/data/easy_ham/0282.fd87e7b9765004f6123ebe981bc16a1c',\n",
       " '/Users/rludwig/Desktop/MeetupProjects/NaiveBayesPresentation/data/easy_ham/0283.469fc9946c6d920af042b022bd63a2f9',\n",
       " '/Users/rludwig/Desktop/MeetupProjects/NaiveBayesPresentation/data/easy_ham/0284.4af1f0641ea6aae6a9645dcbeabe95e9',\n",
       " '/Users/rludwig/Desktop/MeetupProjects/NaiveBayesPresentation/data/easy_ham/0285.c50f8a5a908e21636fe71e522c3e462a',\n",
       " '/Users/rludwig/Desktop/MeetupProjects/NaiveBayesPresentation/data/easy_ham/0286.25aefc468274fe144edb1ee788d6c999',\n",
       " '/Users/rludwig/Desktop/MeetupProjects/NaiveBayesPresentation/data/easy_ham/0287.18f9a821d67a503c0d54a2356a0f8a4a',\n",
       " '/Users/rludwig/Desktop/MeetupProjects/NaiveBayesPresentation/data/easy_ham/0288.3ae040d2c993ea997470df41f31aebcb',\n",
       " '/Users/rludwig/Desktop/MeetupProjects/NaiveBayesPresentation/data/easy_ham/0289.cb9c0595bddae2c25357ce5c9fbaf687',\n",
       " '/Users/rludwig/Desktop/MeetupProjects/NaiveBayesPresentation/data/easy_ham/0290.3dc3f5442e351aea16d027b6c5a44e65',\n",
       " '/Users/rludwig/Desktop/MeetupProjects/NaiveBayesPresentation/data/easy_ham/0291.b37f92cfbb14d2f6a43c705ef7381702',\n",
       " '/Users/rludwig/Desktop/MeetupProjects/NaiveBayesPresentation/data/easy_ham/0292.6599ff4b0c1593297dd17247919b3fcf',\n",
       " '/Users/rludwig/Desktop/MeetupProjects/NaiveBayesPresentation/data/easy_ham/0293.24bc65777fdb12d17b16e3976c1f7c17',\n",
       " '/Users/rludwig/Desktop/MeetupProjects/NaiveBayesPresentation/data/easy_ham/0294.145bbce5c541610ee520838637d2e112',\n",
       " '/Users/rludwig/Desktop/MeetupProjects/NaiveBayesPresentation/data/easy_ham/0295.27b3176967da2ccf237679a15788d821',\n",
       " '/Users/rludwig/Desktop/MeetupProjects/NaiveBayesPresentation/data/easy_ham/0296.42216a75e0256510b216eaba6893d40d',\n",
       " '/Users/rludwig/Desktop/MeetupProjects/NaiveBayesPresentation/data/easy_ham/0297.738b9e94deb4bf077221292f071de345',\n",
       " '/Users/rludwig/Desktop/MeetupProjects/NaiveBayesPresentation/data/easy_ham/0298.fb2fe4458efbd24753b011bf6db2deab',\n",
       " '/Users/rludwig/Desktop/MeetupProjects/NaiveBayesPresentation/data/easy_ham/0299.4634eee63f5808c91c2f30720802a5c5',\n",
       " '/Users/rludwig/Desktop/MeetupProjects/NaiveBayesPresentation/data/easy_ham/0300.2e30b3bffb4f2887df203c197d11e936',\n",
       " '/Users/rludwig/Desktop/MeetupProjects/NaiveBayesPresentation/data/easy_ham/0301.a1d81dfa1becbc6fbf1cec39b45c2a05',\n",
       " '/Users/rludwig/Desktop/MeetupProjects/NaiveBayesPresentation/data/easy_ham/0302.fdd70fa4825d589e4646798a785f6902',\n",
       " '/Users/rludwig/Desktop/MeetupProjects/NaiveBayesPresentation/data/easy_ham/0303.e334b6aaad7609a7613e33bb21cc9636',\n",
       " '/Users/rludwig/Desktop/MeetupProjects/NaiveBayesPresentation/data/easy_ham/0304.73bb5ec3f02f4db15750531e226b1cb8',\n",
       " '/Users/rludwig/Desktop/MeetupProjects/NaiveBayesPresentation/data/easy_ham/0305.99f57ae578aceda0433b60cb35fd4ea2',\n",
       " '/Users/rludwig/Desktop/MeetupProjects/NaiveBayesPresentation/data/easy_ham/0306.7e8d58915713dcad975ed5591b31bdf4',\n",
       " '/Users/rludwig/Desktop/MeetupProjects/NaiveBayesPresentation/data/easy_ham/0307.d7beae100d2ee2557b7fed18b6050a49',\n",
       " '/Users/rludwig/Desktop/MeetupProjects/NaiveBayesPresentation/data/easy_ham/0308.5c3218cf2a6260c6178cbea1b9e345f7',\n",
       " '/Users/rludwig/Desktop/MeetupProjects/NaiveBayesPresentation/data/easy_ham/0309.f8e4b246af5b6e995aef2cae7f325a1c',\n",
       " '/Users/rludwig/Desktop/MeetupProjects/NaiveBayesPresentation/data/easy_ham/0310.e43b2f0e48c428fa52100f29a9e0d5ac',\n",
       " '/Users/rludwig/Desktop/MeetupProjects/NaiveBayesPresentation/data/easy_ham/0311.de3984f9da9dba841ba515681fa065a6',\n",
       " '/Users/rludwig/Desktop/MeetupProjects/NaiveBayesPresentation/data/easy_ham/0312.d17a25919e7985a270c6fdee37a8f83e',\n",
       " '/Users/rludwig/Desktop/MeetupProjects/NaiveBayesPresentation/data/easy_ham/0313.6668b975a285edaaecc0aac3b36d3fa8',\n",
       " '/Users/rludwig/Desktop/MeetupProjects/NaiveBayesPresentation/data/easy_ham/0314.105a762fc4c2f6b46bc40fdbd14e5754',\n",
       " '/Users/rludwig/Desktop/MeetupProjects/NaiveBayesPresentation/data/easy_ham/0315.15b9ae14057d961ba4ccec2283b8d90a',\n",
       " '/Users/rludwig/Desktop/MeetupProjects/NaiveBayesPresentation/data/easy_ham/0316.0b7a8e1acbd09115574dc58120d93000',\n",
       " '/Users/rludwig/Desktop/MeetupProjects/NaiveBayesPresentation/data/easy_ham/0317.6db6d4e89fecd143caaf99e030792bd1',\n",
       " '/Users/rludwig/Desktop/MeetupProjects/NaiveBayesPresentation/data/easy_ham/0318.839e0c92ebdd46043e20fa8c2846284d',\n",
       " '/Users/rludwig/Desktop/MeetupProjects/NaiveBayesPresentation/data/easy_ham/0319.d519b69614d9182047e448e4d96db712',\n",
       " '/Users/rludwig/Desktop/MeetupProjects/NaiveBayesPresentation/data/easy_ham/0320.6c54ea1bb991c6fae395588219cfce37',\n",
       " '/Users/rludwig/Desktop/MeetupProjects/NaiveBayesPresentation/data/easy_ham/0321.b100345ae7b5e980f41d9c6e0ff3159a',\n",
       " '/Users/rludwig/Desktop/MeetupProjects/NaiveBayesPresentation/data/easy_ham/0322.1f9c23ccba1c0408c648f6cb0b392e93',\n",
       " '/Users/rludwig/Desktop/MeetupProjects/NaiveBayesPresentation/data/easy_ham/0323.d28819c84ee48388f5a58021028385dc',\n",
       " '/Users/rludwig/Desktop/MeetupProjects/NaiveBayesPresentation/data/easy_ham/0324.d425c24d444091807e283e66449853b0',\n",
       " '/Users/rludwig/Desktop/MeetupProjects/NaiveBayesPresentation/data/easy_ham/0325.2de3d7f6cb27edcb0bcc965b3353a5ed',\n",
       " '/Users/rludwig/Desktop/MeetupProjects/NaiveBayesPresentation/data/easy_ham/0326.703aa5be82f6586d348723b732176418',\n",
       " '/Users/rludwig/Desktop/MeetupProjects/NaiveBayesPresentation/data/easy_ham/0327.bf6719c9c1709b6da832232acb1ee97f',\n",
       " '/Users/rludwig/Desktop/MeetupProjects/NaiveBayesPresentation/data/easy_ham/0328.dd38a12b955002695e7a0ec81129b043',\n",
       " '/Users/rludwig/Desktop/MeetupProjects/NaiveBayesPresentation/data/easy_ham/0329.0479ba224116953d0c94c30edbc91b55',\n",
       " '/Users/rludwig/Desktop/MeetupProjects/NaiveBayesPresentation/data/easy_ham/0330.5bb543263217abfd949c7c2060ab0a7e',\n",
       " '/Users/rludwig/Desktop/MeetupProjects/NaiveBayesPresentation/data/easy_ham/0331.f9bcb003e6d1710da66b329d2eba303a',\n",
       " '/Users/rludwig/Desktop/MeetupProjects/NaiveBayesPresentation/data/easy_ham/0332.daed28f33b65dd9f1c91fa3737d21340',\n",
       " '/Users/rludwig/Desktop/MeetupProjects/NaiveBayesPresentation/data/easy_ham/0333.b702dbd33bcec7b614b9f223b2487688',\n",
       " '/Users/rludwig/Desktop/MeetupProjects/NaiveBayesPresentation/data/easy_ham/0334.c59bc33795d3a1b56747297a900bd0ce',\n",
       " '/Users/rludwig/Desktop/MeetupProjects/NaiveBayesPresentation/data/easy_ham/0335.fcbba7ed1ebfb6dc83ba2f65d555240e',\n",
       " '/Users/rludwig/Desktop/MeetupProjects/NaiveBayesPresentation/data/easy_ham/0336.d8d6d93ff9918e7a6b4b83a5bda3043e',\n",
       " '/Users/rludwig/Desktop/MeetupProjects/NaiveBayesPresentation/data/easy_ham/0337.9ae9f15c4dceca867140e95cad506234',\n",
       " '/Users/rludwig/Desktop/MeetupProjects/NaiveBayesPresentation/data/easy_ham/0338.b09f1384db1376a00e1c885adf9a1e05',\n",
       " '/Users/rludwig/Desktop/MeetupProjects/NaiveBayesPresentation/data/easy_ham/0339.45c8c8ff5b106eddd657973d07462c82',\n",
       " '/Users/rludwig/Desktop/MeetupProjects/NaiveBayesPresentation/data/easy_ham/0340.aae9e33fb151ae061354b8cfe9f90b3d',\n",
       " '/Users/rludwig/Desktop/MeetupProjects/NaiveBayesPresentation/data/easy_ham/0341.e8a70f3df9757b1df7d8e36de3e01b0d',\n",
       " '/Users/rludwig/Desktop/MeetupProjects/NaiveBayesPresentation/data/easy_ham/0342.16612b49bb48a41b6bdba8dff6bb2399',\n",
       " '/Users/rludwig/Desktop/MeetupProjects/NaiveBayesPresentation/data/easy_ham/0343.6e7c6e5766528e1cf49b6dfb904b8182',\n",
       " '/Users/rludwig/Desktop/MeetupProjects/NaiveBayesPresentation/data/easy_ham/0344.df8e2450d47669cc5ae2a6e2c0cce1a5',\n",
       " '/Users/rludwig/Desktop/MeetupProjects/NaiveBayesPresentation/data/easy_ham/0345.c30e766af45337ac505a52ad592ab954',\n",
       " '/Users/rludwig/Desktop/MeetupProjects/NaiveBayesPresentation/data/easy_ham/0346.99d1bb3416a43eaa05b6162d7f38eb71',\n",
       " '/Users/rludwig/Desktop/MeetupProjects/NaiveBayesPresentation/data/easy_ham/0347.0e43f8ba3aadeed419f512188e5d8aa4',\n",
       " '/Users/rludwig/Desktop/MeetupProjects/NaiveBayesPresentation/data/easy_ham/0348.3b405d7ce51b88004e6106862f9e3ac4',\n",
       " '/Users/rludwig/Desktop/MeetupProjects/NaiveBayesPresentation/data/easy_ham/0349.1f77fea2fe759b72c8f29740558ffae8',\n",
       " '/Users/rludwig/Desktop/MeetupProjects/NaiveBayesPresentation/data/easy_ham/0350.dabd503455d16db68a0e4bad24ffc736',\n",
       " '/Users/rludwig/Desktop/MeetupProjects/NaiveBayesPresentation/data/easy_ham/0351.a7381397d31e8511581dc5cd59f39959',\n",
       " '/Users/rludwig/Desktop/MeetupProjects/NaiveBayesPresentation/data/easy_ham/0352.632edfcf333b87a4994c49313b4d515a',\n",
       " '/Users/rludwig/Desktop/MeetupProjects/NaiveBayesPresentation/data/easy_ham/0353.f4c84bdca20621cd5aa9bf8d6210e0b4',\n",
       " '/Users/rludwig/Desktop/MeetupProjects/NaiveBayesPresentation/data/easy_ham/0354.297d496266df9171aace690c7483f35c',\n",
       " '/Users/rludwig/Desktop/MeetupProjects/NaiveBayesPresentation/data/easy_ham/0355.2d1f5d2164caea679047233e08a10a58',\n",
       " '/Users/rludwig/Desktop/MeetupProjects/NaiveBayesPresentation/data/easy_ham/0356.b70fca5029fcd82a09ec6b960f4920af',\n",
       " '/Users/rludwig/Desktop/MeetupProjects/NaiveBayesPresentation/data/easy_ham/0357.1dbdc4d7a9e7e290455af62c1df78649',\n",
       " '/Users/rludwig/Desktop/MeetupProjects/NaiveBayesPresentation/data/easy_ham/0358.b93b0089eb452cabfbaa0a77cb3461fd',\n",
       " '/Users/rludwig/Desktop/MeetupProjects/NaiveBayesPresentation/data/easy_ham/0359.7f80dc1df7de3b5121e43f29f0a9e911',\n",
       " '/Users/rludwig/Desktop/MeetupProjects/NaiveBayesPresentation/data/easy_ham/0360.f47b9aa1071c95031d17821c25d3de78',\n",
       " '/Users/rludwig/Desktop/MeetupProjects/NaiveBayesPresentation/data/easy_ham/0361.36332081025aaf122520737c26461a88',\n",
       " '/Users/rludwig/Desktop/MeetupProjects/NaiveBayesPresentation/data/easy_ham/0362.1ce94200cfcb544dc62bbc1134c8676e',\n",
       " '/Users/rludwig/Desktop/MeetupProjects/NaiveBayesPresentation/data/easy_ham/0363.52461bc133cd3bf0b95a4e40ddb28a7e',\n",
       " '/Users/rludwig/Desktop/MeetupProjects/NaiveBayesPresentation/data/easy_ham/0364.558e46276655a18fd2be3beb81c945c1',\n",
       " '/Users/rludwig/Desktop/MeetupProjects/NaiveBayesPresentation/data/easy_ham/0365.5351f6327efeedb441147904b04bd96a',\n",
       " '/Users/rludwig/Desktop/MeetupProjects/NaiveBayesPresentation/data/easy_ham/0366.a26fbe93fe54eeac188cb8ce2d96460a',\n",
       " '/Users/rludwig/Desktop/MeetupProjects/NaiveBayesPresentation/data/easy_ham/0367.b5b7e46c0cd3cee620aa699eca0359c6',\n",
       " '/Users/rludwig/Desktop/MeetupProjects/NaiveBayesPresentation/data/easy_ham/0368.85ad0c76c076fbb624c7adfebc928d84',\n",
       " '/Users/rludwig/Desktop/MeetupProjects/NaiveBayesPresentation/data/easy_ham/0369.7027b551cd8af46e011e2f2c53da03e9',\n",
       " '/Users/rludwig/Desktop/MeetupProjects/NaiveBayesPresentation/data/easy_ham/0370.de5338e5d218cbd21c5eab37794b3d47',\n",
       " '/Users/rludwig/Desktop/MeetupProjects/NaiveBayesPresentation/data/easy_ham/0371.9d01da72c49d57814fa8a37c7b981bf1',\n",
       " '/Users/rludwig/Desktop/MeetupProjects/NaiveBayesPresentation/data/easy_ham/0372.4350700fc8877e7f9b9f262d88c66a7c',\n",
       " '/Users/rludwig/Desktop/MeetupProjects/NaiveBayesPresentation/data/easy_ham/0373.24b5313473b0c23decb6632ca5e22237',\n",
       " '/Users/rludwig/Desktop/MeetupProjects/NaiveBayesPresentation/data/easy_ham/0374.ee8aa01327991442d06f41641b7b2fac',\n",
       " '/Users/rludwig/Desktop/MeetupProjects/NaiveBayesPresentation/data/easy_ham/0375.54d0a570b81851127b73cebb8741a2df',\n",
       " '/Users/rludwig/Desktop/MeetupProjects/NaiveBayesPresentation/data/easy_ham/0376.c0225fd19682f7ac58d090b6528af380',\n",
       " '/Users/rludwig/Desktop/MeetupProjects/NaiveBayesPresentation/data/easy_ham/0377.59c36dc5f85eeda650abcec0bf3ced32',\n",
       " '/Users/rludwig/Desktop/MeetupProjects/NaiveBayesPresentation/data/easy_ham/0378.933eac5ec9a3ef912c40c6a30a11e07d',\n",
       " '/Users/rludwig/Desktop/MeetupProjects/NaiveBayesPresentation/data/easy_ham/0379.c363b44b5543959823a61e9d7c1a7252',\n",
       " '/Users/rludwig/Desktop/MeetupProjects/NaiveBayesPresentation/data/easy_ham/0380.7479693323d404f78e18d20d3b677e14',\n",
       " '/Users/rludwig/Desktop/MeetupProjects/NaiveBayesPresentation/data/easy_ham/0381.040644bb43a533c43f40361bd1d35355',\n",
       " '/Users/rludwig/Desktop/MeetupProjects/NaiveBayesPresentation/data/easy_ham/0382.2572938f55199fad41fe22683d469d00',\n",
       " '/Users/rludwig/Desktop/MeetupProjects/NaiveBayesPresentation/data/easy_ham/0383.62511f9f1c1817dc6df14eb4912163c2',\n",
       " '/Users/rludwig/Desktop/MeetupProjects/NaiveBayesPresentation/data/easy_ham/0384.7de3630b963522fb78746aaf543529c0',\n",
       " '/Users/rludwig/Desktop/MeetupProjects/NaiveBayesPresentation/data/easy_ham/0385.86c7c23ec4e9892f6bbfa377760fd303',\n",
       " '/Users/rludwig/Desktop/MeetupProjects/NaiveBayesPresentation/data/easy_ham/0386.8c0d37a52e39414045665d969233d6eb',\n",
       " '/Users/rludwig/Desktop/MeetupProjects/NaiveBayesPresentation/data/easy_ham/0387.38b98a83546245da45d8aeb3ff4b1098',\n",
       " '/Users/rludwig/Desktop/MeetupProjects/NaiveBayesPresentation/data/easy_ham/0388.c91d0f2ec4ba6d7647a48ebe7cf2f736',\n",
       " '/Users/rludwig/Desktop/MeetupProjects/NaiveBayesPresentation/data/easy_ham/0389.1fe03acd5f135ac67ed7a7f35c4b3347',\n",
       " '/Users/rludwig/Desktop/MeetupProjects/NaiveBayesPresentation/data/easy_ham/0390.d1ecb44eef90f33245ee0835d94e80ad',\n",
       " '/Users/rludwig/Desktop/MeetupProjects/NaiveBayesPresentation/data/easy_ham/0391.e1f15b5f5a6dbbb8cde6571055be3127',\n",
       " '/Users/rludwig/Desktop/MeetupProjects/NaiveBayesPresentation/data/easy_ham/0392.2763fc795021223f9cfc870a5ce0bc25',\n",
       " '/Users/rludwig/Desktop/MeetupProjects/NaiveBayesPresentation/data/easy_ham/0393.0b4def24fd1835de40d83f2a8e43bd7d',\n",
       " '/Users/rludwig/Desktop/MeetupProjects/NaiveBayesPresentation/data/easy_ham/0394.1c86a541cac55ed69e47b32b325352cb',\n",
       " '/Users/rludwig/Desktop/MeetupProjects/NaiveBayesPresentation/data/easy_ham/0395.9974c2f067b24a73a2cd3f9d1af21e57',\n",
       " '/Users/rludwig/Desktop/MeetupProjects/NaiveBayesPresentation/data/easy_ham/0396.0922332b5ca3f934481ab4c275a79001',\n",
       " '/Users/rludwig/Desktop/MeetupProjects/NaiveBayesPresentation/data/easy_ham/0397.bdea17c7f90068a763d191914770f6d6',\n",
       " '/Users/rludwig/Desktop/MeetupProjects/NaiveBayesPresentation/data/easy_ham/0398.d44804f613ef8d8ddd5ae7aa8329c1b0',\n",
       " '/Users/rludwig/Desktop/MeetupProjects/NaiveBayesPresentation/data/easy_ham/0399.20be4fa82cc4b6342cf49fc6606c492e',\n",
       " '/Users/rludwig/Desktop/MeetupProjects/NaiveBayesPresentation/data/easy_ham/0400.bc26e5bca8b09db7b496d47715baacad',\n",
       " '/Users/rludwig/Desktop/MeetupProjects/NaiveBayesPresentation/data/easy_ham/0401.9ab0bcc81e70d6930acfefc2854a0172',\n",
       " '/Users/rludwig/Desktop/MeetupProjects/NaiveBayesPresentation/data/easy_ham/0402.a511fb74deca95f59d4eff5daa45a9b8',\n",
       " '/Users/rludwig/Desktop/MeetupProjects/NaiveBayesPresentation/data/easy_ham/0403.1e5eeaca6a82f4eeccc65c179efe2c7c',\n",
       " '/Users/rludwig/Desktop/MeetupProjects/NaiveBayesPresentation/data/easy_ham/0404.eceb4a64a9ef4c1d738782efde23c09b',\n",
       " '/Users/rludwig/Desktop/MeetupProjects/NaiveBayesPresentation/data/easy_ham/0405.ef8e0986c113ddf12faa7c1a05ace625',\n",
       " '/Users/rludwig/Desktop/MeetupProjects/NaiveBayesPresentation/data/easy_ham/0406.9f6672caace4903c3d6180f2e95a3153',\n",
       " '/Users/rludwig/Desktop/MeetupProjects/NaiveBayesPresentation/data/easy_ham/0407.3436b9e83d36200b38a97b7fa179b6aa',\n",
       " '/Users/rludwig/Desktop/MeetupProjects/NaiveBayesPresentation/data/easy_ham/0408.3e476c9b90944c3b5fccdb2055bce897',\n",
       " '/Users/rludwig/Desktop/MeetupProjects/NaiveBayesPresentation/data/easy_ham/0409.7fdf4f0f8aad0b0ad4654b10afae9225',\n",
       " '/Users/rludwig/Desktop/MeetupProjects/NaiveBayesPresentation/data/easy_ham/0410.a5e658e20b48409116fd339f5a8473f7',\n",
       " '/Users/rludwig/Desktop/MeetupProjects/NaiveBayesPresentation/data/easy_ham/0411.315b5c32101916ae2192760585b71763',\n",
       " '/Users/rludwig/Desktop/MeetupProjects/NaiveBayesPresentation/data/easy_ham/0412.a141da0849f5295c2a6230fd3ed9647c',\n",
       " '/Users/rludwig/Desktop/MeetupProjects/NaiveBayesPresentation/data/easy_ham/0413.c4ecec1b9ca5e6bd1fd9bc7fa6c29b2d',\n",
       " '/Users/rludwig/Desktop/MeetupProjects/NaiveBayesPresentation/data/easy_ham/0414.06408c603660212989180dd086b0f460',\n",
       " '/Users/rludwig/Desktop/MeetupProjects/NaiveBayesPresentation/data/easy_ham/0415.6dfea45b8aef7d6ef6a462974d61ce3e',\n",
       " '/Users/rludwig/Desktop/MeetupProjects/NaiveBayesPresentation/data/easy_ham/0416.6071df16fc9f7c45f65163f5b10a16d2',\n",
       " '/Users/rludwig/Desktop/MeetupProjects/NaiveBayesPresentation/data/easy_ham/0417.74bf147587a49c58a67490c0211f7928',\n",
       " '/Users/rludwig/Desktop/MeetupProjects/NaiveBayesPresentation/data/easy_ham/0418.c0b6aa880f0653a8cef85a9bfb1af86c',\n",
       " '/Users/rludwig/Desktop/MeetupProjects/NaiveBayesPresentation/data/easy_ham/0419.baeaada19ebce19874d17d5ef73ced0d',\n",
       " '/Users/rludwig/Desktop/MeetupProjects/NaiveBayesPresentation/data/easy_ham/0420.be62f32c2be92df5f22deacf5c399407',\n",
       " '/Users/rludwig/Desktop/MeetupProjects/NaiveBayesPresentation/data/easy_ham/0421.4df8b9eebae5cbf2d5213e2040d21c9e',\n",
       " '/Users/rludwig/Desktop/MeetupProjects/NaiveBayesPresentation/data/easy_ham/0422.cf8753c2ab03fedf1c9a2d8fb1c1578f',\n",
       " '/Users/rludwig/Desktop/MeetupProjects/NaiveBayesPresentation/data/easy_ham/0423.353c3de8f5c7114179771f9b44e70b9e',\n",
       " '/Users/rludwig/Desktop/MeetupProjects/NaiveBayesPresentation/data/easy_ham/0424.607e8523fa3516a6dc513c8a20682fc3',\n",
       " '/Users/rludwig/Desktop/MeetupProjects/NaiveBayesPresentation/data/easy_ham/0425.bc356b284544c185e4ac9e11f4ec1d4a',\n",
       " '/Users/rludwig/Desktop/MeetupProjects/NaiveBayesPresentation/data/easy_ham/0426.9239b06238f5128c209bbdd252e0fb8f',\n",
       " '/Users/rludwig/Desktop/MeetupProjects/NaiveBayesPresentation/data/easy_ham/0427.0a5cdbfdb46be2bfac7cff1cae89dc25',\n",
       " '/Users/rludwig/Desktop/MeetupProjects/NaiveBayesPresentation/data/easy_ham/0428.de24142d3236bb96f3ef6542c7dd98e8',\n",
       " '/Users/rludwig/Desktop/MeetupProjects/NaiveBayesPresentation/data/easy_ham/0429.507724a2bf64d0cfb77a9521b6e7c616',\n",
       " '/Users/rludwig/Desktop/MeetupProjects/NaiveBayesPresentation/data/easy_ham/0430.4e314d3f69d885ce2c18d2e64eb72a1b',\n",
       " '/Users/rludwig/Desktop/MeetupProjects/NaiveBayesPresentation/data/easy_ham/0431.26f19fa47fab85e813b1aba8ff6139d6',\n",
       " '/Users/rludwig/Desktop/MeetupProjects/NaiveBayesPresentation/data/easy_ham/0432.4428728444aeb681db1d4382bfeb8d02',\n",
       " '/Users/rludwig/Desktop/MeetupProjects/NaiveBayesPresentation/data/easy_ham/0433.17677985f6ef28591870fe906db93f8b',\n",
       " '/Users/rludwig/Desktop/MeetupProjects/NaiveBayesPresentation/data/easy_ham/0434.0f6c124ba411ccbf48ed5ff2e19c4603',\n",
       " '/Users/rludwig/Desktop/MeetupProjects/NaiveBayesPresentation/data/easy_ham/0435.7d06c898a16be4efbfbdef62c347ab59',\n",
       " '/Users/rludwig/Desktop/MeetupProjects/NaiveBayesPresentation/data/easy_ham/0436.e455bb708c5f690f929aa5359a0a1411',\n",
       " '/Users/rludwig/Desktop/MeetupProjects/NaiveBayesPresentation/data/easy_ham/0437.b5837ab1d2b764157464b0557b4aad93',\n",
       " '/Users/rludwig/Desktop/MeetupProjects/NaiveBayesPresentation/data/easy_ham/0438.2c8e5278416ba90daef0c4874b5f00bb',\n",
       " '/Users/rludwig/Desktop/MeetupProjects/NaiveBayesPresentation/data/easy_ham/0439.44081ab02df438a46002b412aee32fbc',\n",
       " '/Users/rludwig/Desktop/MeetupProjects/NaiveBayesPresentation/data/easy_ham/0440.59f6365d96fda96ac8b48059358e18b0',\n",
       " '/Users/rludwig/Desktop/MeetupProjects/NaiveBayesPresentation/data/easy_ham/0441.ceab9dcbd4892de96af3e38b96205f54',\n",
       " '/Users/rludwig/Desktop/MeetupProjects/NaiveBayesPresentation/data/easy_ham/0442.91893de42b92445e8dc40a3900809439',\n",
       " '/Users/rludwig/Desktop/MeetupProjects/NaiveBayesPresentation/data/easy_ham/0443.9a9e4c025d607ce0c5d103c02ca3c178',\n",
       " '/Users/rludwig/Desktop/MeetupProjects/NaiveBayesPresentation/data/easy_ham/0444.58dd409fb0fc0d853c6b9042560c6ae1',\n",
       " '/Users/rludwig/Desktop/MeetupProjects/NaiveBayesPresentation/data/easy_ham/0445.bca3c6c6a0dc8f7e0c3bd140936897a8',\n",
       " '/Users/rludwig/Desktop/MeetupProjects/NaiveBayesPresentation/data/easy_ham/0446.321425772cd75481e72bd8c30d1bd78c',\n",
       " '/Users/rludwig/Desktop/MeetupProjects/NaiveBayesPresentation/data/easy_ham/0447.a195d9d55e47f858ccf5755550258b40',\n",
       " '/Users/rludwig/Desktop/MeetupProjects/NaiveBayesPresentation/data/easy_ham/0448.5f7f638ed6f6f14736efc14439d6780a',\n",
       " '/Users/rludwig/Desktop/MeetupProjects/NaiveBayesPresentation/data/easy_ham/0449.4166ac284c694dba775d01cb7f667947',\n",
       " '/Users/rludwig/Desktop/MeetupProjects/NaiveBayesPresentation/data/easy_ham/0450.8c49e2b6003571f6fa2911c172bec2c9',\n",
       " '/Users/rludwig/Desktop/MeetupProjects/NaiveBayesPresentation/data/easy_ham/0451.91577b6958781643d55de1d239570131',\n",
       " '/Users/rludwig/Desktop/MeetupProjects/NaiveBayesPresentation/data/easy_ham/0452.3121141cfedff2994e3c2db2249dd6c7',\n",
       " '/Users/rludwig/Desktop/MeetupProjects/NaiveBayesPresentation/data/easy_ham/0453.783e494dbe429698f152a49c0ff0d719',\n",
       " '/Users/rludwig/Desktop/MeetupProjects/NaiveBayesPresentation/data/easy_ham/0454.c215b0f3f009fca9e6f019a5cbd00765',\n",
       " '/Users/rludwig/Desktop/MeetupProjects/NaiveBayesPresentation/data/easy_ham/0455.f738e592a578bdfe866563c84443940e',\n",
       " '/Users/rludwig/Desktop/MeetupProjects/NaiveBayesPresentation/data/easy_ham/0456.6902449f33fafc3cf77ec2d4e2a3851e',\n",
       " '/Users/rludwig/Desktop/MeetupProjects/NaiveBayesPresentation/data/easy_ham/0457.dc1691cbb334cc33a1f1eb3060b8e02e',\n",
       " '/Users/rludwig/Desktop/MeetupProjects/NaiveBayesPresentation/data/easy_ham/0458.0b0d38bea678ef5d832293332cba1fcd',\n",
       " '/Users/rludwig/Desktop/MeetupProjects/NaiveBayesPresentation/data/easy_ham/0459.2c0709ef91a247c38217a7f881c26c42',\n",
       " '/Users/rludwig/Desktop/MeetupProjects/NaiveBayesPresentation/data/easy_ham/0460.635d9fbb23dbfb74a99d95e6ebd44c03',\n",
       " '/Users/rludwig/Desktop/MeetupProjects/NaiveBayesPresentation/data/easy_ham/0461.7609029b07acf65f40bd93882aa35887',\n",
       " '/Users/rludwig/Desktop/MeetupProjects/NaiveBayesPresentation/data/easy_ham/0462.6b066ed01f1856371a7ca52580774a20',\n",
       " '/Users/rludwig/Desktop/MeetupProjects/NaiveBayesPresentation/data/easy_ham/0463.c5c77cc5a816139109a96702b323b6b3',\n",
       " '/Users/rludwig/Desktop/MeetupProjects/NaiveBayesPresentation/data/easy_ham/0464.9699fdf835af939a7e52e229a2d62d8d',\n",
       " '/Users/rludwig/Desktop/MeetupProjects/NaiveBayesPresentation/data/easy_ham/0465.e7cf144bbb6013653c38e838fd68f581',\n",
       " '/Users/rludwig/Desktop/MeetupProjects/NaiveBayesPresentation/data/easy_ham/0466.831f4b97805c8e03cf6630716309e89e',\n",
       " '/Users/rludwig/Desktop/MeetupProjects/NaiveBayesPresentation/data/easy_ham/0467.2c8e19f45e0110db44dcda8529f10676',\n",
       " '/Users/rludwig/Desktop/MeetupProjects/NaiveBayesPresentation/data/easy_ham/0468.0b81ecd8710adb4c1ed9920b5fd03e88',\n",
       " '/Users/rludwig/Desktop/MeetupProjects/NaiveBayesPresentation/data/easy_ham/0469.8b40f778677e8d001ca14bcc4268b41b',\n",
       " '/Users/rludwig/Desktop/MeetupProjects/NaiveBayesPresentation/data/easy_ham/0470.d5ad7286cd913b0cfdff5b954b9338ac',\n",
       " '/Users/rludwig/Desktop/MeetupProjects/NaiveBayesPresentation/data/easy_ham/0471.55f1c6122fd60d151c2c42182ecb734a',\n",
       " '/Users/rludwig/Desktop/MeetupProjects/NaiveBayesPresentation/data/easy_ham/0472.7754e8093e51b661160153403b2915c4',\n",
       " '/Users/rludwig/Desktop/MeetupProjects/NaiveBayesPresentation/data/easy_ham/0473.c16661c43da07d0a3a9baaca5e14292d',\n",
       " '/Users/rludwig/Desktop/MeetupProjects/NaiveBayesPresentation/data/easy_ham/0474.0b5f82aa1324baf9cf718849c48d679e',\n",
       " '/Users/rludwig/Desktop/MeetupProjects/NaiveBayesPresentation/data/easy_ham/0475.d5afc23cfec40c4cd65198f1e88a193d',\n",
       " '/Users/rludwig/Desktop/MeetupProjects/NaiveBayesPresentation/data/easy_ham/0476.ef07b997be9a011cba687d11ce274756',\n",
       " '/Users/rludwig/Desktop/MeetupProjects/NaiveBayesPresentation/data/easy_ham/0477.b7958d4d9cb312c16965859705826a7e',\n",
       " '/Users/rludwig/Desktop/MeetupProjects/NaiveBayesPresentation/data/easy_ham/0478.41ae16e74ab25e02113c5da21efd2804',\n",
       " '/Users/rludwig/Desktop/MeetupProjects/NaiveBayesPresentation/data/easy_ham/0479.0af91f2b2adbdfb00edf424dfeedfdaf',\n",
       " '/Users/rludwig/Desktop/MeetupProjects/NaiveBayesPresentation/data/easy_ham/0480.ac223ce8c5be563214bdc8e3af2a18b6',\n",
       " '/Users/rludwig/Desktop/MeetupProjects/NaiveBayesPresentation/data/easy_ham/0481.3a50c09230e74743965ddec5ad754fa6',\n",
       " '/Users/rludwig/Desktop/MeetupProjects/NaiveBayesPresentation/data/easy_ham/0482.b16742fbfb4ed41734f06279232dd8b0',\n",
       " '/Users/rludwig/Desktop/MeetupProjects/NaiveBayesPresentation/data/easy_ham/0483.fd69b8130b575cf7522607fc37d2549c',\n",
       " '/Users/rludwig/Desktop/MeetupProjects/NaiveBayesPresentation/data/easy_ham/0484.9c63b894f85b12f32ad5e5b97cd5c49c',\n",
       " '/Users/rludwig/Desktop/MeetupProjects/NaiveBayesPresentation/data/easy_ham/0485.4657c96dd864d02d6273cb268b631015',\n",
       " '/Users/rludwig/Desktop/MeetupProjects/NaiveBayesPresentation/data/easy_ham/0486.62b08ccbd58add2e635494c114f1173b',\n",
       " '/Users/rludwig/Desktop/MeetupProjects/NaiveBayesPresentation/data/easy_ham/0487.dfff66b5d13f537cc4535d860d297c0c',\n",
       " '/Users/rludwig/Desktop/MeetupProjects/NaiveBayesPresentation/data/easy_ham/0488.8fddac859ba93d27a041fe770be65d29',\n",
       " '/Users/rludwig/Desktop/MeetupProjects/NaiveBayesPresentation/data/easy_ham/0489.73eb492555409d2c07aed7c524845d8c',\n",
       " '/Users/rludwig/Desktop/MeetupProjects/NaiveBayesPresentation/data/easy_ham/0490.f05cd53148e296861dd5c9f5df9a6225',\n",
       " '/Users/rludwig/Desktop/MeetupProjects/NaiveBayesPresentation/data/easy_ham/0491.4d902a53799cc4c52b72c0c41367a96b',\n",
       " '/Users/rludwig/Desktop/MeetupProjects/NaiveBayesPresentation/data/easy_ham/0492.3aa3aaa0ac9343fd1aa11864e8c281b1',\n",
       " '/Users/rludwig/Desktop/MeetupProjects/NaiveBayesPresentation/data/easy_ham/0493.5517cd8d833b17156176a79149073a46',\n",
       " '/Users/rludwig/Desktop/MeetupProjects/NaiveBayesPresentation/data/easy_ham/0494.cd5e6c1b93cf9492002689b4ea2e8520',\n",
       " '/Users/rludwig/Desktop/MeetupProjects/NaiveBayesPresentation/data/easy_ham/0495.5c4fb5aab57f610e00c4d3b951216f16',\n",
       " '/Users/rludwig/Desktop/MeetupProjects/NaiveBayesPresentation/data/easy_ham/0496.397e015dabee7ac3c6e655ad9bf66052',\n",
       " '/Users/rludwig/Desktop/MeetupProjects/NaiveBayesPresentation/data/easy_ham/0497.d2e2ede58f425a59fef51395e0248b1b',\n",
       " '/Users/rludwig/Desktop/MeetupProjects/NaiveBayesPresentation/data/easy_ham/0498.5ab81a2472012da0dca18090925d6524',\n",
       " '/Users/rludwig/Desktop/MeetupProjects/NaiveBayesPresentation/data/easy_ham/0499.48dbec905e8b9da9434b9802132576c1',\n",
       " '/Users/rludwig/Desktop/MeetupProjects/NaiveBayesPresentation/data/easy_ham/0500.26e81584fd9c739be4898acd4870143e',\n",
       " '/Users/rludwig/Desktop/MeetupProjects/NaiveBayesPresentation/data/easy_ham/0501.343d33b8816a38b17fa642fbf07457fc',\n",
       " '/Users/rludwig/Desktop/MeetupProjects/NaiveBayesPresentation/data/easy_ham/0502.9e78d7d003ceeef52c70ac7e7b786ef9',\n",
       " '/Users/rludwig/Desktop/MeetupProjects/NaiveBayesPresentation/data/easy_ham/0503.5364d68940343b854595410487aaa1ba',\n",
       " '/Users/rludwig/Desktop/MeetupProjects/NaiveBayesPresentation/data/easy_ham/0504.0e89cec7d885514336483e016e07ccec',\n",
       " '/Users/rludwig/Desktop/MeetupProjects/NaiveBayesPresentation/data/easy_ham/0505.724c1270fd6c1382c93cc208c05dc9dc',\n",
       " '/Users/rludwig/Desktop/MeetupProjects/NaiveBayesPresentation/data/easy_ham/0506.8ebe39ef91080b2445bef0118d7c9b0c',\n",
       " '/Users/rludwig/Desktop/MeetupProjects/NaiveBayesPresentation/data/easy_ham/0507.3e5a5811fbfca49dc665f982e81ea271',\n",
       " '/Users/rludwig/Desktop/MeetupProjects/NaiveBayesPresentation/data/easy_ham/0508.4f7509bdf6a597ddb34f15df3bf2c227',\n",
       " '/Users/rludwig/Desktop/MeetupProjects/NaiveBayesPresentation/data/easy_ham/0509.905ad1e9516c02082472a79f474f726c',\n",
       " '/Users/rludwig/Desktop/MeetupProjects/NaiveBayesPresentation/data/easy_ham/0510.4c08a0b5d860b948679e50edc7220e02',\n",
       " '/Users/rludwig/Desktop/MeetupProjects/NaiveBayesPresentation/data/easy_ham/0511.7c59aca5d737ae0f1a94b8e08d5def67',\n",
       " '/Users/rludwig/Desktop/MeetupProjects/NaiveBayesPresentation/data/easy_ham/0512.17bff8553d7e8f6c668166afe149795b',\n",
       " '/Users/rludwig/Desktop/MeetupProjects/NaiveBayesPresentation/data/easy_ham/0513.c04bc05369ac4583d82e9a6b6ffc3972',\n",
       " '/Users/rludwig/Desktop/MeetupProjects/NaiveBayesPresentation/data/easy_ham/0514.ddb5b986101b81aa277dda7a6032019c',\n",
       " '/Users/rludwig/Desktop/MeetupProjects/NaiveBayesPresentation/data/easy_ham/0515.7c5179be4289820f5b060e1ff2a38ab3',\n",
       " '/Users/rludwig/Desktop/MeetupProjects/NaiveBayesPresentation/data/easy_ham/0516.3b4b9b147de3e2b7ee1ca08792a9d948',\n",
       " '/Users/rludwig/Desktop/MeetupProjects/NaiveBayesPresentation/data/easy_ham/0517.a379a642533f85c04e63d9f3a0813b63',\n",
       " '/Users/rludwig/Desktop/MeetupProjects/NaiveBayesPresentation/data/easy_ham/0518.def6dfc3c2204dda12270b0ca97f0fc5',\n",
       " '/Users/rludwig/Desktop/MeetupProjects/NaiveBayesPresentation/data/easy_ham/0519.3a28a99fa8dd275d13742144dc05ff57',\n",
       " '/Users/rludwig/Desktop/MeetupProjects/NaiveBayesPresentation/data/easy_ham/0520.db2ae930623e1db4c9cf60676f96c4e5',\n",
       " '/Users/rludwig/Desktop/MeetupProjects/NaiveBayesPresentation/data/easy_ham/0521.56b24a33e65cd045de37e6bec5ec30e3',\n",
       " '/Users/rludwig/Desktop/MeetupProjects/NaiveBayesPresentation/data/easy_ham/0522.19fc2c700f36b246f3e1fb0807ce03fa',\n",
       " '/Users/rludwig/Desktop/MeetupProjects/NaiveBayesPresentation/data/easy_ham/0523.ae1df35c0bf85f059e5a08b9b7453999',\n",
       " '/Users/rludwig/Desktop/MeetupProjects/NaiveBayesPresentation/data/easy_ham/0524.1276996048a3e02ffbed1e2df5d13848',\n",
       " '/Users/rludwig/Desktop/MeetupProjects/NaiveBayesPresentation/data/easy_ham/0525.e70ff5bbd69f7400b460ebe5ed77398f',\n",
       " '/Users/rludwig/Desktop/MeetupProjects/NaiveBayesPresentation/data/easy_ham/0526.615f918b4860d437577f6aa66c9b37cf',\n",
       " '/Users/rludwig/Desktop/MeetupProjects/NaiveBayesPresentation/data/easy_ham/0527.fb030532024e5534f13993d88b5923a0',\n",
       " '/Users/rludwig/Desktop/MeetupProjects/NaiveBayesPresentation/data/easy_ham/0528.bb4c2a959983406354ff8d5b8f499eb8',\n",
       " '/Users/rludwig/Desktop/MeetupProjects/NaiveBayesPresentation/data/easy_ham/0529.39faaedc75738c375b3de0c0a5766498',\n",
       " '/Users/rludwig/Desktop/MeetupProjects/NaiveBayesPresentation/data/easy_ham/0530.014c92ec73f7fcebe322a69b59fbe205',\n",
       " '/Users/rludwig/Desktop/MeetupProjects/NaiveBayesPresentation/data/easy_ham/0531.f459d23aa065d859c1cc4a6b2c19cddb',\n",
       " '/Users/rludwig/Desktop/MeetupProjects/NaiveBayesPresentation/data/easy_ham/0532.0a4c127cb659ebad1f4366cf3eb93b83',\n",
       " '/Users/rludwig/Desktop/MeetupProjects/NaiveBayesPresentation/data/easy_ham/0533.adb2f50e664e9db319a7e802c862ba31',\n",
       " '/Users/rludwig/Desktop/MeetupProjects/NaiveBayesPresentation/data/easy_ham/0534.a2b4731ea39251d3db3b433ed81b1087',\n",
       " '/Users/rludwig/Desktop/MeetupProjects/NaiveBayesPresentation/data/easy_ham/0535.e5e6e90ce659ed0f9d4063350a836201',\n",
       " '/Users/rludwig/Desktop/MeetupProjects/NaiveBayesPresentation/data/easy_ham/0536.ba3a7bb7f4797867867494246c8f6dec',\n",
       " '/Users/rludwig/Desktop/MeetupProjects/NaiveBayesPresentation/data/easy_ham/0537.882248ddfd0af3420b98e12fe3f9e7cb',\n",
       " '/Users/rludwig/Desktop/MeetupProjects/NaiveBayesPresentation/data/easy_ham/0538.59939f403bfb0f553e02f77abfb38846',\n",
       " '/Users/rludwig/Desktop/MeetupProjects/NaiveBayesPresentation/data/easy_ham/0539.6430d7b1bde02782a28fef081b4224fc',\n",
       " '/Users/rludwig/Desktop/MeetupProjects/NaiveBayesPresentation/data/easy_ham/0540.e0eb7ff6a98c054571e07addde3cc4de',\n",
       " '/Users/rludwig/Desktop/MeetupProjects/NaiveBayesPresentation/data/easy_ham/0541.ab739b149f085a5830ec76c633db2850',\n",
       " '/Users/rludwig/Desktop/MeetupProjects/NaiveBayesPresentation/data/easy_ham/0542.9a7c09acf3e7748e4ae90a48959e731f',\n",
       " '/Users/rludwig/Desktop/MeetupProjects/NaiveBayesPresentation/data/easy_ham/0543.5070e5e197736112782da156d46f6357',\n",
       " '/Users/rludwig/Desktop/MeetupProjects/NaiveBayesPresentation/data/easy_ham/0544.6498586c31db44aac98902ffc6cee696',\n",
       " '/Users/rludwig/Desktop/MeetupProjects/NaiveBayesPresentation/data/easy_ham/0545.f3614ca8b5095f9b69b7a3ff336d5aac',\n",
       " '/Users/rludwig/Desktop/MeetupProjects/NaiveBayesPresentation/data/easy_ham/0546.b6bc744eb32a97fdb4005fc1e513cf85',\n",
       " '/Users/rludwig/Desktop/MeetupProjects/NaiveBayesPresentation/data/easy_ham/0547.48bed4a66cbab49616e6d2a8f04a170b',\n",
       " '/Users/rludwig/Desktop/MeetupProjects/NaiveBayesPresentation/data/easy_ham/0548.02f295e25e8268967c4f00b24ec03236',\n",
       " '/Users/rludwig/Desktop/MeetupProjects/NaiveBayesPresentation/data/easy_ham/0549.59f3057eef31f2b8ebb02446556a3f37',\n",
       " '/Users/rludwig/Desktop/MeetupProjects/NaiveBayesPresentation/data/easy_ham/0550.8e86f9859287ac9846e3c179b29e0fc1',\n",
       " '/Users/rludwig/Desktop/MeetupProjects/NaiveBayesPresentation/data/easy_ham/0551.5bdfb0c299c60e442e39346dc08bad68',\n",
       " '/Users/rludwig/Desktop/MeetupProjects/NaiveBayesPresentation/data/easy_ham/0552.1ce63d212148c58723cc1f7150b27157',\n",
       " '/Users/rludwig/Desktop/MeetupProjects/NaiveBayesPresentation/data/easy_ham/0553.a2487df9e3ff8da0521a962e19bce6d1',\n",
       " '/Users/rludwig/Desktop/MeetupProjects/NaiveBayesPresentation/data/easy_ham/0554.54333f9154d05593aa58b146b2c717c8',\n",
       " '/Users/rludwig/Desktop/MeetupProjects/NaiveBayesPresentation/data/easy_ham/0555.1c625d1145e0bce09ed40f363b26ac73',\n",
       " '/Users/rludwig/Desktop/MeetupProjects/NaiveBayesPresentation/data/easy_ham/0556.f2a384f62a88105a5ea0dee646cf6609',\n",
       " '/Users/rludwig/Desktop/MeetupProjects/NaiveBayesPresentation/data/easy_ham/0557.4a673d945072f8ec9ef08a4366f25bc1',\n",
       " '/Users/rludwig/Desktop/MeetupProjects/NaiveBayesPresentation/data/easy_ham/0558.38c3bacad7e79fdf03dfdfcbfd19e787',\n",
       " '/Users/rludwig/Desktop/MeetupProjects/NaiveBayesPresentation/data/easy_ham/0559.2c60829e4147cdc981cf7131088b851d',\n",
       " '/Users/rludwig/Desktop/MeetupProjects/NaiveBayesPresentation/data/easy_ham/0560.c422e330f8ff3ecf8fdfb5f00e691bf9',\n",
       " '/Users/rludwig/Desktop/MeetupProjects/NaiveBayesPresentation/data/easy_ham/0561.7e0c08933efe38c91d293454976e4977',\n",
       " '/Users/rludwig/Desktop/MeetupProjects/NaiveBayesPresentation/data/easy_ham/0562.7dea96e851b897ea041ea242a9d3c119',\n",
       " '/Users/rludwig/Desktop/MeetupProjects/NaiveBayesPresentation/data/easy_ham/0563.cc76540c47ac49aa8dcbe801e8380b36',\n",
       " '/Users/rludwig/Desktop/MeetupProjects/NaiveBayesPresentation/data/easy_ham/0564.d200fee3d675d75d79f14c8308d631d1',\n",
       " '/Users/rludwig/Desktop/MeetupProjects/NaiveBayesPresentation/data/easy_ham/0565.881770e64b20fa8ee779d12aeda1fc54',\n",
       " '/Users/rludwig/Desktop/MeetupProjects/NaiveBayesPresentation/data/easy_ham/0566.97120c2bc957702e0e1606025799951e',\n",
       " '/Users/rludwig/Desktop/MeetupProjects/NaiveBayesPresentation/data/easy_ham/0567.41bb1a0c6c8c5584844c6baa2612ede2',\n",
       " '/Users/rludwig/Desktop/MeetupProjects/NaiveBayesPresentation/data/easy_ham/0568.112e1928cfa88de3901d08715fd2e3b3',\n",
       " '/Users/rludwig/Desktop/MeetupProjects/NaiveBayesPresentation/data/easy_ham/0569.ef10ce803ff212d76f9dd6148b84a823',\n",
       " '/Users/rludwig/Desktop/MeetupProjects/NaiveBayesPresentation/data/easy_ham/0570.17bb9eeb6562425ac2aee464a84f0e4a',\n",
       " '/Users/rludwig/Desktop/MeetupProjects/NaiveBayesPresentation/data/easy_ham/0571.d336e43297da0069689d70dec6ff7870',\n",
       " '/Users/rludwig/Desktop/MeetupProjects/NaiveBayesPresentation/data/easy_ham/0572.ff4614fcac266492c9c3c1a9432cbe89',\n",
       " '/Users/rludwig/Desktop/MeetupProjects/NaiveBayesPresentation/data/easy_ham/0573.afc1bc63378e7961549e4bf789461719',\n",
       " '/Users/rludwig/Desktop/MeetupProjects/NaiveBayesPresentation/data/easy_ham/0574.2059f95c47876cb8f6db440751b0cfc9',\n",
       " '/Users/rludwig/Desktop/MeetupProjects/NaiveBayesPresentation/data/easy_ham/0575.2f6d5a053932e0900b329a15c5f78e38',\n",
       " '/Users/rludwig/Desktop/MeetupProjects/NaiveBayesPresentation/data/easy_ham/0576.f32636c8fb4d4f4fde3c891f9fdee39c',\n",
       " '/Users/rludwig/Desktop/MeetupProjects/NaiveBayesPresentation/data/easy_ham/0577.7297b06fde913833e96aca4385826c29',\n",
       " '/Users/rludwig/Desktop/MeetupProjects/NaiveBayesPresentation/data/easy_ham/0578.a91b2f2cc20b7a68d5e340cac03da3ee',\n",
       " '/Users/rludwig/Desktop/MeetupProjects/NaiveBayesPresentation/data/easy_ham/0579.1220a78a48fabb67052c021782ae7720',\n",
       " '/Users/rludwig/Desktop/MeetupProjects/NaiveBayesPresentation/data/easy_ham/0580.61bd3978cddfc54e52fc52925ecb3b4d',\n",
       " '/Users/rludwig/Desktop/MeetupProjects/NaiveBayesPresentation/data/easy_ham/0581.b249b5db741f2691a42653eab71795fe',\n",
       " '/Users/rludwig/Desktop/MeetupProjects/NaiveBayesPresentation/data/easy_ham/0582.adc6095d8af63a380672cfd1e881a586',\n",
       " '/Users/rludwig/Desktop/MeetupProjects/NaiveBayesPresentation/data/easy_ham/0583.5165cf3ccd9404fade3014b0d00c97e6',\n",
       " '/Users/rludwig/Desktop/MeetupProjects/NaiveBayesPresentation/data/easy_ham/0584.f667c1b60fb4a592ef72138de5ec4c00',\n",
       " '/Users/rludwig/Desktop/MeetupProjects/NaiveBayesPresentation/data/easy_ham/0585.b4410217f9fefbb9a9c18df5a4aa621a',\n",
       " '/Users/rludwig/Desktop/MeetupProjects/NaiveBayesPresentation/data/easy_ham/0586.1babcf27c7404be5cacd809ef42fc30b',\n",
       " '/Users/rludwig/Desktop/MeetupProjects/NaiveBayesPresentation/data/easy_ham/0587.20a4cd974ded4a9d366f23106aaf593f',\n",
       " '/Users/rludwig/Desktop/MeetupProjects/NaiveBayesPresentation/data/easy_ham/0588.cb6d96aaef48d53bc690e780276d6595',\n",
       " '/Users/rludwig/Desktop/MeetupProjects/NaiveBayesPresentation/data/easy_ham/0589.8646984ed76a8df2811750d151f56b1e',\n",
       " '/Users/rludwig/Desktop/MeetupProjects/NaiveBayesPresentation/data/easy_ham/0590.163e32d267b894e61f0386e879cde23b',\n",
       " '/Users/rludwig/Desktop/MeetupProjects/NaiveBayesPresentation/data/easy_ham/0591.f533bea095d75cc4dc282bdcba69072a',\n",
       " '/Users/rludwig/Desktop/MeetupProjects/NaiveBayesPresentation/data/easy_ham/0592.217bf33fe765d8cf064a732d56a51ba3',\n",
       " '/Users/rludwig/Desktop/MeetupProjects/NaiveBayesPresentation/data/easy_ham/0593.3c0b49542cfd173508426513c02483c6',\n",
       " '/Users/rludwig/Desktop/MeetupProjects/NaiveBayesPresentation/data/easy_ham/0594.30616a68b04f216bcea0ad52073c0df4',\n",
       " '/Users/rludwig/Desktop/MeetupProjects/NaiveBayesPresentation/data/easy_ham/0595.2e433fbc3ba01f085d54b39e4b695a62',\n",
       " '/Users/rludwig/Desktop/MeetupProjects/NaiveBayesPresentation/data/easy_ham/0596.5826fb71adb141704275e2cb8fdddb4f',\n",
       " '/Users/rludwig/Desktop/MeetupProjects/NaiveBayesPresentation/data/easy_ham/0597.658c7632c57e9f07a7bc28b58b97529e',\n",
       " '/Users/rludwig/Desktop/MeetupProjects/NaiveBayesPresentation/data/easy_ham/0598.1ac8a662753f1bba429f52eb184ba794',\n",
       " '/Users/rludwig/Desktop/MeetupProjects/NaiveBayesPresentation/data/easy_ham/0599.dcd037ac7e916599160fc182080defe3',\n",
       " '/Users/rludwig/Desktop/MeetupProjects/NaiveBayesPresentation/data/easy_ham/0600.5c058c763f0c2053e70d2a6ddd5afd1e',\n",
       " '/Users/rludwig/Desktop/MeetupProjects/NaiveBayesPresentation/data/easy_ham/0601.ecc0277d1962fad8005495cd09dea1aa',\n",
       " '/Users/rludwig/Desktop/MeetupProjects/NaiveBayesPresentation/data/easy_ham/0602.af33589441908011e53b55d4702012cd',\n",
       " '/Users/rludwig/Desktop/MeetupProjects/NaiveBayesPresentation/data/easy_ham/0603.4582f2bcf4795cdd8136e04313f0c0fc',\n",
       " '/Users/rludwig/Desktop/MeetupProjects/NaiveBayesPresentation/data/easy_ham/0604.5ce333fc713b6c6f85386d8be149c1b4',\n",
       " '/Users/rludwig/Desktop/MeetupProjects/NaiveBayesPresentation/data/easy_ham/0605.0b692301193854c686d6c257203c9976',\n",
       " '/Users/rludwig/Desktop/MeetupProjects/NaiveBayesPresentation/data/easy_ham/0606.246043a69d2c710dde0e67eedb1fd853',\n",
       " '/Users/rludwig/Desktop/MeetupProjects/NaiveBayesPresentation/data/easy_ham/0607.14d2b2101e12b952f5cfe7aa92afd4a4',\n",
       " '/Users/rludwig/Desktop/MeetupProjects/NaiveBayesPresentation/data/easy_ham/0608.ee46655dde2d5d95579711e1a849cb34',\n",
       " '/Users/rludwig/Desktop/MeetupProjects/NaiveBayesPresentation/data/easy_ham/0609.2b39e149425abf7a4a84933aad236189',\n",
       " '/Users/rludwig/Desktop/MeetupProjects/NaiveBayesPresentation/data/easy_ham/0610.77f0b010c4ee1f527c40a320223e5e3d',\n",
       " '/Users/rludwig/Desktop/MeetupProjects/NaiveBayesPresentation/data/easy_ham/0611.4a47b06e83edee6c61ba37d1be2a09d0',\n",
       " '/Users/rludwig/Desktop/MeetupProjects/NaiveBayesPresentation/data/easy_ham/0612.f6d6b7e1dc1e063f1fd95991aa452d05',\n",
       " '/Users/rludwig/Desktop/MeetupProjects/NaiveBayesPresentation/data/easy_ham/0613.78f3bc8ff059d262ac436be34a962c6b',\n",
       " '/Users/rludwig/Desktop/MeetupProjects/NaiveBayesPresentation/data/easy_ham/0614.b5bf667c7ffd59fca7f26a8ca1f8deea',\n",
       " '/Users/rludwig/Desktop/MeetupProjects/NaiveBayesPresentation/data/easy_ham/0615.935b5a30e35ec46502a33a445443c124',\n",
       " '/Users/rludwig/Desktop/MeetupProjects/NaiveBayesPresentation/data/easy_ham/0616.a152505164d471a0cb84ba780c1fb956',\n",
       " '/Users/rludwig/Desktop/MeetupProjects/NaiveBayesPresentation/data/easy_ham/0617.5b8410959a7bc173315e3d59d978ba2c',\n",
       " '/Users/rludwig/Desktop/MeetupProjects/NaiveBayesPresentation/data/easy_ham/0618.a6e6cf36de8832e7f6df6dc832ebb83d',\n",
       " '/Users/rludwig/Desktop/MeetupProjects/NaiveBayesPresentation/data/easy_ham/0619.1eebcb2010962026f9e985efaf54c54c',\n",
       " '/Users/rludwig/Desktop/MeetupProjects/NaiveBayesPresentation/data/easy_ham/0620.cb5bdeb796ed52ca7474387e39462e87',\n",
       " '/Users/rludwig/Desktop/MeetupProjects/NaiveBayesPresentation/data/easy_ham/0621.feb00fa392669a54bc5602f927fbae12',\n",
       " '/Users/rludwig/Desktop/MeetupProjects/NaiveBayesPresentation/data/easy_ham/0622.aa081cbcc4734cedebbe0084f1988921',\n",
       " '/Users/rludwig/Desktop/MeetupProjects/NaiveBayesPresentation/data/easy_ham/0623.548822dc41bd6d1d7b5896c185874a5f',\n",
       " '/Users/rludwig/Desktop/MeetupProjects/NaiveBayesPresentation/data/easy_ham/0624.8461f3c63dd4843912d9f4807e7d68ad',\n",
       " '/Users/rludwig/Desktop/MeetupProjects/NaiveBayesPresentation/data/easy_ham/0625.42179d43c513cf5c4e9d9ef00e9235a1',\n",
       " '/Users/rludwig/Desktop/MeetupProjects/NaiveBayesPresentation/data/easy_ham/0626.190b1e937ba59bffd08f6acaee61417d',\n",
       " '/Users/rludwig/Desktop/MeetupProjects/NaiveBayesPresentation/data/easy_ham/0627.c9ad8730dad7bda1e1169ee00c4006fc',\n",
       " '/Users/rludwig/Desktop/MeetupProjects/NaiveBayesPresentation/data/easy_ham/0628.731724cb11140a651d8ad58451ea5c79',\n",
       " '/Users/rludwig/Desktop/MeetupProjects/NaiveBayesPresentation/data/easy_ham/0629.8a0d84ac5694ddcc8474e5a1d55b53d3',\n",
       " '/Users/rludwig/Desktop/MeetupProjects/NaiveBayesPresentation/data/easy_ham/0630.fe9381ba8a0b28e57cc0f481d658e0d0',\n",
       " '/Users/rludwig/Desktop/MeetupProjects/NaiveBayesPresentation/data/easy_ham/0631.6a6516bb19c38ae705d06f9518231f49',\n",
       " '/Users/rludwig/Desktop/MeetupProjects/NaiveBayesPresentation/data/easy_ham/0632.5a55cc359e591b1264cefa42b228df98',\n",
       " '/Users/rludwig/Desktop/MeetupProjects/NaiveBayesPresentation/data/easy_ham/0633.f47f5c3a3dc10c57366f5715ef33fe3e',\n",
       " '/Users/rludwig/Desktop/MeetupProjects/NaiveBayesPresentation/data/easy_ham/0634.2da7e83d50baee90c3c9defd2aa30b72',\n",
       " '/Users/rludwig/Desktop/MeetupProjects/NaiveBayesPresentation/data/easy_ham/0635.9df0cec793507fcd3cab877c7d7616be',\n",
       " '/Users/rludwig/Desktop/MeetupProjects/NaiveBayesPresentation/data/easy_ham/0636.e678baa8a0acb4e6b95c11f37d7541b0',\n",
       " '/Users/rludwig/Desktop/MeetupProjects/NaiveBayesPresentation/data/easy_ham/0637.2eadb44dff5eb5df1615ff5e826bc69e',\n",
       " '/Users/rludwig/Desktop/MeetupProjects/NaiveBayesPresentation/data/easy_ham/0638.70122b70a334560fdbc450b6516bf752',\n",
       " '/Users/rludwig/Desktop/MeetupProjects/NaiveBayesPresentation/data/easy_ham/0639.3462e01cf21a5b919a58b6e70e96ccb4',\n",
       " '/Users/rludwig/Desktop/MeetupProjects/NaiveBayesPresentation/data/easy_ham/0640.95f677f7c53a182c30e068eaab74950e',\n",
       " '/Users/rludwig/Desktop/MeetupProjects/NaiveBayesPresentation/data/easy_ham/0641.6608cb0a3168e2f803b29e3bcdd68c23',\n",
       " '/Users/rludwig/Desktop/MeetupProjects/NaiveBayesPresentation/data/easy_ham/0642.297a1718a1180f8419c4e4232d4c30b5',\n",
       " '/Users/rludwig/Desktop/MeetupProjects/NaiveBayesPresentation/data/easy_ham/0643.2c10d49ca3fc564fd6993c1504b7de1a',\n",
       " '/Users/rludwig/Desktop/MeetupProjects/NaiveBayesPresentation/data/easy_ham/0644.465fabd80d5659bce12a75942fc62c06',\n",
       " '/Users/rludwig/Desktop/MeetupProjects/NaiveBayesPresentation/data/easy_ham/0645.10b54fc6ea0ff6afea35a0dc440cc2d1',\n",
       " '/Users/rludwig/Desktop/MeetupProjects/NaiveBayesPresentation/data/easy_ham/0646.5b8ef44185fab30abb58d0f440885d00',\n",
       " '/Users/rludwig/Desktop/MeetupProjects/NaiveBayesPresentation/data/easy_ham/0647.3e7d91fa18377c667aedf719bc1b2c5a',\n",
       " '/Users/rludwig/Desktop/MeetupProjects/NaiveBayesPresentation/data/easy_ham/0648.35cbc1bb7547966c1171f83d2312d4a9',\n",
       " '/Users/rludwig/Desktop/MeetupProjects/NaiveBayesPresentation/data/easy_ham/0649.60e2fd87157b13643293adc15ff03dd5',\n",
       " '/Users/rludwig/Desktop/MeetupProjects/NaiveBayesPresentation/data/easy_ham/0650.98f5c18e05ccd24028b10fa7317d67e8',\n",
       " '/Users/rludwig/Desktop/MeetupProjects/NaiveBayesPresentation/data/easy_ham/0651.28519f3986ee75e6f2ccb5e51995a875',\n",
       " '/Users/rludwig/Desktop/MeetupProjects/NaiveBayesPresentation/data/easy_ham/0652.5ed46908836bacba742b337197ce3499',\n",
       " '/Users/rludwig/Desktop/MeetupProjects/NaiveBayesPresentation/data/easy_ham/0653.68f91129d7292df3acc78eb6d575130f',\n",
       " '/Users/rludwig/Desktop/MeetupProjects/NaiveBayesPresentation/data/easy_ham/0654.e2ac2ca047fa228203d83f0f094cc529',\n",
       " '/Users/rludwig/Desktop/MeetupProjects/NaiveBayesPresentation/data/easy_ham/0655.62691c84d110fdfa26e8579cd00c1a68',\n",
       " '/Users/rludwig/Desktop/MeetupProjects/NaiveBayesPresentation/data/easy_ham/0656.dd2af7ab5d99adf717056893adb12a20',\n",
       " '/Users/rludwig/Desktop/MeetupProjects/NaiveBayesPresentation/data/easy_ham/0657.277ad7f9191a5cb65e5e9f6c303de296',\n",
       " '/Users/rludwig/Desktop/MeetupProjects/NaiveBayesPresentation/data/easy_ham/0658.0e24e5ee1cfb7ee361c794aa043b416a',\n",
       " '/Users/rludwig/Desktop/MeetupProjects/NaiveBayesPresentation/data/easy_ham/0659.81f1a5072ceecb246d133ec78a8e33eb',\n",
       " '/Users/rludwig/Desktop/MeetupProjects/NaiveBayesPresentation/data/easy_ham/0660.72cd510cc3e2813ce5fa531d7cc31440',\n",
       " '/Users/rludwig/Desktop/MeetupProjects/NaiveBayesPresentation/data/easy_ham/0661.123776ef7c55f1119daa8f77075f77cb',\n",
       " '/Users/rludwig/Desktop/MeetupProjects/NaiveBayesPresentation/data/easy_ham/0662.edbb54c8f940c4cf54b4a61e930691d7',\n",
       " '/Users/rludwig/Desktop/MeetupProjects/NaiveBayesPresentation/data/easy_ham/0663.202ef7d7fb966db47f818a7b09b89b0e',\n",
       " '/Users/rludwig/Desktop/MeetupProjects/NaiveBayesPresentation/data/easy_ham/0664.0d4d48964387db0637509ad10ee66763',\n",
       " '/Users/rludwig/Desktop/MeetupProjects/NaiveBayesPresentation/data/easy_ham/0665.92e4e88458a94d0f02cfa34985127107',\n",
       " '/Users/rludwig/Desktop/MeetupProjects/NaiveBayesPresentation/data/easy_ham/0666.d26ea575aa017100f7caa40a0462fcc4',\n",
       " '/Users/rludwig/Desktop/MeetupProjects/NaiveBayesPresentation/data/easy_ham/0667.9e0b1ad2888b8d638be9d486637eb445',\n",
       " '/Users/rludwig/Desktop/MeetupProjects/NaiveBayesPresentation/data/easy_ham/0668.d9eabdd9363513f9740355970eff7ae6',\n",
       " '/Users/rludwig/Desktop/MeetupProjects/NaiveBayesPresentation/data/easy_ham/0669.2d5135216a15406b161ca553a4612b2b',\n",
       " '/Users/rludwig/Desktop/MeetupProjects/NaiveBayesPresentation/data/easy_ham/0670.4d4f5d10e1bcf26a5438defe1188dc57',\n",
       " '/Users/rludwig/Desktop/MeetupProjects/NaiveBayesPresentation/data/easy_ham/0671.ea82754ba3b836e43d376b32c07b79f0',\n",
       " '/Users/rludwig/Desktop/MeetupProjects/NaiveBayesPresentation/data/easy_ham/0672.a8927156ce344160530dc0e918a42472',\n",
       " '/Users/rludwig/Desktop/MeetupProjects/NaiveBayesPresentation/data/easy_ham/0673.1850e124a4ef3beb85071e67d7f8bf6d',\n",
       " '/Users/rludwig/Desktop/MeetupProjects/NaiveBayesPresentation/data/easy_ham/0674.491042298959b1aed91c95ae2beaece2',\n",
       " '/Users/rludwig/Desktop/MeetupProjects/NaiveBayesPresentation/data/easy_ham/0675.6af6c3451a0d2caed7a332366aa3ddd8',\n",
       " '/Users/rludwig/Desktop/MeetupProjects/NaiveBayesPresentation/data/easy_ham/0676.80208e9973e3ec09a0377e1342c0a3a5',\n",
       " '/Users/rludwig/Desktop/MeetupProjects/NaiveBayesPresentation/data/easy_ham/0677.16c583f992f1c13c9f2eb2aa58f84214',\n",
       " '/Users/rludwig/Desktop/MeetupProjects/NaiveBayesPresentation/data/easy_ham/0678.98548de034832af64015d60cec0d69c6',\n",
       " '/Users/rludwig/Desktop/MeetupProjects/NaiveBayesPresentation/data/easy_ham/0679.0395351a76c9b311808536a2bfa5961c',\n",
       " '/Users/rludwig/Desktop/MeetupProjects/NaiveBayesPresentation/data/easy_ham/0680.7f29d3e313c7bf2b543c6fa48b43e77e',\n",
       " '/Users/rludwig/Desktop/MeetupProjects/NaiveBayesPresentation/data/easy_ham/0681.a0c682a61d47a58820ffa73d5555f3fb',\n",
       " '/Users/rludwig/Desktop/MeetupProjects/NaiveBayesPresentation/data/easy_ham/0682.d34b905308dfbc89c0175ffcd5646113',\n",
       " '/Users/rludwig/Desktop/MeetupProjects/NaiveBayesPresentation/data/easy_ham/0683.782e26a57d2ef6f0d8f9e82b658563e0',\n",
       " '/Users/rludwig/Desktop/MeetupProjects/NaiveBayesPresentation/data/easy_ham/0684.f0f0e8e9d0c203b93278c58447e3ce88',\n",
       " '/Users/rludwig/Desktop/MeetupProjects/NaiveBayesPresentation/data/easy_ham/0685.1658351aa8cc515f74fb3eee7418d143',\n",
       " '/Users/rludwig/Desktop/MeetupProjects/NaiveBayesPresentation/data/easy_ham/0686.be9e16843bcf570a9e7e9549f770d3ac',\n",
       " '/Users/rludwig/Desktop/MeetupProjects/NaiveBayesPresentation/data/easy_ham/0687.e47c95556602cc66337c90bc82efa66a',\n",
       " '/Users/rludwig/Desktop/MeetupProjects/NaiveBayesPresentation/data/easy_ham/0688.0c95af46930f4b1c6917030045619a50',\n",
       " '/Users/rludwig/Desktop/MeetupProjects/NaiveBayesPresentation/data/easy_ham/0689.0b105c87d5d0ac5638013457882d917b',\n",
       " '/Users/rludwig/Desktop/MeetupProjects/NaiveBayesPresentation/data/easy_ham/0690.d6ab63f165b36f3bac2873fec24a797b',\n",
       " '/Users/rludwig/Desktop/MeetupProjects/NaiveBayesPresentation/data/easy_ham/0691.bdcd311a789b4002c5f1afd663aaa1df',\n",
       " '/Users/rludwig/Desktop/MeetupProjects/NaiveBayesPresentation/data/easy_ham/0692.06fd7c0113c3a271483073ec9f102c53',\n",
       " '/Users/rludwig/Desktop/MeetupProjects/NaiveBayesPresentation/data/easy_ham/0693.34e853f55e9434e84268d25d2f0a6f91',\n",
       " '/Users/rludwig/Desktop/MeetupProjects/NaiveBayesPresentation/data/easy_ham/0694.81370eede2be95453ba67195c8619c60',\n",
       " '/Users/rludwig/Desktop/MeetupProjects/NaiveBayesPresentation/data/easy_ham/0695.938b36dec489bf6860a534c70f5853a8',\n",
       " '/Users/rludwig/Desktop/MeetupProjects/NaiveBayesPresentation/data/easy_ham/0696.5115510438ad02471df930ada920d7dc',\n",
       " '/Users/rludwig/Desktop/MeetupProjects/NaiveBayesPresentation/data/easy_ham/0697.19351a0b5670fb30cc1a2c9eed90a26b',\n",
       " '/Users/rludwig/Desktop/MeetupProjects/NaiveBayesPresentation/data/easy_ham/0698.a99cb214459f43d26a20d34eec3f0b45',\n",
       " '/Users/rludwig/Desktop/MeetupProjects/NaiveBayesPresentation/data/easy_ham/0699.aa5a19152162e3fc22bfd5ec60973619',\n",
       " '/Users/rludwig/Desktop/MeetupProjects/NaiveBayesPresentation/data/easy_ham/0700.5a134a606e773c40b71ec59a599e61ad',\n",
       " '/Users/rludwig/Desktop/MeetupProjects/NaiveBayesPresentation/data/easy_ham/0701.d1b59654f45ee3ccfcc3c6fe257daaf8',\n",
       " '/Users/rludwig/Desktop/MeetupProjects/NaiveBayesPresentation/data/easy_ham/0702.3612af1b8e5d8fcb512f20e4340530a7',\n",
       " '/Users/rludwig/Desktop/MeetupProjects/NaiveBayesPresentation/data/easy_ham/0703.3654d01671685fc22993eae582a55152',\n",
       " '/Users/rludwig/Desktop/MeetupProjects/NaiveBayesPresentation/data/easy_ham/0704.f62f0ee295a7f648249c8104a8e45843',\n",
       " '/Users/rludwig/Desktop/MeetupProjects/NaiveBayesPresentation/data/easy_ham/0705.1830e9bc42a6a72f3bb5806dd9e09e5c',\n",
       " '/Users/rludwig/Desktop/MeetupProjects/NaiveBayesPresentation/data/easy_ham/0706.ef90d85cf26d95101f9f5071ac457a81',\n",
       " '/Users/rludwig/Desktop/MeetupProjects/NaiveBayesPresentation/data/easy_ham/0707.bf65d1743592ac78606c57cea2908866',\n",
       " '/Users/rludwig/Desktop/MeetupProjects/NaiveBayesPresentation/data/easy_ham/0708.fe13d44640fb0f6e7d9d6a50c813a01f',\n",
       " '/Users/rludwig/Desktop/MeetupProjects/NaiveBayesPresentation/data/easy_ham/0709.fdcec3f216a4caf2a548940569372d10',\n",
       " '/Users/rludwig/Desktop/MeetupProjects/NaiveBayesPresentation/data/easy_ham/0710.3005b6bc245758d98c9a9626c1de69a7',\n",
       " '/Users/rludwig/Desktop/MeetupProjects/NaiveBayesPresentation/data/easy_ham/0711.27203d4f43e71f7e1ced0cdd7f8685c8',\n",
       " '/Users/rludwig/Desktop/MeetupProjects/NaiveBayesPresentation/data/easy_ham/0712.b34faf400b5f68d87b2fb9e83b4c5e80',\n",
       " '/Users/rludwig/Desktop/MeetupProjects/NaiveBayesPresentation/data/easy_ham/0713.cef5181b3dfde07e06fd81c8cfc7d39e',\n",
       " '/Users/rludwig/Desktop/MeetupProjects/NaiveBayesPresentation/data/easy_ham/0714.7f83c20969cae40090108707e0bd7cef',\n",
       " '/Users/rludwig/Desktop/MeetupProjects/NaiveBayesPresentation/data/easy_ham/0715.6209671b4aec7159b71320b0c462ce8e',\n",
       " '/Users/rludwig/Desktop/MeetupProjects/NaiveBayesPresentation/data/easy_ham/0716.ce0270837e944df9396a45d6389d2225',\n",
       " '/Users/rludwig/Desktop/MeetupProjects/NaiveBayesPresentation/data/easy_ham/0717.211b19b47bd1c85001dddbe5768d79a1',\n",
       " '/Users/rludwig/Desktop/MeetupProjects/NaiveBayesPresentation/data/easy_ham/0718.68f8a85adbdadbd8959876992d001c5c',\n",
       " '/Users/rludwig/Desktop/MeetupProjects/NaiveBayesPresentation/data/easy_ham/0719.078bfec7d10d50405c5213fdcfe069f4',\n",
       " '/Users/rludwig/Desktop/MeetupProjects/NaiveBayesPresentation/data/easy_ham/0720.9b70b163d69018e7aee73cf86459265d',\n",
       " '/Users/rludwig/Desktop/MeetupProjects/NaiveBayesPresentation/data/easy_ham/0721.9798746ace52b039545cfcb5dd5df9fa',\n",
       " '/Users/rludwig/Desktop/MeetupProjects/NaiveBayesPresentation/data/easy_ham/0722.8aba37e84c5a58cdfe72fc9ed03089ae',\n",
       " '/Users/rludwig/Desktop/MeetupProjects/NaiveBayesPresentation/data/easy_ham/0723.e326ddd50487b33418a053b67df5ab5d',\n",
       " '/Users/rludwig/Desktop/MeetupProjects/NaiveBayesPresentation/data/easy_ham/0724.789e078e8d5286dcb7da0df2f47e6886',\n",
       " '/Users/rludwig/Desktop/MeetupProjects/NaiveBayesPresentation/data/easy_ham/0725.2c1c01215a3c8c4936f8cfea181092d1',\n",
       " '/Users/rludwig/Desktop/MeetupProjects/NaiveBayesPresentation/data/easy_ham/0726.b9cf1bbdedddc254ac0a78e9fdb22a8e',\n",
       " '/Users/rludwig/Desktop/MeetupProjects/NaiveBayesPresentation/data/easy_ham/0727.a398f36f56d924dc775138b61dffbfb2',\n",
       " '/Users/rludwig/Desktop/MeetupProjects/NaiveBayesPresentation/data/easy_ham/0728.7d37495ed88e5edd68f2c868e451b68e',\n",
       " '/Users/rludwig/Desktop/MeetupProjects/NaiveBayesPresentation/data/easy_ham/0729.70d1cec4f8f949fc7ef64fc3ed85f950',\n",
       " '/Users/rludwig/Desktop/MeetupProjects/NaiveBayesPresentation/data/easy_ham/0730.9570ee3b6bf144198297b23bca5044e9',\n",
       " '/Users/rludwig/Desktop/MeetupProjects/NaiveBayesPresentation/data/easy_ham/0731.59e8a707586a8b3cfe89bff4024dead7',\n",
       " '/Users/rludwig/Desktop/MeetupProjects/NaiveBayesPresentation/data/easy_ham/0732.63667434e8712ed16361596f40c468ed',\n",
       " '/Users/rludwig/Desktop/MeetupProjects/NaiveBayesPresentation/data/easy_ham/0733.782a236e90e0e7a55b3c67be6f7bef23',\n",
       " '/Users/rludwig/Desktop/MeetupProjects/NaiveBayesPresentation/data/easy_ham/0734.7dc0b0b5f6fb1977f0a146a44c4750aa',\n",
       " '/Users/rludwig/Desktop/MeetupProjects/NaiveBayesPresentation/data/easy_ham/0735.2739927d718aa07e0f3c1c32ee9a11e8',\n",
       " '/Users/rludwig/Desktop/MeetupProjects/NaiveBayesPresentation/data/easy_ham/0736.0c8647e849c1d900b6af3a6c7024752d',\n",
       " '/Users/rludwig/Desktop/MeetupProjects/NaiveBayesPresentation/data/easy_ham/0737.aa298505cb31aac78d0dbf229fc45fb9',\n",
       " '/Users/rludwig/Desktop/MeetupProjects/NaiveBayesPresentation/data/easy_ham/0738.1a5a2f7c0b47ed1c9f7038706e7d5d01',\n",
       " '/Users/rludwig/Desktop/MeetupProjects/NaiveBayesPresentation/data/easy_ham/0739.88b6bb31404ad7f4802e4002d4e6ad66',\n",
       " '/Users/rludwig/Desktop/MeetupProjects/NaiveBayesPresentation/data/easy_ham/0740.fb7c09644e29a443a4effe8ad0ccfa2a',\n",
       " '/Users/rludwig/Desktop/MeetupProjects/NaiveBayesPresentation/data/easy_ham/0741.4a16993a679f825b18b571c6356fbcb9',\n",
       " '/Users/rludwig/Desktop/MeetupProjects/NaiveBayesPresentation/data/easy_ham/0742.65f3bb623bd6a6e49a9d1e0f9ee66279',\n",
       " '/Users/rludwig/Desktop/MeetupProjects/NaiveBayesPresentation/data/easy_ham/0743.11737315524334fda4487c948caab0a0',\n",
       " '/Users/rludwig/Desktop/MeetupProjects/NaiveBayesPresentation/data/easy_ham/0744.8148cbab42e9b5a4f31f22017b3eccc4',\n",
       " '/Users/rludwig/Desktop/MeetupProjects/NaiveBayesPresentation/data/easy_ham/0745.3e54df3c4f199b6b8aed76eefd11c660',\n",
       " '/Users/rludwig/Desktop/MeetupProjects/NaiveBayesPresentation/data/easy_ham/0746.eb20a810f43c9bd9663c0da5e553ccc4',\n",
       " '/Users/rludwig/Desktop/MeetupProjects/NaiveBayesPresentation/data/easy_ham/0747.0ae2c1995e3f8c30bd2f69a5e51196ba',\n",
       " '/Users/rludwig/Desktop/MeetupProjects/NaiveBayesPresentation/data/easy_ham/0748.b144313155aeba13b5eda936e120daae',\n",
       " '/Users/rludwig/Desktop/MeetupProjects/NaiveBayesPresentation/data/easy_ham/0749.63721d934e13093d300263cb31da380b',\n",
       " '/Users/rludwig/Desktop/MeetupProjects/NaiveBayesPresentation/data/easy_ham/0750.afa51a5a148c9744496447cf28d7483c',\n",
       " '/Users/rludwig/Desktop/MeetupProjects/NaiveBayesPresentation/data/easy_ham/0751.58282452f1adc8ad703ddc4cf12c2e37',\n",
       " '/Users/rludwig/Desktop/MeetupProjects/NaiveBayesPresentation/data/easy_ham/0752.17c76022e66852f8a3cff5745f5937d4',\n",
       " '/Users/rludwig/Desktop/MeetupProjects/NaiveBayesPresentation/data/easy_ham/0753.45965735008c580a773f99eada080a27',\n",
       " '/Users/rludwig/Desktop/MeetupProjects/NaiveBayesPresentation/data/easy_ham/0754.3228129a4d3d1cd84b1577670488e72a',\n",
       " '/Users/rludwig/Desktop/MeetupProjects/NaiveBayesPresentation/data/easy_ham/0755.c0a93a818f6d7b78583dfecb6a2a5ea9',\n",
       " '/Users/rludwig/Desktop/MeetupProjects/NaiveBayesPresentation/data/easy_ham/0756.9c7d7bcc51790af9b83192fe8d7f1f85',\n",
       " '/Users/rludwig/Desktop/MeetupProjects/NaiveBayesPresentation/data/easy_ham/0757.c32bb650e588ceb29f2256b012caabae',\n",
       " '/Users/rludwig/Desktop/MeetupProjects/NaiveBayesPresentation/data/easy_ham/0758.84f1c5bbacc2184d06eb79e4c3a81552',\n",
       " '/Users/rludwig/Desktop/MeetupProjects/NaiveBayesPresentation/data/easy_ham/0759.063f18d8df64aaf029d8d9925828b52c',\n",
       " '/Users/rludwig/Desktop/MeetupProjects/NaiveBayesPresentation/data/easy_ham/0760.15302b8ee38651c2da6e4df6a7358c98',\n",
       " '/Users/rludwig/Desktop/MeetupProjects/NaiveBayesPresentation/data/easy_ham/0761.e0096025fc83e5704a05d505cf96cca5',\n",
       " '/Users/rludwig/Desktop/MeetupProjects/NaiveBayesPresentation/data/easy_ham/0762.4b7d2ad34203e8192af660707ba52ef5',\n",
       " '/Users/rludwig/Desktop/MeetupProjects/NaiveBayesPresentation/data/easy_ham/0763.5760c74ddc97ef3acfeb25509fc1a85e',\n",
       " '/Users/rludwig/Desktop/MeetupProjects/NaiveBayesPresentation/data/easy_ham/0764.ba8f49f7a4dd4d9a9bb28e5c96e46463',\n",
       " '/Users/rludwig/Desktop/MeetupProjects/NaiveBayesPresentation/data/easy_ham/0765.7dc679a77d756d8404d793f18d307ffe',\n",
       " '/Users/rludwig/Desktop/MeetupProjects/NaiveBayesPresentation/data/easy_ham/0766.41207e11478fa4b0f4747f635e0542c0',\n",
       " '/Users/rludwig/Desktop/MeetupProjects/NaiveBayesPresentation/data/easy_ham/0767.da57f04c8030dce67142b9480e532b30',\n",
       " '/Users/rludwig/Desktop/MeetupProjects/NaiveBayesPresentation/data/easy_ham/0768.42d3db0f0b763a75183afd06f5db8ce5',\n",
       " '/Users/rludwig/Desktop/MeetupProjects/NaiveBayesPresentation/data/easy_ham/0769.3925a280a492a9354ad0ab9e338412cf',\n",
       " '/Users/rludwig/Desktop/MeetupProjects/NaiveBayesPresentation/data/easy_ham/0770.2133e3c539e404d26e8278c7f44fab07',\n",
       " '/Users/rludwig/Desktop/MeetupProjects/NaiveBayesPresentation/data/easy_ham/0771.56f1377225cfa1461304bce68e892600',\n",
       " '/Users/rludwig/Desktop/MeetupProjects/NaiveBayesPresentation/data/easy_ham/0772.f6e3d3c433121335121efc42f2d81aa7',\n",
       " '/Users/rludwig/Desktop/MeetupProjects/NaiveBayesPresentation/data/easy_ham/0773.e1edafa86a1670e9515d4d9c1bb288c9',\n",
       " '/Users/rludwig/Desktop/MeetupProjects/NaiveBayesPresentation/data/easy_ham/0774.cdd7992b853cadd1098b09224e74c728',\n",
       " '/Users/rludwig/Desktop/MeetupProjects/NaiveBayesPresentation/data/easy_ham/0775.380d5908cc272338fc163b1d1a748e8c',\n",
       " '/Users/rludwig/Desktop/MeetupProjects/NaiveBayesPresentation/data/easy_ham/0776.a9eef2414831a611b294174f440c77ea',\n",
       " '/Users/rludwig/Desktop/MeetupProjects/NaiveBayesPresentation/data/easy_ham/0777.5c0e911c29651cdea8729a23d3d5b203',\n",
       " '/Users/rludwig/Desktop/MeetupProjects/NaiveBayesPresentation/data/easy_ham/0778.56a343fa82239badd7e1b750c5963d7d',\n",
       " '/Users/rludwig/Desktop/MeetupProjects/NaiveBayesPresentation/data/easy_ham/0779.ec05ef8309cad3fd18a806c11c812bf1',\n",
       " '/Users/rludwig/Desktop/MeetupProjects/NaiveBayesPresentation/data/easy_ham/0780.a3cf52b9eac79db4f3d95e1735261df4',\n",
       " '/Users/rludwig/Desktop/MeetupProjects/NaiveBayesPresentation/data/easy_ham/0781.cbbfe78e21c332b56c7e3630aeaa9585',\n",
       " '/Users/rludwig/Desktop/MeetupProjects/NaiveBayesPresentation/data/easy_ham/0782.03d024d74f36ef492a9d8d5de300fb94',\n",
       " '/Users/rludwig/Desktop/MeetupProjects/NaiveBayesPresentation/data/easy_ham/0783.0d6a8bdec2d44f848cebb2e00e930f1a',\n",
       " '/Users/rludwig/Desktop/MeetupProjects/NaiveBayesPresentation/data/easy_ham/0784.ef6fd2c8cbdbfd6e8b95db4658190bb6',\n",
       " '/Users/rludwig/Desktop/MeetupProjects/NaiveBayesPresentation/data/easy_ham/0785.87d89ef541ee6678a7ec3e7009bebffb',\n",
       " '/Users/rludwig/Desktop/MeetupProjects/NaiveBayesPresentation/data/easy_ham/0786.c64c284e8fb2b88945969afd14bc6d78',\n",
       " '/Users/rludwig/Desktop/MeetupProjects/NaiveBayesPresentation/data/easy_ham/0787.38cb6e76b84f342ff95c30c099848cd9',\n",
       " '/Users/rludwig/Desktop/MeetupProjects/NaiveBayesPresentation/data/easy_ham/0788.cd3f2ceda8c91bd8bcf537a7421605e6',\n",
       " '/Users/rludwig/Desktop/MeetupProjects/NaiveBayesPresentation/data/easy_ham/0789.3dfa0525c97f1a875fc55edcbc71422c',\n",
       " '/Users/rludwig/Desktop/MeetupProjects/NaiveBayesPresentation/data/easy_ham/0790.bad21961212b5cfb7d75bf3c45c840c6',\n",
       " '/Users/rludwig/Desktop/MeetupProjects/NaiveBayesPresentation/data/easy_ham/0791.0b633957da3fa40b511d8e56ad877722',\n",
       " '/Users/rludwig/Desktop/MeetupProjects/NaiveBayesPresentation/data/easy_ham/0792.aed10efc4504d5991f7894ffbd496ab4',\n",
       " '/Users/rludwig/Desktop/MeetupProjects/NaiveBayesPresentation/data/easy_ham/0793.d39943e77b6404bf634356296c94f409',\n",
       " '/Users/rludwig/Desktop/MeetupProjects/NaiveBayesPresentation/data/easy_ham/0794.cf41a55933ae8896b668864d7b57b177',\n",
       " '/Users/rludwig/Desktop/MeetupProjects/NaiveBayesPresentation/data/easy_ham/0795.6f8b4da0f06a9c055fc527562fe92330',\n",
       " '/Users/rludwig/Desktop/MeetupProjects/NaiveBayesPresentation/data/easy_ham/0796.8d8d5b4019a279811294da009a57ba7d',\n",
       " '/Users/rludwig/Desktop/MeetupProjects/NaiveBayesPresentation/data/easy_ham/0797.b6a29c752d725a91f6edb2a46fa21be6',\n",
       " '/Users/rludwig/Desktop/MeetupProjects/NaiveBayesPresentation/data/easy_ham/0798.120c7f5263021bbdf183e1e304ef4a44',\n",
       " '/Users/rludwig/Desktop/MeetupProjects/NaiveBayesPresentation/data/easy_ham/0799.eb9fe164fe9541253b4ab806626ab171',\n",
       " '/Users/rludwig/Desktop/MeetupProjects/NaiveBayesPresentation/data/easy_ham/0800.ade9f54d2342efc6cd3ab051eeb6770a',\n",
       " '/Users/rludwig/Desktop/MeetupProjects/NaiveBayesPresentation/data/easy_ham/0801.d432213b6f824b0542ce97ae154a15c8',\n",
       " '/Users/rludwig/Desktop/MeetupProjects/NaiveBayesPresentation/data/easy_ham/0802.ad16df843d76e5c7e04b7515dafd6202',\n",
       " '/Users/rludwig/Desktop/MeetupProjects/NaiveBayesPresentation/data/easy_ham/0803.87956a6c8c2637ad52cb670a5385faf2',\n",
       " '/Users/rludwig/Desktop/MeetupProjects/NaiveBayesPresentation/data/easy_ham/0804.7c961dbb9d03dce55e6d4330a7de92c6',\n",
       " '/Users/rludwig/Desktop/MeetupProjects/NaiveBayesPresentation/data/easy_ham/0805.f275674c050884c5ad02c1b6fac94e30',\n",
       " '/Users/rludwig/Desktop/MeetupProjects/NaiveBayesPresentation/data/easy_ham/0806.2eae7f9f133274ed400a215174b7de1d',\n",
       " '/Users/rludwig/Desktop/MeetupProjects/NaiveBayesPresentation/data/easy_ham/0807.f71b636c06421f0cddb167eed4c0be82',\n",
       " '/Users/rludwig/Desktop/MeetupProjects/NaiveBayesPresentation/data/easy_ham/0808.426e30e31a3d3fab634e31e8aeb30c34',\n",
       " '/Users/rludwig/Desktop/MeetupProjects/NaiveBayesPresentation/data/easy_ham/0809.371aae7cab194e25613d5b4b2cd8b6ea',\n",
       " '/Users/rludwig/Desktop/MeetupProjects/NaiveBayesPresentation/data/easy_ham/0810.0b45692b95f22dd7373a9f464e96a518',\n",
       " '/Users/rludwig/Desktop/MeetupProjects/NaiveBayesPresentation/data/easy_ham/0811.ec8f54c9328755f7208f3ec1717e60de',\n",
       " '/Users/rludwig/Desktop/MeetupProjects/NaiveBayesPresentation/data/easy_ham/0812.6169d140cd30064a857c2e3ad20b31c2',\n",
       " '/Users/rludwig/Desktop/MeetupProjects/NaiveBayesPresentation/data/easy_ham/0813.9c59b6b0d4e221ca29d576cd2f170f06',\n",
       " '/Users/rludwig/Desktop/MeetupProjects/NaiveBayesPresentation/data/easy_ham/0814.1d2d3dedc0e3e216225f4af0e9323fb5',\n",
       " '/Users/rludwig/Desktop/MeetupProjects/NaiveBayesPresentation/data/easy_ham/0815.a212f32e210b815e2663ca5fd624aa58',\n",
       " '/Users/rludwig/Desktop/MeetupProjects/NaiveBayesPresentation/data/easy_ham/0816.b3fb75007d4e83784b06dc8202028bbf',\n",
       " '/Users/rludwig/Desktop/MeetupProjects/NaiveBayesPresentation/data/easy_ham/0817.bcee0d97a59953c5e6086df74d4ed665',\n",
       " '/Users/rludwig/Desktop/MeetupProjects/NaiveBayesPresentation/data/easy_ham/0818.c7f83ef6692e7bcec3fc31d04880f51f',\n",
       " '/Users/rludwig/Desktop/MeetupProjects/NaiveBayesPresentation/data/easy_ham/0819.337934ad4a28fb473915e323d3866edc',\n",
       " '/Users/rludwig/Desktop/MeetupProjects/NaiveBayesPresentation/data/easy_ham/0820.28def4e42460f6194152556fb05f915d',\n",
       " '/Users/rludwig/Desktop/MeetupProjects/NaiveBayesPresentation/data/easy_ham/0821.479ffdea3cc5f259f453afe16dd27e4a',\n",
       " '/Users/rludwig/Desktop/MeetupProjects/NaiveBayesPresentation/data/easy_ham/0822.3ebf2e0f82aa0195233b0221d665410d',\n",
       " '/Users/rludwig/Desktop/MeetupProjects/NaiveBayesPresentation/data/easy_ham/0823.3df96732430857f696c452a05d7cee94',\n",
       " '/Users/rludwig/Desktop/MeetupProjects/NaiveBayesPresentation/data/easy_ham/0824.87d1cb4a849c742b78ef5f51aff82935',\n",
       " '/Users/rludwig/Desktop/MeetupProjects/NaiveBayesPresentation/data/easy_ham/0825.50304b4fb153c18166fd8e9244659167',\n",
       " '/Users/rludwig/Desktop/MeetupProjects/NaiveBayesPresentation/data/easy_ham/0826.082e92a79a15aa7f6dd5b85a40327abd',\n",
       " '/Users/rludwig/Desktop/MeetupProjects/NaiveBayesPresentation/data/easy_ham/0827.33652ea92e79ab2149c188646b4ae0d4',\n",
       " '/Users/rludwig/Desktop/MeetupProjects/NaiveBayesPresentation/data/easy_ham/0828.244d3a6c6cef70fc0025906b05b069ac',\n",
       " '/Users/rludwig/Desktop/MeetupProjects/NaiveBayesPresentation/data/easy_ham/0829.8d4c26619530e36bfb855f5afb08876c',\n",
       " '/Users/rludwig/Desktop/MeetupProjects/NaiveBayesPresentation/data/easy_ham/0830.36efbaa51125bf5c1697fd795b3a26a2',\n",
       " '/Users/rludwig/Desktop/MeetupProjects/NaiveBayesPresentation/data/easy_ham/0831.0162ac7b4cc1c62fb35803bc4e8db70d',\n",
       " '/Users/rludwig/Desktop/MeetupProjects/NaiveBayesPresentation/data/easy_ham/0832.e4325e0432c958e4cf5a36fef3bf8573',\n",
       " '/Users/rludwig/Desktop/MeetupProjects/NaiveBayesPresentation/data/easy_ham/0833.8b8a773585ed6039efda26f9923a2913',\n",
       " '/Users/rludwig/Desktop/MeetupProjects/NaiveBayesPresentation/data/easy_ham/0834.36dab5acc512c15f3d6840b44e958b2a',\n",
       " '/Users/rludwig/Desktop/MeetupProjects/NaiveBayesPresentation/data/easy_ham/0835.21423890177aefe5eae8d27d8f18735d',\n",
       " '/Users/rludwig/Desktop/MeetupProjects/NaiveBayesPresentation/data/easy_ham/0836.249730de164ba4999f1ab6ec2d3cb2d1',\n",
       " '/Users/rludwig/Desktop/MeetupProjects/NaiveBayesPresentation/data/easy_ham/0837.23be7a8b5000203fd4e9fba1574d9fa3',\n",
       " '/Users/rludwig/Desktop/MeetupProjects/NaiveBayesPresentation/data/easy_ham/0838.4f78deeabc13a2826a0d6c9c86236f48',\n",
       " '/Users/rludwig/Desktop/MeetupProjects/NaiveBayesPresentation/data/easy_ham/0839.12075b1a4eb499ff6a0d7fd0e9d776db',\n",
       " '/Users/rludwig/Desktop/MeetupProjects/NaiveBayesPresentation/data/easy_ham/0840.fa01ffae1e9fef46ad0044b265fc6667',\n",
       " '/Users/rludwig/Desktop/MeetupProjects/NaiveBayesPresentation/data/easy_ham/0841.c178b14279ed5f5f9e5be2abac186b3c',\n",
       " '/Users/rludwig/Desktop/MeetupProjects/NaiveBayesPresentation/data/easy_ham/0842.5d790576a819e435b41abe9c0af61ec5',\n",
       " '/Users/rludwig/Desktop/MeetupProjects/NaiveBayesPresentation/data/easy_ham/0843.6e5323ee268f72a690f5e5af60643e73',\n",
       " '/Users/rludwig/Desktop/MeetupProjects/NaiveBayesPresentation/data/easy_ham/0844.6aab9e4919f6524f88591d6ef1e3f445',\n",
       " '/Users/rludwig/Desktop/MeetupProjects/NaiveBayesPresentation/data/easy_ham/0845.eb2eb66b172d250b0b35f971bab702c4',\n",
       " '/Users/rludwig/Desktop/MeetupProjects/NaiveBayesPresentation/data/easy_ham/0846.c64497babd4cafa18571fd484fd44e9d',\n",
       " '/Users/rludwig/Desktop/MeetupProjects/NaiveBayesPresentation/data/easy_ham/0847.00a64e95e9b26dd792571a8213a90c78',\n",
       " '/Users/rludwig/Desktop/MeetupProjects/NaiveBayesPresentation/data/easy_ham/0848.ef1b9b43e194c1650d7722ffcc7b20ad',\n",
       " '/Users/rludwig/Desktop/MeetupProjects/NaiveBayesPresentation/data/easy_ham/0849.84e6b16e331d3e5bcd798ca0f5374624',\n",
       " '/Users/rludwig/Desktop/MeetupProjects/NaiveBayesPresentation/data/easy_ham/0850.37218bc58cdc1cf2502010a098c77965',\n",
       " '/Users/rludwig/Desktop/MeetupProjects/NaiveBayesPresentation/data/easy_ham/0851.b7c6fc9da1800afe4eed1a0807dbdccc',\n",
       " '/Users/rludwig/Desktop/MeetupProjects/NaiveBayesPresentation/data/easy_ham/0852.cab2623799815a32681d15c6c82a41c5',\n",
       " '/Users/rludwig/Desktop/MeetupProjects/NaiveBayesPresentation/data/easy_ham/0853.79c912aba9155510575bfec3b8123f8e',\n",
       " '/Users/rludwig/Desktop/MeetupProjects/NaiveBayesPresentation/data/easy_ham/0854.6fc80acdb73b0ab60c3f316f646c0546',\n",
       " '/Users/rludwig/Desktop/MeetupProjects/NaiveBayesPresentation/data/easy_ham/0855.5b51f55bb80a0889f3d7071b99f8cdef',\n",
       " '/Users/rludwig/Desktop/MeetupProjects/NaiveBayesPresentation/data/easy_ham/0856.53c342f04272fa2b9c1f63829301e96b',\n",
       " '/Users/rludwig/Desktop/MeetupProjects/NaiveBayesPresentation/data/easy_ham/0857.c5290c6dee60d45314e519678e96735c',\n",
       " '/Users/rludwig/Desktop/MeetupProjects/NaiveBayesPresentation/data/easy_ham/0858.23f1e5976dae32b0061a6e206aa73241',\n",
       " '/Users/rludwig/Desktop/MeetupProjects/NaiveBayesPresentation/data/easy_ham/0859.c5de7d55c638b365941e5077d598ff6a',\n",
       " '/Users/rludwig/Desktop/MeetupProjects/NaiveBayesPresentation/data/easy_ham/0860.891fbb986b6531d3390a1e9035d571e1',\n",
       " '/Users/rludwig/Desktop/MeetupProjects/NaiveBayesPresentation/data/easy_ham/0861.6d286bd240426caa250c29aae36f9eab',\n",
       " '/Users/rludwig/Desktop/MeetupProjects/NaiveBayesPresentation/data/easy_ham/0862.91f1d92f60d5789a201c14f2034bbdaa',\n",
       " '/Users/rludwig/Desktop/MeetupProjects/NaiveBayesPresentation/data/easy_ham/0863.3de076f8a3b5f011d630dbefbd371694',\n",
       " '/Users/rludwig/Desktop/MeetupProjects/NaiveBayesPresentation/data/easy_ham/0864.5814f29d8b4689b925cc4179392bd341',\n",
       " '/Users/rludwig/Desktop/MeetupProjects/NaiveBayesPresentation/data/easy_ham/0865.4b2110ced3bc59bb5684c5ecfa980dd1',\n",
       " '/Users/rludwig/Desktop/MeetupProjects/NaiveBayesPresentation/data/easy_ham/0866.e437291998aab90004d6cde6eb85ea18',\n",
       " '/Users/rludwig/Desktop/MeetupProjects/NaiveBayesPresentation/data/easy_ham/0867.bd08bc5bff86a732422082ed7861416b',\n",
       " '/Users/rludwig/Desktop/MeetupProjects/NaiveBayesPresentation/data/easy_ham/0868.a7f0eab61f87e815b082348fe914b86f',\n",
       " '/Users/rludwig/Desktop/MeetupProjects/NaiveBayesPresentation/data/easy_ham/0869.3974462c46476759fb788a0b354a0f3a',\n",
       " '/Users/rludwig/Desktop/MeetupProjects/NaiveBayesPresentation/data/easy_ham/0870.e7254d91187938f2f0b2fa1ff117f822',\n",
       " '/Users/rludwig/Desktop/MeetupProjects/NaiveBayesPresentation/data/easy_ham/0871.79be1926ade2b8fc591f9f51abf66224',\n",
       " '/Users/rludwig/Desktop/MeetupProjects/NaiveBayesPresentation/data/easy_ham/0872.b39e14fc64a28f30b5c413d51ed9dea1',\n",
       " '/Users/rludwig/Desktop/MeetupProjects/NaiveBayesPresentation/data/easy_ham/0873.bd6a6b2911a0dedccee495aaf0fb248d',\n",
       " '/Users/rludwig/Desktop/MeetupProjects/NaiveBayesPresentation/data/easy_ham/0874.f17f5355a2abf8cb83fb09069c9460bc',\n",
       " '/Users/rludwig/Desktop/MeetupProjects/NaiveBayesPresentation/data/easy_ham/0875.990a5210c2586a027e13b10bf9d3e4ae',\n",
       " '/Users/rludwig/Desktop/MeetupProjects/NaiveBayesPresentation/data/easy_ham/0876.22140b6b06918d04fc07c3d992a6b846',\n",
       " '/Users/rludwig/Desktop/MeetupProjects/NaiveBayesPresentation/data/easy_ham/0877.62f5636ba5885d1b92423169c83a35b9',\n",
       " '/Users/rludwig/Desktop/MeetupProjects/NaiveBayesPresentation/data/easy_ham/0878.24186e5267a8ec179a2e07f2da013932',\n",
       " '/Users/rludwig/Desktop/MeetupProjects/NaiveBayesPresentation/data/easy_ham/0879.267af96ab014056d029ea42fd1ecf2bd',\n",
       " '/Users/rludwig/Desktop/MeetupProjects/NaiveBayesPresentation/data/easy_ham/0880.6aa461d079bb0762af5c94d9af8487ec',\n",
       " '/Users/rludwig/Desktop/MeetupProjects/NaiveBayesPresentation/data/easy_ham/0881.316c03b1dbd637537a4035f8470c6c12',\n",
       " '/Users/rludwig/Desktop/MeetupProjects/NaiveBayesPresentation/data/easy_ham/0882.1fc35ed593366d26e06112250d18678a',\n",
       " '/Users/rludwig/Desktop/MeetupProjects/NaiveBayesPresentation/data/easy_ham/0883.1c07a9bc574c386fbd893edbb24ea4e6',\n",
       " '/Users/rludwig/Desktop/MeetupProjects/NaiveBayesPresentation/data/easy_ham/0884.f4a7181c5337229d1e70c587cbae9567',\n",
       " '/Users/rludwig/Desktop/MeetupProjects/NaiveBayesPresentation/data/easy_ham/0885.edd07a1946446122321ba10a01eda39a',\n",
       " '/Users/rludwig/Desktop/MeetupProjects/NaiveBayesPresentation/data/easy_ham/0886.a901020854d0c42772ba10e45212ee82',\n",
       " '/Users/rludwig/Desktop/MeetupProjects/NaiveBayesPresentation/data/easy_ham/0887.95cafbddb7fce33aada0e9d9bb329aa5',\n",
       " '/Users/rludwig/Desktop/MeetupProjects/NaiveBayesPresentation/data/easy_ham/0888.a8cf27198dd5b8612b47fe3f8f19266f',\n",
       " '/Users/rludwig/Desktop/MeetupProjects/NaiveBayesPresentation/data/easy_ham/0889.19010d78004033878d170ffbcd3b1053',\n",
       " '/Users/rludwig/Desktop/MeetupProjects/NaiveBayesPresentation/data/easy_ham/0890.6f5adc9f03179475957e05f5f37cce57',\n",
       " '/Users/rludwig/Desktop/MeetupProjects/NaiveBayesPresentation/data/easy_ham/0891.44f5cad6f0dfa66277e1a0aec55e7bf6',\n",
       " '/Users/rludwig/Desktop/MeetupProjects/NaiveBayesPresentation/data/easy_ham/0892.b0cff6bbd5818574a0cd15913ee16970',\n",
       " '/Users/rludwig/Desktop/MeetupProjects/NaiveBayesPresentation/data/easy_ham/0893.535c68823a7692562371ccebf36fb7b7',\n",
       " '/Users/rludwig/Desktop/MeetupProjects/NaiveBayesPresentation/data/easy_ham/0894.9a873eed71fe3121571bced96155d76a',\n",
       " '/Users/rludwig/Desktop/MeetupProjects/NaiveBayesPresentation/data/easy_ham/0895.22cf8120994972bcbe9125e842cb27ff',\n",
       " '/Users/rludwig/Desktop/MeetupProjects/NaiveBayesPresentation/data/easy_ham/0896.cf28f52e82954eb5d05ed5f17df4262f',\n",
       " '/Users/rludwig/Desktop/MeetupProjects/NaiveBayesPresentation/data/easy_ham/0897.c0fe033806bfaf60f935e01aec04eec6',\n",
       " '/Users/rludwig/Desktop/MeetupProjects/NaiveBayesPresentation/data/easy_ham/0898.7ae0747c5a557c5362ba43b0fbfef22c',\n",
       " '/Users/rludwig/Desktop/MeetupProjects/NaiveBayesPresentation/data/easy_ham/0899.1f868150b365a5f407f46f908fe879e1',\n",
       " '/Users/rludwig/Desktop/MeetupProjects/NaiveBayesPresentation/data/easy_ham/0900.b7895454aeb2924c3d6aabf1dc5d16dd',\n",
       " '/Users/rludwig/Desktop/MeetupProjects/NaiveBayesPresentation/data/easy_ham/0901.9f7871c3213d421e802debe94f33b09e',\n",
       " '/Users/rludwig/Desktop/MeetupProjects/NaiveBayesPresentation/data/easy_ham/0902.056094d922ad63d0d84ad331469a3b37',\n",
       " '/Users/rludwig/Desktop/MeetupProjects/NaiveBayesPresentation/data/easy_ham/0903.8b54a580db644a9a23934361d5173610',\n",
       " '/Users/rludwig/Desktop/MeetupProjects/NaiveBayesPresentation/data/easy_ham/0904.281bae2420e1d4491270fb4ccfe7c4e6',\n",
       " '/Users/rludwig/Desktop/MeetupProjects/NaiveBayesPresentation/data/easy_ham/0905.2460d014dcdcdaaa26313066df702677',\n",
       " '/Users/rludwig/Desktop/MeetupProjects/NaiveBayesPresentation/data/easy_ham/0906.2e604cc2a15e9f2a68c302861ac42ec5',\n",
       " '/Users/rludwig/Desktop/MeetupProjects/NaiveBayesPresentation/data/easy_ham/0907.f0d5881329abda19ea946cf5c2e15d63',\n",
       " '/Users/rludwig/Desktop/MeetupProjects/NaiveBayesPresentation/data/easy_ham/0908.ed1a6d5d837cf45b48c47dfb105607e9',\n",
       " '/Users/rludwig/Desktop/MeetupProjects/NaiveBayesPresentation/data/easy_ham/0909.6e3ac55814e0630adcbe7e91f131e18c',\n",
       " '/Users/rludwig/Desktop/MeetupProjects/NaiveBayesPresentation/data/easy_ham/0910.1c60142bded401b4c9921b2c48600619',\n",
       " '/Users/rludwig/Desktop/MeetupProjects/NaiveBayesPresentation/data/easy_ham/0911.dcc71630eed7821469e4c26e5b768aee',\n",
       " '/Users/rludwig/Desktop/MeetupProjects/NaiveBayesPresentation/data/easy_ham/0912.7951bb152a4106ceff12048a818491a3',\n",
       " '/Users/rludwig/Desktop/MeetupProjects/NaiveBayesPresentation/data/easy_ham/0913.40f91b03e40a8c45819dabbfd5dc8158',\n",
       " '/Users/rludwig/Desktop/MeetupProjects/NaiveBayesPresentation/data/easy_ham/0914.77308dfba976d8491bad00bb7e616166',\n",
       " '/Users/rludwig/Desktop/MeetupProjects/NaiveBayesPresentation/data/easy_ham/0915.50f33ca8972e7e8be40c70edb7c4be73',\n",
       " '/Users/rludwig/Desktop/MeetupProjects/NaiveBayesPresentation/data/easy_ham/0916.69d1ff308a747f25c6ffaf7a6004dfb8',\n",
       " '/Users/rludwig/Desktop/MeetupProjects/NaiveBayesPresentation/data/easy_ham/0917.d223f4992983dd7eda98b30b60356046',\n",
       " '/Users/rludwig/Desktop/MeetupProjects/NaiveBayesPresentation/data/easy_ham/0918.2de8c6d8251d30c06be407bd701bb412',\n",
       " '/Users/rludwig/Desktop/MeetupProjects/NaiveBayesPresentation/data/easy_ham/0919.7cc4e3008c6788cc7675d1662ea4df75',\n",
       " '/Users/rludwig/Desktop/MeetupProjects/NaiveBayesPresentation/data/easy_ham/0920.cad45fa889324a42667e6da8d3a8006f',\n",
       " '/Users/rludwig/Desktop/MeetupProjects/NaiveBayesPresentation/data/easy_ham/0921.5a4eee7f38a1451abb6054901280b699',\n",
       " '/Users/rludwig/Desktop/MeetupProjects/NaiveBayesPresentation/data/easy_ham/0922.a8294319249f0b1dc50067de2cf937db',\n",
       " '/Users/rludwig/Desktop/MeetupProjects/NaiveBayesPresentation/data/easy_ham/0923.62f8eb57510330d6658ea55e5d7277df',\n",
       " '/Users/rludwig/Desktop/MeetupProjects/NaiveBayesPresentation/data/easy_ham/0924.82e1631cf6ff85106c0d301b99b4e523',\n",
       " '/Users/rludwig/Desktop/MeetupProjects/NaiveBayesPresentation/data/easy_ham/0925.c1066ea70b0e714fcea10b379e32d573',\n",
       " '/Users/rludwig/Desktop/MeetupProjects/NaiveBayesPresentation/data/easy_ham/0926.927a96948e055489893b88ba752c7fae',\n",
       " '/Users/rludwig/Desktop/MeetupProjects/NaiveBayesPresentation/data/easy_ham/0927.3fda95ccbe3f7818f1dfebfddeb2af66',\n",
       " '/Users/rludwig/Desktop/MeetupProjects/NaiveBayesPresentation/data/easy_ham/0928.bb2dbf50d5b36b5f621764e2ed1cf417',\n",
       " '/Users/rludwig/Desktop/MeetupProjects/NaiveBayesPresentation/data/easy_ham/0929.78a3fcddf914132d873019c8925b0669',\n",
       " '/Users/rludwig/Desktop/MeetupProjects/NaiveBayesPresentation/data/easy_ham/0930.e6b90edda75a110d7cc7335c110cfa1c',\n",
       " '/Users/rludwig/Desktop/MeetupProjects/NaiveBayesPresentation/data/easy_ham/0931.4b656b6718d863aa88ee116bd3fa0d1b',\n",
       " '/Users/rludwig/Desktop/MeetupProjects/NaiveBayesPresentation/data/easy_ham/0932.13ae6a0c179018c3e955c626b48fd069',\n",
       " '/Users/rludwig/Desktop/MeetupProjects/NaiveBayesPresentation/data/easy_ham/0933.60c6d3ae44d1762d461652d5d0ccb285',\n",
       " '/Users/rludwig/Desktop/MeetupProjects/NaiveBayesPresentation/data/easy_ham/0934.e85452a78cc528b9b99dac7ae0af5d82',\n",
       " '/Users/rludwig/Desktop/MeetupProjects/NaiveBayesPresentation/data/easy_ham/0935.69777ef80c3f27b435944189c6f07bc0',\n",
       " '/Users/rludwig/Desktop/MeetupProjects/NaiveBayesPresentation/data/easy_ham/0936.fd3d57ba85e83cca7b17ff92667a05eb',\n",
       " '/Users/rludwig/Desktop/MeetupProjects/NaiveBayesPresentation/data/easy_ham/0937.48b048dffa327b97d0ca68cd19d254ea',\n",
       " '/Users/rludwig/Desktop/MeetupProjects/NaiveBayesPresentation/data/easy_ham/0938.f0908eafe6ec23a6f3067e2f19432fb2',\n",
       " '/Users/rludwig/Desktop/MeetupProjects/NaiveBayesPresentation/data/easy_ham/0939.dea3b07c7536e3b74578ba6f878dfcba',\n",
       " '/Users/rludwig/Desktop/MeetupProjects/NaiveBayesPresentation/data/easy_ham/0940.459f634086ae8d4e277d7e9281406685',\n",
       " '/Users/rludwig/Desktop/MeetupProjects/NaiveBayesPresentation/data/easy_ham/0941.1277e2e301e3e7663705ffb922215395',\n",
       " '/Users/rludwig/Desktop/MeetupProjects/NaiveBayesPresentation/data/easy_ham/0942.dde76db87ad1670783cc76def075f6c0',\n",
       " '/Users/rludwig/Desktop/MeetupProjects/NaiveBayesPresentation/data/easy_ham/0943.8e0d99659137e5ae2a5b47a557029095',\n",
       " '/Users/rludwig/Desktop/MeetupProjects/NaiveBayesPresentation/data/easy_ham/0944.17f20b8ad4ea51e366873fa551ad20da',\n",
       " '/Users/rludwig/Desktop/MeetupProjects/NaiveBayesPresentation/data/easy_ham/0945.1a86d4f67991ad5793a17ba1863edd17',\n",
       " '/Users/rludwig/Desktop/MeetupProjects/NaiveBayesPresentation/data/easy_ham/0946.eb5e7c2de78b6fec81e509923689a7a4',\n",
       " '/Users/rludwig/Desktop/MeetupProjects/NaiveBayesPresentation/data/easy_ham/0947.9c6bd8643ae9c4b42fb7292840103704',\n",
       " '/Users/rludwig/Desktop/MeetupProjects/NaiveBayesPresentation/data/easy_ham/0948.5631ef817c7329bc8773800c1664b88d',\n",
       " '/Users/rludwig/Desktop/MeetupProjects/NaiveBayesPresentation/data/easy_ham/0949.1cee872e94767b14f2211bf240ccb459',\n",
       " '/Users/rludwig/Desktop/MeetupProjects/NaiveBayesPresentation/data/easy_ham/0950.11a0d8e3ec6c9a15acd578868f7508b0',\n",
       " '/Users/rludwig/Desktop/MeetupProjects/NaiveBayesPresentation/data/easy_ham/0951.542debe6e20315751c6e2c9bdedff85d',\n",
       " '/Users/rludwig/Desktop/MeetupProjects/NaiveBayesPresentation/data/easy_ham/0952.6f0f3423c7dc865f508bb35e2cc1bf8d',\n",
       " '/Users/rludwig/Desktop/MeetupProjects/NaiveBayesPresentation/data/easy_ham/0953.31be50aa4dfd43d0f597afe9968977b7',\n",
       " '/Users/rludwig/Desktop/MeetupProjects/NaiveBayesPresentation/data/easy_ham/0954.fadb0b68f0246b3aafcc1ff134ff1065',\n",
       " '/Users/rludwig/Desktop/MeetupProjects/NaiveBayesPresentation/data/easy_ham/0955.aeb04c1ac6bb728a6561da1da8b73995',\n",
       " '/Users/rludwig/Desktop/MeetupProjects/NaiveBayesPresentation/data/easy_ham/0956.fb35140cb684b750a0b652251bf9f7df',\n",
       " '/Users/rludwig/Desktop/MeetupProjects/NaiveBayesPresentation/data/easy_ham/0957.5f66d7beec0698b8ff48735f2477c7fe',\n",
       " '/Users/rludwig/Desktop/MeetupProjects/NaiveBayesPresentation/data/easy_ham/0958.f564af86e1a1c10e2f7428899c8543e7',\n",
       " '/Users/rludwig/Desktop/MeetupProjects/NaiveBayesPresentation/data/easy_ham/0959.2ff04e46681e4aa8f3be0f186d6a408e',\n",
       " '/Users/rludwig/Desktop/MeetupProjects/NaiveBayesPresentation/data/easy_ham/0960.ef7ed4755c4f2630aea5bf4074829bbb',\n",
       " '/Users/rludwig/Desktop/MeetupProjects/NaiveBayesPresentation/data/easy_ham/0961.06496acb4b3a9db5434d7c68ff5376e0',\n",
       " '/Users/rludwig/Desktop/MeetupProjects/NaiveBayesPresentation/data/easy_ham/0962.2fb2ffd2e80f2dc290149d36a47cef24',\n",
       " '/Users/rludwig/Desktop/MeetupProjects/NaiveBayesPresentation/data/easy_ham/0963.5c8f4d192ae6da76be5fcf3d63a7124e',\n",
       " '/Users/rludwig/Desktop/MeetupProjects/NaiveBayesPresentation/data/easy_ham/0964.d2bb65180b5827292fc3e54a44a02fdd',\n",
       " '/Users/rludwig/Desktop/MeetupProjects/NaiveBayesPresentation/data/easy_ham/0965.ba396065e5cc872d89cb197e4773f372',\n",
       " '/Users/rludwig/Desktop/MeetupProjects/NaiveBayesPresentation/data/easy_ham/0966.20a99be33fcc43b63c8b082d9348ee02',\n",
       " '/Users/rludwig/Desktop/MeetupProjects/NaiveBayesPresentation/data/easy_ham/0967.4e58795717c8348425fd06d48c7acc9e',\n",
       " '/Users/rludwig/Desktop/MeetupProjects/NaiveBayesPresentation/data/easy_ham/0968.0be9064c59a1e2ff57a88a6254fc5c27',\n",
       " '/Users/rludwig/Desktop/MeetupProjects/NaiveBayesPresentation/data/easy_ham/0969.c872e57098d18f1588a9e0b1307cee42',\n",
       " '/Users/rludwig/Desktop/MeetupProjects/NaiveBayesPresentation/data/easy_ham/0970.f10c0a8d0caea18d4fe49bef77099b7e',\n",
       " '/Users/rludwig/Desktop/MeetupProjects/NaiveBayesPresentation/data/easy_ham/0971.0442a60e9294a07934b67f751cb1177e',\n",
       " '/Users/rludwig/Desktop/MeetupProjects/NaiveBayesPresentation/data/easy_ham/0972.58234e68337a7a333ca40560900f82d9',\n",
       " '/Users/rludwig/Desktop/MeetupProjects/NaiveBayesPresentation/data/easy_ham/0973.89427fb666841ff5794e403f199002af',\n",
       " '/Users/rludwig/Desktop/MeetupProjects/NaiveBayesPresentation/data/easy_ham/0974.12d5f785a949c7cd9c0c81a34a370842',\n",
       " '/Users/rludwig/Desktop/MeetupProjects/NaiveBayesPresentation/data/easy_ham/0975.e49c2453f33ce748a8d9128708ce0a81',\n",
       " '/Users/rludwig/Desktop/MeetupProjects/NaiveBayesPresentation/data/easy_ham/0976.3da1d276c9603bdf777d80e0e74ec148',\n",
       " '/Users/rludwig/Desktop/MeetupProjects/NaiveBayesPresentation/data/easy_ham/0977.d0e3f4e7fd0a8c2bdd26888af1ca3a0b',\n",
       " '/Users/rludwig/Desktop/MeetupProjects/NaiveBayesPresentation/data/easy_ham/0978.3abc52be262e3631f31cd4aee5a1b901',\n",
       " '/Users/rludwig/Desktop/MeetupProjects/NaiveBayesPresentation/data/easy_ham/0979.d3eaa275a74abc971eabaf1650d97bda',\n",
       " '/Users/rludwig/Desktop/MeetupProjects/NaiveBayesPresentation/data/easy_ham/0980.50625dab89ad0d10dd3f37a4e13bafbf',\n",
       " '/Users/rludwig/Desktop/MeetupProjects/NaiveBayesPresentation/data/easy_ham/0981.c8d50b71ed6245f895b58c29d60c09be',\n",
       " '/Users/rludwig/Desktop/MeetupProjects/NaiveBayesPresentation/data/easy_ham/0982.3949b69b4c7d0ce7b5baa3cb1075b965',\n",
       " '/Users/rludwig/Desktop/MeetupProjects/NaiveBayesPresentation/data/easy_ham/0983.c68392ce03bc95afaf1ef76360ee0a88',\n",
       " '/Users/rludwig/Desktop/MeetupProjects/NaiveBayesPresentation/data/easy_ham/0984.c155c04486f51644804c5e184a8e2a85',\n",
       " '/Users/rludwig/Desktop/MeetupProjects/NaiveBayesPresentation/data/easy_ham/0985.1325fda30e2108d0b397796b11234f85',\n",
       " '/Users/rludwig/Desktop/MeetupProjects/NaiveBayesPresentation/data/easy_ham/0986.1e2f19247a82ecf9458801167232ee0a',\n",
       " '/Users/rludwig/Desktop/MeetupProjects/NaiveBayesPresentation/data/easy_ham/0987.4ad8a98bfcc3968dfae0f8c4f1821d2c',\n",
       " '/Users/rludwig/Desktop/MeetupProjects/NaiveBayesPresentation/data/easy_ham/0988.0743b9293ec2636dbc6065acd9b646fb',\n",
       " '/Users/rludwig/Desktop/MeetupProjects/NaiveBayesPresentation/data/easy_ham/0989.5c5812e631227a1a0873bc3fc9455c10',\n",
       " '/Users/rludwig/Desktop/MeetupProjects/NaiveBayesPresentation/data/easy_ham/0990.7c68a426e051d8f04aa42d1c2d2e6cf4',\n",
       " '/Users/rludwig/Desktop/MeetupProjects/NaiveBayesPresentation/data/easy_ham/0991.f273a70df275a44e46f4544897eaee23',\n",
       " '/Users/rludwig/Desktop/MeetupProjects/NaiveBayesPresentation/data/easy_ham/0992.a7884a746d675de27a0ca535685e8d6d',\n",
       " '/Users/rludwig/Desktop/MeetupProjects/NaiveBayesPresentation/data/easy_ham/0993.e9b2fa685c22a3f2977985514c78d9e8',\n",
       " '/Users/rludwig/Desktop/MeetupProjects/NaiveBayesPresentation/data/easy_ham/0994.744ef88f9e8a7c41eb69e25950a8fc41',\n",
       " '/Users/rludwig/Desktop/MeetupProjects/NaiveBayesPresentation/data/easy_ham/0995.9298a05fd3411fb40a7c3b9768b72438',\n",
       " '/Users/rludwig/Desktop/MeetupProjects/NaiveBayesPresentation/data/easy_ham/0996.a6ea93af44bc21fb704aecfd1bc4d57a',\n",
       " '/Users/rludwig/Desktop/MeetupProjects/NaiveBayesPresentation/data/easy_ham/0997.df0c214721243248b9421e3c0ba9e453',\n",
       " '/Users/rludwig/Desktop/MeetupProjects/NaiveBayesPresentation/data/easy_ham/0998.9b9e34483f3588514be24dd97961764b',\n",
       " '/Users/rludwig/Desktop/MeetupProjects/NaiveBayesPresentation/data/easy_ham/0999.693cdb369d548fedfd9ad794b8b6b882',\n",
       " '/Users/rludwig/Desktop/MeetupProjects/NaiveBayesPresentation/data/easy_ham/1000.348e8a82897b05d584de019f4dd5c7e2',\n",
       " ...]"
      ]
     },
     "execution_count": 82,
     "metadata": {},
     "output_type": "execute_result"
    }
   ],
   "source": [
    "path = r\"/Users/rludwig/Desktop/MeetupProjects/NaiveBayesPresentation/data/*/*\"\n",
    "data = []"
   ]
  },
  {
   "cell_type": "code",
   "execution_count": 92,
   "metadata": {
    "collapsed": false
   },
   "outputs": [
    {
     "name": "stdout",
     "output_type": "stream",
     "text": [
      "From martin@srv0.ems.ed.ac.uk  Thu Aug 22 14:54:40 2002\n",
      "\n",
      "Return-Path: <martin@srv0.ems.ed.ac.uk>\n",
      "\n",
      "Delivered-To: zzzz@localhost.netnoteinc.com\n",
      "\n",
      "Received: from localhost (localhost [127.0.0.1])\n",
      "\n",
      "\tby phobos.labs.netnoteinc.com (Postfix) with ESMTP id E3D7B47C66\n",
      "\n",
      "\tfor <zzzz@localhost>; Thu, 22 Aug 2002 09:54:39 -0400 (EDT)\n",
      "\n",
      "Received: from phobos [127.0.0.1]\n",
      "\n",
      "\tby localhost with IMAP (fetchmail-5.9.0)\n",
      "\n",
      "\tfor zzzz@localhost (single-drop); Thu, 22 Aug 2002 14:54:40 +0100 (IST)\n",
      "\n",
      "Received: from n11.grp.scd.yahoo.com (n11.grp.scd.yahoo.com\n",
      "\n",
      "    [66.218.66.66]) by dogma.slashnull.org (8.11.6/8.11.6) with SMTP id\n",
      "\n",
      "    g7MDt8Z09193 for <zzzz@example.com>; Thu, 22 Aug 2002 14:55:10 +0100\n",
      "\n",
      "X-Egroups-Return: sentto-2242572-52738-1030024499-zzzz=example.com@returns.groups.yahoo.com\n",
      "\n",
      "Received: from [66.218.66.94] by n11.grp.scd.yahoo.com with NNFMP;\n",
      "\n",
      "    22 Aug 2002 13:55:03 -0000\n",
      "\n",
      "X-Sender: martin@srv0.ems.ed.ac.uk\n",
      "\n",
      "X-Apparently-To: zzzzteana@yahoogroups.com\n",
      "\n",
      "Received: (EGP: mail-8_1_0_1); 22 Aug 2002 13:54:59 -0000\n",
      "\n",
      "Received: (qmail 43039 invoked from network); 22 Aug 2002 13:54:58 -0000\n",
      "\n",
      "Received: from unknown (66.218.66.216) by m1.grp.scd.yahoo.com with QMQP;\n",
      "\n",
      "    22 Aug 2002 13:54:58 -0000\n",
      "\n",
      "Received: from unknown (HELO haymarket.ed.ac.uk) (129.215.128.53) by\n",
      "\n",
      "    mta1.grp.scd.yahoo.com with SMTP; 22 Aug 2002 13:54:58 -0000\n",
      "\n",
      "Received: from srv0.ems.ed.ac.uk (srv0.ems.ed.ac.uk [129.215.117.0]) by\n",
      "\n",
      "    haymarket.ed.ac.uk (8.11.6/8.11.6) with ESMTP id g7MDsv311745 for\n",
      "\n",
      "    <forteana@yahoogroups.com>; Thu, 22 Aug 2002 14:54:57 +0100 (BST)\n",
      "\n",
      "Received: from EMS-SRV0/SpoolDir by srv0.ems.ed.ac.uk (Mercury 1.44);\n",
      "\n",
      "    22 Aug 02 14:54:56 +0000\n",
      "\n",
      "Received: from SpoolDir by EMS-SRV0 (Mercury 1.44); 22 Aug 02 14:54:29 +0000\n",
      "\n",
      "Organization: Management School\n",
      "\n",
      "To: zzzzteana@yahoogroups.com\n",
      "\n",
      "Message-Id: <3D64FB27.18538.63DEC17@localhost>\n",
      "\n",
      "Priority: normal\n",
      "\n",
      "X-Mailer: Pegasus Mail for Windows (v4.01)\n",
      "\n",
      "Content-Description: Mail message body\n",
      "\n",
      "From: \"Martin Adamson\" <martin@srv0.ems.ed.ac.uk>\n",
      "\n",
      "MIME-Version: 1.0\n",
      "\n",
      "Mailing-List: list zzzzteana@yahoogroups.com; contact\n",
      "\n",
      "    forteana-owner@yahoogroups.com\n",
      "\n",
      "Delivered-To: mailing list zzzzteana@yahoogroups.com\n",
      "\n",
      "Precedence: bulk\n",
      "\n",
      "List-Unsubscribe: <mailto:zzzzteana-unsubscribe@yahoogroups.com>\n",
      "\n",
      "Date: Thu, 22 Aug 2002 14:54:25 +0100\n",
      "\n",
      "Subject: [zzzzteana] Playboy wants to go out with a bang\n",
      "\n",
      "Reply-To: zzzzteana@yahoogroups.com\n",
      "\n",
      "Content-Type: text/plain; charset=ISO-8859-1\n",
      "\n",
      "Content-Transfer-Encoding: 8bit\n",
      "\n",
      "X-MIME-Autoconverted: from quoted-printable to 8bit by dogma.slashnull.org\n",
      "\n",
      "    id g7MDt8Z09193\n",
      "\n",
      "\n",
      "\n",
      "The Scotsman - 22 August 2002\n",
      "\n",
      "\n",
      "\n",
      " Playboy wants to go out with a bang \n",
      "\n",
      " \n",
      "\n",
      " \n",
      "\n",
      " AN AGEING Berlin playboy has come up with an unusual offer to lure women into\n",
      "\n",
      " his bed - by promising the last woman he sleeps with an inheritance of 250,000\n",
      "\n",
      " (£160,000). \n",
      "\n",
      " \n",
      "\n",
      " Rolf Eden, 72, a Berlin disco owner famous for his countless sex partners,\n",
      "\n",
      " said he could imagine no better way to die than in the arms of an attractive\n",
      "\n",
      " young woman - preferably under 30. \n",
      "\n",
      " \n",
      "\n",
      " \"I put it all in my last will and testament - the last woman who sleeps with\n",
      "\n",
      " me gets all the money,\" Mr Eden told Bild newspaper. \n",
      "\n",
      " \n",
      "\n",
      " \"I want to pass away in the most beautiful moment of my life. First a lot of\n",
      "\n",
      " fun with a beautiful woman, then wild sex, a final orgasm - and it will all\n",
      "\n",
      " end with a heart attack and then Im gone.\" \n",
      "\n",
      " \n",
      "\n",
      " Mr Eden, who is selling his nightclub this year, said applications should be\n",
      "\n",
      " sent in quickly because of his age. \"It could end very soon,\" he said.\n",
      "\n",
      "\n",
      "\n",
      "\n",
      "\n",
      "------------------------ Yahoo! Groups Sponsor ---------------------~-->\n",
      "\n",
      "4 DVDs Free +s&p Join Now\n",
      "\n",
      "http://us.click.yahoo.com/pt6YBB/NXiEAA/mG3HAA/7gSolB/TM\n",
      "\n",
      "---------------------------------------------------------------------~->\n",
      "\n",
      "\n",
      "\n",
      "To unsubscribe from this group, send an email to:\n",
      "\n",
      "forteana-unsubscribe@egroups.com\n",
      "\n",
      "\n",
      "\n",
      " \n",
      "\n",
      "\n",
      "\n",
      "Your use of Yahoo! Groups is subject to http://docs.yahoo.com/info/terms/ \n",
      "\n",
      "\n",
      "\n",
      "\n",
      "\n",
      "\n",
      "\n"
     ]
    }
   ],
   "source": [
    "# modify the path with wherever you've put the files\n",
    "# there should be 3 folders: spam, easy_ham, hard_ham\n",
    "# Below assumes they are stored in one folder named 'data'\n",
    "# \n",
    "# the command 'pwd' will tell you the current path of this notebook and\n",
    "# might be what you put in front of /data/*/*\n",
    "\n",
    "# all files in each of 3 folders\n",
    "\n",
    "# glob.glob returns every filename that matches the wildcarded path\n",
    "for fn in glob.glob(path):\n",
    "#    print(fn)\n",
    "    is_spam = \"ham\" not in fn\n",
    "\n",
    "    with open(fn,'r',encoding = \"ISO-8859-1\") as filename:\n",
    "        for line in filename:\n",
    "            if '0008.20bc0b4ba2d99' in fn: print(line)\n",
    "            if line.startswith(\"Subject:\"):\n",
    "                # remove the leading \"Subject: \" and keep what's left\n",
    "                subject = re.sub(r\"^Subject: \", \"\", line).strip()\n",
    "                data.append((subject, is_spam))"
   ]
  },
  {
   "cell_type": "code",
   "execution_count": 91,
   "metadata": {
    "collapsed": false
   },
   "outputs": [
    {
     "name": "stdout",
     "output_type": "stream",
     "text": [
      "[('Re: New Sequences Window', False), ('[zzzzteana] RE: Alexander', False), ('[zzzzteana] Moscow bomber', False), (\"[IRR] Klez: The Virus That  Won't Die\", False), ('Re: Insert signature', False)] [('enter Chinese market', True), ('Free big cock in Pussy', True), ('FORTUNE 500 COMPANY HIRING, AT HOME REPS.', True), ('Incredible Pictures!!!!!!!!', True), ('Look What Sandy is Doing in her DORM!!', True)]\n"
     ]
    }
   ],
   "source": [
    "# Have a look at part of the data\n",
    "print(data[0:5], data[3000:3005])"
   ]
  },
  {
   "cell_type": "markdown",
   "metadata": {},
   "source": [
    "### Split the data into training and test data."
   ]
  },
  {
   "cell_type": "code",
   "execution_count": 95,
   "metadata": {
    "collapsed": true
   },
   "outputs": [],
   "source": [
    "def split_data(data, prob):\n",
    "    \"\"\"split data into fractions [prob, 1 - prob]\"\"\"\n",
    "    results = [], []\n",
    "    for row in data:\n",
    "        results[0 if random.random() < prob else 1].append(row)\n",
    "    return results\n",
    "\n",
    "random.seed(0)                                  # just so you get the same answers as Joel\n",
    "train_data, test_data = split_data(data, 0.75)"
   ]
  },
  {
   "cell_type": "markdown",
   "metadata": {},
   "source": [
    "### Build a classifier with our training data."
   ]
  },
  {
   "cell_type": "code",
   "execution_count": 96,
   "metadata": {
    "collapsed": false
   },
   "outputs": [],
   "source": [
    "classifier = NaiveBayesClassifier()\n",
    "classifier.train(train_data)"
   ]
  },
  {
   "cell_type": "markdown",
   "metadata": {},
   "source": [
    "### Testing the model\n",
    "\n",
    "Test to see how well the model is done."
   ]
  },
  {
   "cell_type": "code",
   "execution_count": 97,
   "metadata": {
    "collapsed": false
   },
   "outputs": [
    {
     "name": "stdout",
     "output_type": "stream",
     "text": [
      "Counter({(False, False): 2043, (True, True): 367, (False, True): 133, (True, False): 17})\n"
     ]
    }
   ],
   "source": [
    "# triplets (subject, actual is_spam, predicted spam probability)\n",
    "classified = [(subject, is_spam, classifier.classify(subject))\n",
    "              for subject, is_spam in test_data]\n",
    "\n",
    "# assume that spam_probability > 0.5 corresponds to spam prediction\n",
    "# and count the combinations of (actual is_spam, predicted is_spam)\n",
    "counts = Counter((is_spam, spam_probability > 0.5)\n",
    "                 for _, is_spam, spam_probability in classified)\n",
    "\n",
    "print(counts)"
   ]
  },
  {
   "cell_type": "markdown",
   "metadata": {},
   "source": [
    "'This gives 101 true positives (spam classified as “spam”), 33 false positives (ham classified as “spam”), 704 true negatives (ham classified as “ham”), and 38 false negatives (spam classified as “ham”). This means our precision is 101 / (101 + 33) = 75%, and our recall is 101 / (101 + 38) = 73%, which are not bad numbers for such a simple model.' (Grus)"
   ]
  },
  {
   "cell_type": "markdown",
   "metadata": {},
   "source": [
    "### Precision and Recall"
   ]
  },
  {
   "cell_type": "markdown",
   "metadata": {},
   "source": [
    "$Precision$ and $recall$ are common measurements for classification problems. See <a href=\"https://en.wikipedia.org/wiki/Precision_and_recall\" target=\"_blank\">here</a> for more info. For us, on the image below, the relevant elements are the spam emails.\n",
    "\n",
    "<img src=images/Precisionrecall.png align=\"center\" width=\"40%\"></div>"
   ]
  },
  {
   "cell_type": "markdown",
   "metadata": {},
   "source": [
    "### 'It’s also interesting to look at the most misclassified:' (Grus)"
   ]
  },
  {
   "cell_type": "code",
   "execution_count": 99,
   "metadata": {
    "collapsed": false
   },
   "outputs": [
    {
     "name": "stdout",
     "output_type": "stream",
     "text": [
      "[('\"I meditated in a cave for 12 years and now I\\'m here to tell you', False, 0.9999566072929591), ('\"I meditated in a cave for 12 years and now I\\'m here to tell you', False, 0.9999566072929591), ('=?iso-2022-jp?B?UmU6IBskQjswSSkyPTNYJSglcyU4JUslIiVqJXMlME1NJVcbKEI=?=', False, 0.9999866368216898), ('=?iso-2022-jp?B?GyRCRnxLXDhsJE43b0w+IUolNSVWJTglJyUvJUghSyEhJTkbKEI=?=', False, 0.9999959101573569), ('=?iso-2022-jp?B?GyRCRnxLXDhsJE43b0w+IUolNSVWJTglJyUvJUghSyEhJTkbKEI=?=', False, 0.9999959101573569)]\n",
      "[('Re: Hi', True, 0.02003617799546471), ('Issuance of Gold Stamps', True, 0.03181551999867424), ('Issuance of Gold Stamps', True, 0.03181551999867424), ('Issuance of Gold Stamps', True, 0.03181551999867424), ('Re: This Weekend', True, 0.052987032720944356)]\n"
     ]
    }
   ],
   "source": [
    "# sort by spam_probability from smallest to largest\n",
    "classified.sort(key=lambda row: row[2])\n",
    "\n",
    "# the highest predicted spam probabilities among the non-spams\n",
    "spammiest_hams = list(filter(lambda row: not row[1], classified))[-5:]\n",
    "\n",
    "# the lowest predicted spam probabilities among the actual spams\n",
    "hammiest_spams = list(filter(lambda row: row[1], classified))[:5]\n",
    "\n",
    "print(spammiest_hams)\n",
    "print(hammiest_spams)"
   ]
  },
  {
   "cell_type": "markdown",
   "metadata": {},
   "source": [
    "'The two spammiest hams both have the words “needed” (77 times more likely to appear in spam), “insurance” (30 times more likely to appear in spam), and “important” (10 times more likely to appear in spam).\n",
    "\n",
    "The hammiest spam is too short (“Re: girls”) to make much of a judgment, and the second-hammiest is a credit card solicitation most of whose words weren’t in the training set.' (Grus)"
   ]
  },
  {
   "cell_type": "markdown",
   "metadata": {},
   "source": [
    "### Now check out the 'spammiest' words."
   ]
  },
  {
   "cell_type": "code",
   "execution_count": 100,
   "metadata": {
    "collapsed": false
   },
   "outputs": [
    {
     "name": "stdout",
     "output_type": "stream",
     "text": [
      "[('sale', 0.02886323268206039, 7.552870090634441e-05), ('systemworks', 0.034191829484902306, 7.552870090634441e-05), ('money', 0.03507992895204263, 7.552870090634441e-05), ('rates', 0.03952042628774423, 7.552870090634441e-05), ('adv', 0.043072824156305506, 7.552870090634441e-05)]\n",
      "[('spambayes', 0.0004440497335701599, 0.04720543806646526), ('users', 0.0004440497335701599, 0.0384441087613293), ('razor', 0.0004440497335701599, 0.033157099697885196), ('zzzzteana', 0.0004440497335701599, 0.03149546827794562), ('sadev', 0.0004440497335701599, 0.027416918429003023)]\n"
     ]
    }
   ],
   "source": [
    "def p_spam_given_word(word_prob):\n",
    "    \"\"\"uses bayes's theorem to compute p(spam | message contains word)\"\"\"\n",
    "\n",
    "    # word_prob is one of the triplets produced by word_probabilities\n",
    "    word, prob_if_spam, prob_if_not_spam = word_prob\n",
    "    return prob_if_spam / (prob_if_spam + prob_if_not_spam)\n",
    "\n",
    "words = sorted(classifier.word_probs, key=p_spam_given_word)\n",
    "\n",
    "spammiest_words = words[-5:]\n",
    "hammiest_words = words[:5]\n",
    "print(spammiest_words)\n",
    "print(hammiest_words)"
   ]
  },
  {
   "cell_type": "markdown",
   "metadata": {},
   "source": [
    "### <font color='blue'> What ways can you think of to improve this spam filter? </font>"
   ]
  },
  {
   "cell_type": "markdown",
   "metadata": {},
   "source": [
    "Some suggestions from Grus:\n",
    "\n",
    " - Modify the classifier to accept an optional min_count threshhold and ignore tokens that don’t appear at least that many times.\n",
    "\n",
    " - We could add extra features like “message contains a number” by creating phony tokens like contains:number and modifying the tokenizer to emit them when appropriate.\n",
    "\n",
    " - The tokenizer has no notion of similar words (e.g., “cheap” and “cheapest”). Modify the classifier to take an optional stemmer function that converts words to equivalence classes of words. For example, a really simple stemmer function might be:"
   ]
  },
  {
   "cell_type": "code",
   "execution_count": null,
   "metadata": {
    "collapsed": true
   },
   "outputs": [],
   "source": [
    "def drop_final_s(word):\n",
    "    return re.sub(\"s$\", \"\", word)"
   ]
  },
  {
   "cell_type": "markdown",
   "metadata": {},
   "source": [
    "### <font color='blue'> What issues might come up if you include the whole message and not just the subject? </font>"
   ]
  },
  {
   "cell_type": "markdown",
   "metadata": {},
   "source": [
    "### A brief word about probability distributions"
   ]
  },
  {
   "cell_type": "markdown",
   "metadata": {},
   "source": [
    "Distributions describe what kind of outcomes we expect a random variable to take. For more information, check out <a href=\"http://www.dartmouth.edu/~chance/teaching_aids/books_articles/probability_book/amsbook.mac.pdf\" target=\"_blank\"> this</a> open source probability book. \n",
    "\n",
    "We make assumptions about these distributions when we design our model. \n",
    "\n",
    "Scikit-learn implements <a href=\"http://scikit-learn.org/stable/modules/naive_bayes.html\" target=\"_blank\">three different versions</a> of Naive Bayes, based on either Bernoulli, a Multinomial or Gaussian distribution.\n",
    "\n",
    "We assumed our data followed a <a href=\"https://en.wikipedia.org/wiki/Bernoulli_distribution\" target=\"_blank\">Bernoulli distribution</a>.\n",
    "\n",
    "In contrast, <a href=\"https://en.wikipedia.org/wiki/Naive_Bayes_classifier#Gender_classification\" target=\"_blank\">this gender classification example</a> follows a Gaussian distribution. "
   ]
  },
  {
   "cell_type": "markdown",
   "metadata": {},
   "source": [
    "## <font color = 'purple'> Congratulations! You finished the workshop!</font> \n",
    "\n",
    "For additional resources, please refer to the slide deck linked in the github repositary readme."
   ]
  }
 ],
 "metadata": {
  "kernelspec": {
   "display_name": "Python [Root]",
   "language": "python",
   "name": "Python [Root]"
  },
  "language_info": {
   "codemirror_mode": {
    "name": "ipython",
    "version": 3
   },
   "file_extension": ".py",
   "mimetype": "text/x-python",
   "name": "python",
   "nbconvert_exporter": "python",
   "pygments_lexer": "ipython3",
   "version": "3.5.2"
  }
 },
 "nbformat": 4,
 "nbformat_minor": 0
}
