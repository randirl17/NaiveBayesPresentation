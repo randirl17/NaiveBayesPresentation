{
 "cells": [
  {
   "cell_type": "markdown",
   "metadata": {},
   "source": [
    "# WiDS Probability and Naive Bayes - Probability Exercises"
   ]
  },
  {
   "cell_type": "markdown",
   "metadata": {},
   "source": [
    "## Import Libraries"
   ]
  },
  {
   "cell_type": "code",
   "execution_count": null,
   "metadata": {
    "collapsed": true
   },
   "outputs": [],
   "source": [
    "from __future__ import division     # Make the division operation behave\n",
    "import math                         # Get access to math functions that can help with probability calculations"
   ]
  },
  {
   "cell_type": "markdown",
   "metadata": {},
   "source": [
    "## Basic Probability Calculations"
   ]
  },
  {
   "cell_type": "markdown",
   "metadata": {},
   "source": [
    "Calculate the answers to these basic probability problems using operation methods in Python.\n",
    "\n",
    "#### Tip: use round() function and string formatting to help with tidying up long float results."
   ]
  },
  {
   "cell_type": "markdown",
   "metadata": {},
   "source": [
    "Q1. What is the likelihood of rolling a 2 *or* a 3 on a fair six-sided dice? "
   ]
  },
  {
   "cell_type": "code",
   "execution_count": null,
   "metadata": {
    "collapsed": true
   },
   "outputs": [],
   "source": [
    "# Your answer here\n"
   ]
  },
  {
   "cell_type": "markdown",
   "metadata": {},
   "source": [
    "Q2. What is the probability of getting a ham sandwich, when randomly selecting from a platter that has 5 turkey, 3 vegetarian, 4 beef, 2 ham, and 5 chicken?"
   ]
  },
  {
   "cell_type": "code",
   "execution_count": null,
   "metadata": {
    "collapsed": true
   },
   "outputs": [],
   "source": [
    "# Your answer here\n"
   ]
  },
  {
   "cell_type": "markdown",
   "metadata": {},
   "source": [
    "Q3. How likely is it that you will get both heads on a fair coin flip AND an even number on a fair six-sided dice?"
   ]
  },
  {
   "cell_type": "code",
   "execution_count": null,
   "metadata": {
    "collapsed": false
   },
   "outputs": [],
   "source": [
    "# Your answer here\n"
   ]
  },
  {
   "cell_type": "markdown",
   "metadata": {},
   "source": [
    "Q4. Aliens come down to earth and start abducting people, but not entirely randomly. Women have a 70% chance of being beamed up, and people over the age of 30 have a 45% likelihood. Given your gender and age, how likely is it that you will be transported to the inside of an alien ship?"
   ]
  },
  {
   "cell_type": "code",
   "execution_count": null,
   "metadata": {
    "collapsed": false
   },
   "outputs": [],
   "source": [
    "# Your answer here\n"
   ]
  },
  {
   "cell_type": "markdown",
   "metadata": {},
   "source": [
    "Q5. Work out the probability of getting a score of greater than 75 on a test using the data shown in the table below:"
   ]
  },
  {
   "cell_type": "code",
   "execution_count": null,
   "metadata": {
    "collapsed": false
   },
   "outputs": [],
   "source": [
    "#Run Me\n",
    "import numpy as np\n",
    "import pandas as pd\n",
    "\n",
    "df = pd.DataFrame({'Count' : [2,2,10,8,6,4,1], 'Score': [50,65,70,75,85,90,95]})\n",
    "df.index = df['Score']\n",
    "df"
   ]
  },
  {
   "cell_type": "code",
   "execution_count": null,
   "metadata": {
    "collapsed": true
   },
   "outputs": [],
   "source": [
    "# Your answer here\n"
   ]
  },
  {
   "cell_type": "markdown",
   "metadata": {},
   "source": [
    "## Permutations and Combinations"
   ]
  },
  {
   "cell_type": "markdown",
   "metadata": {},
   "source": [
    "Calculate the answers to these problems, selecting the correct approach of either permutation or combination in Python.\n",
    "\n",
    "#### Tip: use math.factorial() function to help with calculations."
   ]
  },
  {
   "cell_type": "markdown",
   "metadata": {
    "collapsed": true
   },
   "source": [
    "Q6. How many different ways could you arrange a bouquet of 12 different flowers?"
   ]
  },
  {
   "cell_type": "code",
   "execution_count": null,
   "metadata": {
    "collapsed": true
   },
   "outputs": [],
   "source": [
    "# Your answer here\n"
   ]
  },
  {
   "cell_type": "markdown",
   "metadata": {},
   "source": [
    "Q7. Using a normal deck of 52 playing cards, how many different options are there for getting 6 cards that are Spades?"
   ]
  },
  {
   "cell_type": "code",
   "execution_count": null,
   "metadata": {
    "collapsed": true
   },
   "outputs": [],
   "source": [
    "# Your answer here\n"
   ]
  },
  {
   "cell_type": "markdown",
   "metadata": {},
   "source": [
    "Q8. You are playing a guessing game (death match). Your have a score of 3 points, your opponent has 5. You have both played your last official turn, but due to misconduct by the other player, you have been awarded a bonus six turns before the game ends, giving you the opportunity for a comeback. If your total score is more than 5 by the end of your bonus turns, you win the game.\n",
    "\n",
    "Assuming there is no penalty for a wrong answer, how many different ways are there to beat your opponent and save your own life?"
   ]
  },
  {
   "cell_type": "code",
   "execution_count": null,
   "metadata": {
    "collapsed": true
   },
   "outputs": [],
   "source": [
    "# Your answer here\n"
   ]
  },
  {
   "cell_type": "markdown",
   "metadata": {},
   "source": [
    "Q9. Martha, Mary, Monkey, and Mozilla all went together to get a slice of cake from the bakery downtown. Mary and Mozilla like chocolate the best, whereas Martha and Monkey hate chocolate and would never choose it. There is only one piece of chocolate cake left. \n",
    "\n",
    "If Mozilla doesn't get chocolate, he will have a meltdown. What is the total number of ways that the four friends can queue at the bakery that won't result in Mozilla crashing through a stack of pastries?"
   ]
  },
  {
   "cell_type": "code",
   "execution_count": null,
   "metadata": {
    "collapsed": true
   },
   "outputs": [],
   "source": [
    "# Your answer here\n"
   ]
  },
  {
   "cell_type": "markdown",
   "metadata": {},
   "source": [
    "Q10. You have 5 Red cups, 5 Green cups and 5 Blue cups. How many ways can you get 2 cups that have the same color, with another 2 cups that share a color also (but a different color than the first 2 cups)?\n"
   ]
  },
  {
   "cell_type": "code",
   "execution_count": null,
   "metadata": {
    "collapsed": true
   },
   "outputs": [],
   "source": [
    "# Your answer here\n"
   ]
  },
  {
   "cell_type": "markdown",
   "metadata": {},
   "source": [
    "## Dependence and Independence"
   ]
  },
  {
   "cell_type": "markdown",
   "metadata": {},
   "source": [
    "Calculate the answers to these problems in Python, identifying whether the events are dependent or independent. "
   ]
  },
  {
   "cell_type": "markdown",
   "metadata": {},
   "source": [
    "Q11. You have 41 Black stones and 40 White stones. What's the probability of 7 randomly selected stones all being White (assuming the stones are not replaced)? "
   ]
  },
  {
   "cell_type": "code",
   "execution_count": null,
   "metadata": {
    "collapsed": true
   },
   "outputs": [],
   "source": [
    "# Your answer here\n"
   ]
  },
  {
   "cell_type": "markdown",
   "metadata": {},
   "source": [
    "Q12. John is trying to persuade Jim to go to a Planet of the Apes movie marathon. Jim says that his chances of deciding to go are 60% if Karen isn't going. However, if she is going, then Jim's chances of going increase to 90%. Karen says that she hasn't made up her mind. She has said that, at this point, she is equally likely to go as to not go.\n",
    "\n",
    "What are the chances that Jim attends the marathon and Karen does not?"
   ]
  },
  {
   "cell_type": "code",
   "execution_count": null,
   "metadata": {
    "collapsed": true
   },
   "outputs": [],
   "source": [
    "# Your answer here\n"
   ]
  },
  {
   "cell_type": "markdown",
   "metadata": {},
   "source": [
    "Q13. A puzzle store owner is waiting on a shipment of new puzzles to put on Puzzle-palooza. There is a 60% chance that the stack of puzzles will arrive on time. If the puzzles don't arrive on time, there is a 20% chance that event can proceed.\n",
    "\n",
    "What are the chances that the event will be cancelled if the shipment doesn't arrive?"
   ]
  },
  {
   "cell_type": "code",
   "execution_count": null,
   "metadata": {
    "collapsed": true
   },
   "outputs": [],
   "source": [
    "# Your answer here\n"
   ]
  },
  {
   "cell_type": "markdown",
   "metadata": {},
   "source": [
    "Q14. What are the chances of drawing the Queen of Diamonds from a 52 card playing deck if we have just flipped tails twice on two coin tosses, and rolled a 1 on ten-sided dice?"
   ]
  },
  {
   "cell_type": "code",
   "execution_count": null,
   "metadata": {
    "collapsed": true
   },
   "outputs": [],
   "source": [
    "# Your answer here\n"
   ]
  },
  {
   "cell_type": "markdown",
   "metadata": {},
   "source": [
    "Q15. The probability of getting a rose is 1/4, and the probability of getting a carnation is 1/6. What are the chances of getting both a rose, given that a carnation if the probability of getting a rose and a carnation is 1/21?"
   ]
  },
  {
   "cell_type": "code",
   "execution_count": null,
   "metadata": {
    "collapsed": true
   },
   "outputs": [],
   "source": [
    "# Your answer here\n"
   ]
  }
 ],
 "metadata": {
  "kernelspec": {
   "display_name": "Python [Root]",
   "language": "python",
   "name": "Python [Root]"
  },
  "language_info": {
   "codemirror_mode": {
    "name": "ipython",
    "version": 3
   },
   "file_extension": ".py",
   "mimetype": "text/x-python",
   "name": "python",
   "nbconvert_exporter": "python",
   "pygments_lexer": "ipython3",
   "version": "3.5.2"
  }
 },
 "nbformat": 4,
 "nbformat_minor": 0
}
